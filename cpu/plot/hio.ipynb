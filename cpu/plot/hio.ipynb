{
 "cells": [
  {
   "cell_type": "markdown",
   "metadata": {},
   "source": [
    "# Comparison with different CPU Frequencies"
   ]
  },
  {
   "cell_type": "markdown",
   "metadata": {},
   "source": [
    "# Parsing and Plotting Functions"
   ]
  },
  {
   "cell_type": "code",
   "execution_count": 27,
   "metadata": {
    "collapsed": false
   },
   "outputs": [],
   "source": [
    "#parse bandwidth result, each test is repeated 3 times\n",
    "import numpy as np\n",
    "import matplotlib.pyplot as plt\n",
    "import pandas as pd\n",
    "%matplotlib inline \n",
    "def parse_line_cpu(txtf):\n",
    "    f = open(txtf, 'r')\n",
    "    x = f.read().split('\\n')\n",
    "    x=filter(None,x)\n",
    "    x = [int(i.split(':')[1]) for i in x]\n",
    "    x=np.asarray(x,dtype='float')\n",
    "    return x\n",
    "def parse_line_io(txtf):\n",
    "    f = open(txtf, 'r')\n",
    "    x = f.read().split('\\n')\n",
    "    x=filter(None,x)\n",
    "    x=np.asarray(x)[2:]\n",
    "    x=np.asarray(x,dtype='float')\n",
    "    return x\n",
    "#parse dd perf result\n",
    "def parse_line_perf(txtf):\n",
    "    f = open(txtf, 'r')\n",
    "    x = f.read().split('\\n')\n",
    "    x=filter(None,x)\n",
    "    ax=list()\n",
    "    for ix in x:\n",
    "        if '#' in ix:\n",
    "            ix = ix.split('#')[1].strip().split(' ')[0].strip('%')\n",
    "            ax.append(ix)\n",
    "    ax=np.asarray(ax,dtype='float')\n",
    "    return ax\n",
    "def parse_line_perf_raw(txtf):\n",
    "    f = open(txtf, 'r')\n",
    "    x = f.read().split('\\n')\n",
    "    x=filter(None,x)\n",
    "    ax=list()\n",
    "    for ix in x:\n",
    "        if '#' in ix:\n",
    "            ix = ix.split('#')[0].strip().split(' ')[0].strip('%')\n",
    "            ax.append(ix)\n",
    "    ax=np.asarray(ax,dtype='float')\n",
    "    return ax\n",
    "# Linear Fit and Plot\n",
    "def plt_fit(has_cpu1,has_io_avg,xlabel=None,ylabel=None):\n",
    "    from scipy import stats\n",
    "    import sys\n",
    "    has_cpu1=has_cpu1\n",
    "    has_io_avg=has_io_avg\n",
    "    slope, intercept, r_value, p_value, std_err = stats.linregress(has_cpu1,has_io_avg)\n",
    "    print 'slope:%.2f'%slope\n",
    "    print 'intercept:%.2f'%intercept\n",
    "    print 'r-square:%.2f'%(r_value*r_value)\n",
    "    predict_y = slope*has_cpu1+intercept\n",
    "    x=has_cpu1\n",
    "    y=has_io_avg\n",
    "    pred_error = y - predict_y\n",
    "    degrees_of_freedom = len(x) - 2\n",
    "    residual_std_error = np.sqrt(np.sum(pred_error**2) / degrees_of_freedom)\n",
    "    # Plotting\n",
    "    plt.plot(x, y, 'o',label='data')\n",
    "    plt.xlabel(xlabel)\n",
    "    plt.ylabel(ylabel)\n",
    "    plt.plot(x, predict_y, 'k-',label='fitting,r^2=%.2f'%(r_value*r_value))\n",
    "    plt.legend(loc='upper left')\n",
    "    plt.show()\n",
    "    return slope,intercept,r_value*r_value"
   ]
  },
  {
   "cell_type": "markdown",
   "metadata": {},
   "source": [
    "# Data Loading and DataFrame Construction Functions"
   ]
  },
  {
   "cell_type": "code",
   "execution_count": 6,
   "metadata": {
    "collapsed": false
   },
   "outputs": [],
   "source": [
    "def load_data(knl_perf_f,has_perf_f,knl_cpu_f,has_cpu_f,has_io_f,knl_io_f,raw):\n",
    "    #parse all files\n",
    "    knl_cpu=parse_line_cpu(knl_cpu_f)\n",
    "    has_cpu=parse_line_cpu(has_cpu_f)\n",
    "    if raw==1:\n",
    "        knl_perfs=parse_line_perf_raw(knl_perf_f)\n",
    "        has_perfs=parse_line_perf_raw(has_perf_f)\n",
    "    else:\n",
    "        knl_perfs=parse_line_perf(knl_perf_f)\n",
    "        has_perfs=parse_line_perf(has_perf_f)        \n",
    "    has_io=parse_line_io(has_io_f)\n",
    "    knl_io=parse_line_io(knl_io_f)\n",
    "\n",
    "    #reshaping io and perfs\n",
    "    knl_perfs=knl_perfs.reshape(-1,8) # there are 8 columns in the perf result, e.g., IPC, context-switch, etc\n",
    "    has_perfs=has_perfs.reshape(-1,8)\n",
    "\n",
    "    #calculating mean/max/min\n",
    "    import numpy as np\n",
    "    for x in range(len(knl_io)):\n",
    "        if knl_io[x] < 90:\n",
    "            knl_io[x]=knl_io[x]*1024\n",
    "    for x in range(len(has_io)):\n",
    "        if has_io[x] < 90:\n",
    "            has_io[x]=has_io[x]*1024\n",
    "    import pandas as pd\n",
    "    df_knl=pd.DataFrame(knl_perfs)\n",
    "    df_has=pd.DataFrame(has_perfs)\n",
    "    df_knl.columns=['CPUuti','Contxtsw',\n",
    "                    'cpumig','pageft',\n",
    "                    'ClockRate','IPC','branch','branchmis']\n",
    "    df_has.columns=['CPUuti','Contxtsw',\n",
    "                    'cpumig','pageft',\n",
    "                    'ClockRate','IPC','branch','branchmis']\n",
    "\n",
    "    df_knl_cpu=pd.DataFrame({'userset':knl_cpu})\n",
    "    df_knl=df_knl.join(df_knl_cpu)\n",
    "\n",
    "    df_has_cpu=pd.DataFrame({'userset':has_cpu})\n",
    "    df_has=df_has.join(df_has_cpu)\n",
    "\n",
    "    df_knl_io=pd.DataFrame({'io':knl_io})\n",
    "    df_knl=df_knl.join(df_knl_io)\n",
    "    df_has_io=pd.DataFrame({'io':has_io})\n",
    "    df_has=df_has.join(df_has_io)\n",
    "    df_has['userset']=df_has['userset'].apply(lambda x : x/1000000.0)\n",
    "    df_knl['userset']=df_knl['userset'].apply(lambda x : x/1000000.0)\n",
    "    return df_has,df_knl"
   ]
  },
  {
   "cell_type": "markdown",
   "metadata": {},
   "source": [
    "# Analyze the Data from the test of 'dd to cscratch'"
   ]
  },
  {
   "cell_type": "code",
   "execution_count": 7,
   "metadata": {
    "collapsed": false
   },
   "outputs": [],
   "source": [
    "#log files, perf detials:\n",
    "knl_perf_f=\"../log/dd_cscratch/knl.err\"\n",
    "has_perf_f=\"../log/dd_cscratch/haswell.err\"\n",
    "#user specified cpu scaling freqs\n",
    "knl_cpu_f='../log/dd_cscratch/cpu_knl.txt'\n",
    "has_cpu_f='../log/dd_cscratch/cpu_has.txt'\n",
    "#observed io bw\n",
    "has_io_f='../log/dd_cscratch/haswell.3711608.bw'\n",
    "knl_io_f='../log/dd_cscratch/knl.3711609.bw'\n",
    "raw=1\n",
    "(df_has_raw,df_knl_raw)=load_data(knl_perf_f,has_perf_f,knl_cpu_f,has_cpu_f,has_io_f,knl_io_f,raw)\n",
    "raw=0\n",
    "(df_has,df_knl)=load_data(knl_perf_f,has_perf_f,knl_cpu_f,has_cpu_f,has_io_f,knl_io_f,raw)\n",
    "df_knl_same=df_knl[(df_knl['userset'] <=1.4) & (df_knl['userset'] >=1.2)]\n",
    "df_has_same=df_has[(df_has['userset'] <=1.4) & (df_has['userset'] >=1.2)]"
   ]
  },
  {
   "cell_type": "code",
   "execution_count": 62,
   "metadata": {
    "collapsed": false
   },
   "outputs": [
    {
     "data": {
      "text/plain": [
       "2.351694915254237"
      ]
     },
     "execution_count": 62,
     "metadata": {},
     "output_type": "execute_result"
    }
   ],
   "source": [
    "df_has_same['IPC'].mean()/df_knl_same['IPC'].mean()"
   ]
  },
  {
   "cell_type": "code",
   "execution_count": 64,
   "metadata": {
    "collapsed": false
   },
   "outputs": [
    {
     "name": "stdout",
     "output_type": "stream",
     "text": [
      "1.18787878788 1.12 1.28\n",
      "0.5325 0.52 0.55\n"
     ]
    }
   ],
   "source": [
    "print df_has['IPC'].mean(),df_has['IPC'].min(),df_has['IPC'].max()\n",
    "print df_knl['IPC'].mean(),df_knl['IPC'].min(),df_knl['IPC'].max()"
   ]
  },
  {
   "cell_type": "code",
   "execution_count": 61,
   "metadata": {
    "collapsed": false
   },
   "outputs": [
    {
     "data": {
      "text/plain": [
       "10    1.4\n",
       "11    1.3\n",
       "12    1.2\n",
       "Name: ClockRate, dtype: float64"
      ]
     },
     "execution_count": 61,
     "metadata": {},
     "output_type": "execute_result"
    },
    {
     "data": {
      "image/png": "[encoded data removed]",
      "text/plain": [
       "<matplotlib.figure.Figure at 0x7fb2e5359b90>"
      ]
     },
     "metadata": {},
     "output_type": "display_data"
    }
   ],
   "source": [
    "df_has_same_mean=df_has_same.groupby(df_has_same.index / 3).mean()\n",
    "df_knl_same_mean=df_knl_same.groupby(df_knl_same.index / 3).mean()\n",
    "df_has_mean=pd.to_numeric(df_has_same_mean['IPC'])\n",
    "df_knl_mean=pd.to_numeric(df_knl_same_mean['IPC'])\n",
    "df_has_cpu_mean=pd.to_numeric(df_has_same_mean['ClockRate']).apply(lambda x : round(x,2))\n",
    "df_knl_cpu_mean=pd.to_numeric(df_knl_same_mean['ClockRate']).apply(lambda x : round(x,2))\n",
    "plt.xlabel('CPU Frequencies')\n",
    "plt.ylabel('IPC')\n",
    "plt.plot(df_has_cpu_mean,df_has_mean,'o-',label=\"Haswell\")\n",
    "plt.plot(df_has_cpu_mean,df_knl_mean,'^-',label=\"KNL\")\n",
    "plt.legend(loc='left')\n",
    "plt.xticks(df_has_cpu_mean)\n",
    "plt.xlim(1.18,1.41)\n",
    "df_has_cpu_mean"
   ]
  },
  {
   "cell_type": "markdown",
   "metadata": {},
   "source": [
    "# IO~ClockRate on Haswell"
   ]
  },
  {
   "cell_type": "code",
   "execution_count": 9,
   "metadata": {
    "collapsed": false
   },
   "outputs": [
    {
     "name": "stdout",
     "output_type": "stream",
     "text": [
      "slope:278.29\n",
      "intercept:286.11\n",
      "r-square:0.79\n"
     ]
    },
    {
     "data": {
      "image/png": "[encoded data removed]",
      "text/plain": [
       "<matplotlib.figure.Figure at 0x7fb2e87fd610>"
      ]
     },
     "metadata": {},
     "output_type": "display_data"
    },
    {
     "data": {
      "text/plain": [
       "(278.2908908978855, 286.1092692292163, 0.78677263234714034)"
      ]
     },
     "execution_count": 9,
     "metadata": {},
     "output_type": "execute_result"
    }
   ],
   "source": [
    "plt_fit(df_has['ClockRate'][3:],df_has['io'][3:],'ClockRate-Haswell(GHz)','IO Bandwidth (MB/s)')"
   ]
  },
  {
   "cell_type": "code",
   "execution_count": 10,
   "metadata": {
    "collapsed": false
   },
   "outputs": [
    {
     "name": "stdout",
     "output_type": "stream",
     "text": [
      "slope:201.30\n",
      "intercept:415.31\n",
      "r-square:0.76\n"
     ]
    },
    {
     "data": {
      "image/png": "[encoded data removed]",
      "text/plain": [
       "<matplotlib.figure.Figure at 0x7fb2e61fbc10>"
      ]
     },
     "metadata": {},
     "output_type": "display_data"
    },
    {
     "data": {
      "text/plain": [
       "(201.30315647922004, 415.31325037589676, 0.76211345180699785)"
      ]
     },
     "execution_count": 10,
     "metadata": {},
     "output_type": "execute_result"
    }
   ],
   "source": [
    "plt_fit(df_has['ClockRate'],df_has['io'],'ClockRate-Haswell(GHz)','IO Bandwidth (MB/s)')"
   ]
  },
  {
   "cell_type": "markdown",
   "metadata": {},
   "source": [
    "# IO~ClockRate on KNL"
   ]
  },
  {
   "cell_type": "code",
   "execution_count": 125,
   "metadata": {
    "collapsed": false
   },
   "outputs": [
    {
     "name": "stdout",
     "output_type": "stream",
     "text": [
      "slope:184.33\n",
      "intercept:41.28\n",
      "r-square:0.95\n"
     ]
    },
    {
     "data": {
      "image/png": "[encoded data removed]",
      "text/plain": [
       "<matplotlib.figure.Figure at 0x7fbebfcf6d90>"
      ]
     },
     "metadata": {},
     "output_type": "display_data"
    },
    {
     "data": {
      "text/plain": [
       "(184.33333333333331, 41.282333333333355, 0.95220139494333023)"
      ]
     },
     "execution_count": 125,
     "metadata": {},
     "output_type": "execute_result"
    }
   ],
   "source": [
    "plt_fit(df_knl['ClockRate'][3:],df_knl['io'][3:],'ClockRate-Knl (GHz)','IO Bandwidth(MB/s)')"
   ]
  },
  {
   "cell_type": "code",
   "execution_count": 12,
   "metadata": {
    "collapsed": false
   },
   "outputs": [
    {
     "name": "stdout",
     "output_type": "stream",
     "text": [
      "slope:172.95\n",
      "intercept:54.19\n",
      "r-square:0.94\n"
     ]
    },
    {
     "data": {
      "image/png": "[encoded data removed]",
      "text/plain": [
       "<matplotlib.figure.Figure at 0x7fb2e5fe6b50>"
      ]
     },
     "metadata": {},
     "output_type": "display_data"
    },
    {
     "data": {
      "text/plain": [
       "(172.95238095238096, 54.192126984126929, 0.93910171103563933)"
      ]
     },
     "execution_count": 12,
     "metadata": {},
     "output_type": "execute_result"
    }
   ],
   "source": [
    "plt_fit(df_knl['ClockRate'],df_knl['io']\n",
    "        ,'ClockRate-Knl (GHz)','IO Bandwidth(MB/s)')"
   ]
  },
  {
   "cell_type": "code",
   "execution_count": 126,
   "metadata": {
    "collapsed": false
   },
   "outputs": [],
   "source": [
    "dic_has={}\n",
    "dic_knl={}\n",
    "dic_hasknl={}\n",
    "frames=[df_knl_same,df_has_same]\n",
    "df_hasknl=pd.concat(frames,ignore_index=True)\n",
    "def plot_same():  # select the cpu-freq that both kNL and Haswell have, e..g, 1.4Ghz, then fit it with it's IO\n",
    "    for icl in df_has_same.columns:\n",
    "        (k,b,rs)=plt_fit(df_has_same[icl],df_has_same['io'],icl+'-haswell','IO Bandwidth')\n",
    "        dic_has[icl]=rs\n",
    "        (k,b,rs)=plt_fit(df_knl_same[icl],df_knl_same['io'],icl+'-knl','IO Bandwidth')\n",
    "        dic_knl[icl]=rs\n",
    "        (k,b,rs)=plt_fit(df_hasknl[icl],df_hasknl['io'],icl+'-hasknl','IO Bandwidth')\n",
    "        dic_hasknl[icl]=rs\n",
    "    print \"HASWELL\"\n",
    "    for key, value in sorted(dic_has.iteritems(), key=lambda (k,v): (v,k)):\n",
    "        print \"%s\\t\\t%.2f\" % (key, value)\n",
    "    print ('\\n')\n",
    "    print \"KNL\"\n",
    "    for key, value in sorted(dic_knl.iteritems(), key=lambda (k,v): (v,k)):\n",
    "        print \"%s\\t\\t%.2f\" % (key, value)\n",
    "    print ('\\n')\n",
    "    print \"HASWELL-KNL\"\n",
    "    for key, value in sorted(dic_hasknl.iteritems(), key=lambda (k,v): (v,k)):\n",
    "        print \"%s\\t\\t%.2f\" % (key, value)\n",
    "dic_has={}\n",
    "dic_knl={}\n",
    "dic_hasknl={}\n",
    "frames=[df_knl,df_has]\n",
    "df_hasknl=pd.concat(frames,ignore_index=True)\n",
    "def plot_all(): # fit and plot all data for both knl and haswell\n",
    "    for icl in df_has.columns:\n",
    "        (k,b,rs)=plt_fit(df_has[icl],df_has['io'],icl+'-haswell','IO Bandwidth')\n",
    "        dic_has[icl]=rs\n",
    "        (k,b,rs)=plt_fit(df_knl[icl],df_knl['io'],icl+'-knl','IO Bandwidth')\n",
    "        dic_knl[icl]=rs\n",
    "        (k,b,rs)=plt_fit(df_hasknl[icl],df_hasknl['io'],icl+'-hasknl','IO Bandwidth')\n",
    "        dic_hasknl[icl]=rs\n",
    "    print \"HASWELL\"\n",
    "    for key, value in sorted(dic_has.iteritems(), key=lambda (k,v): (v,k)):\n",
    "        print \"%s\\t\\t%.2f\" % (key, value)\n",
    "    print ('\\n')\n",
    "    print \"KNL\"\n",
    "    for key, value in sorted(dic_knl.iteritems(), key=lambda (k,v): (v,k)):\n",
    "        print \"%s\\t\\t%.2f\" % (key, value)\n",
    "    print ('\\n')\n",
    "    print \"HASWELL-KNL\"\n",
    "    for key, value in sorted(dic_hasknl.iteritems(), key=lambda (k,v): (v,k)):\n",
    "        print \"%s\\t\\t%.2f\" % (key, value)"
   ]
  },
  {
   "cell_type": "markdown",
   "metadata": {},
   "source": [
    "# Regression Analysis "
   ]
  },
  {
   "cell_type": "code",
   "execution_count": 127,
   "metadata": {
    "collapsed": false
   },
   "outputs": [
    {
     "data": {
      "text/plain": [
       "PCA(copy=True, n_components=4, whiten=False)"
      ]
     },
     "execution_count": 127,
     "metadata": {},
     "output_type": "execute_result"
    }
   ],
   "source": [
    "#df_hasknl\n",
    "from sklearn.decomposition import PCA\n",
    "pca =PCA(n_components=4)\n",
    "pca.fit(df_hasknl)\n",
    "#IPC + cpu-mig(K/sec) + pageft(K/sec) + ClockRate(Ghz) + branch(M/sec) + branchmis(%)"
   ]
  },
  {
   "cell_type": "markdown",
   "metadata": {},
   "source": [
    "# Regression KNL and Haswell together"
   ]
  },
  {
   "cell_type": "code",
   "execution_count": 128,
   "metadata": {
    "collapsed": false
   },
   "outputs": [],
   "source": [
    "import statsmodels.api as sm\n",
    "from patsy import dmatrices\n",
    "y, X = dmatrices('io ~ IPC + pageft + ClockRate + branch', data=df_hasknl, return_type='dataframe')\n",
    "mod = sm.OLS(y, X)\n",
    "result=mod.fit()\n",
    "#print result.summary()"
   ]
  },
  {
   "cell_type": "markdown",
   "metadata": {},
   "source": [
    "# Regression Haswell only"
   ]
  },
  {
   "cell_type": "code",
   "execution_count": 129,
   "metadata": {
    "collapsed": false
   },
   "outputs": [],
   "source": [
    "y, X = dmatrices('io ~ IPC + pageft + ClockRate + branch', data=df_has, return_type='dataframe')\n",
    "mod = sm.OLS(y, X)\n",
    "result=mod.fit()\n",
    "#print result.summary()"
   ]
  },
  {
   "cell_type": "markdown",
   "metadata": {},
   "source": [
    "# Regression KNL only"
   ]
  },
  {
   "cell_type": "code",
   "execution_count": 130,
   "metadata": {
    "collapsed": false
   },
   "outputs": [],
   "source": [
    "y, X = dmatrices('io ~ IPC + pageft + ClockRate + branch', data=df_knl, return_type='dataframe')\n",
    "mod = sm.OLS(y, X)\n",
    "result=mod.fit()\n",
    "#print result.summary()"
   ]
  },
  {
   "cell_type": "code",
   "execution_count": 131,
   "metadata": {
    "collapsed": false
   },
   "outputs": [],
   "source": [
    "df_has_mean=pd.to_numeric(df_has.groupby(df_has.index / 3).mean()['io'])\n",
    "df_has_max=pd.to_numeric(df_has.groupby(df_has.index / 3).max()['io'])\n",
    "df_has_min=pd.to_numeric(df_has.groupby(df_has.index / 3).min()['io'])\n",
    "df_knl_mean=pd.to_numeric(df_knl.groupby(df_knl.index / 3).mean()['io'])\n",
    "df_knl_max=pd.to_numeric(df_knl.groupby(df_knl.index / 3).max()['io'])\n",
    "df_knl_min=pd.to_numeric(df_knl.groupby(df_knl.index / 3).min()['io'])"
   ]
  },
  {
   "cell_type": "markdown",
   "metadata": {},
   "source": [
    "# Plot the date tegother "
   ]
  },
  {
   "cell_type": "code",
   "execution_count": 132,
   "metadata": {
    "collapsed": false
   },
   "outputs": [],
   "source": [
    "#r-sqr>0.61\n",
    "#Haswell-KNL: pagefalut, branch, branchmiss, IPC,\n",
    "#KNL: branch, clockrate,pagefault, IPC\n",
    "#HASWELL: pagefault, branch, Clockrate, IPC"
   ]
  },
  {
   "cell_type": "code",
   "execution_count": 200,
   "metadata": {
    "collapsed": false
   },
   "outputs": [
    {
     "data": {
      "text/plain": [
       "<matplotlib.legend.Legend at 0x7fdf0a1646d0>"
      ]
     },
     "execution_count": 200,
     "metadata": {},
     "output_type": "execute_result"
    },
    {
     "data": {
      "image/png": "[encoded data removed]",
      "text/plain": [
       "<matplotlib.figure.Figure at 0x7fdf1072b810>"
      ]
     },
     "metadata": {},
     "output_type": "display_data"
    }
   ],
   "source": [
    "all_cpu=[3.38, 2.2999999999999998, 2.2000000000000002, \n",
    "         2.1000000000000001, 2.0, 1.8999999999999999, \n",
    "         1.8, 1.7, 1.6000000000000001, 1.501, 1.50,\n",
    "         1.3999999999999999, 1.3, 1.2,1.1000000000000001, 1.0]\n",
    "has_x=[0,1,2,3,4,5,6,7,8,9,11,12,13]\n",
    "knl_x=[9,11,12,13,14,15]\n",
    "plt.errorbar(knl_x,df_knl_mean, [df_knl_mean-df_knl_min, df_knl_max-df_knl_mean], fmt='--o', label=\"KNL\")\n",
    "plt.errorbar(has_x,df_has_mean, [df_has_mean-df_has_min, df_has_max-df_has_mean], fmt='--o', label=\"Haswell\")\n",
    "#plt.xticks(knl_x,knl_labels)\n",
    "all_labels=[\"{0:.1f}\".format(x) for x in all_cpu]\n",
    "all_labels[9]=1.501\n",
    "plt.xticks(range(16),all_labels)\n",
    "plt.xlabel('CPU Frequencies, GHz, KNL: 1.0-1.501, Haswell: 1.2-3.38')\n",
    "plt.ylabel('IO Bandwidth, MB/s')\n",
    "plt.title('Single Core IO Bandwidth on CSCRATCH')\n",
    "plt.grid(True)\n",
    "plt.ylim(200,1100)\n",
    "plt.legend()"
   ]
  },
  {
   "cell_type": "code",
   "execution_count": null,
   "metadata": {
    "collapsed": false
   },
   "outputs": [],
   "source": [
    "df_has=df_has[3:]\n",
    "df_knl=df_knl[3:]\n",
    "df_has_mean=pd.to_numeric(df_has.groupby(df_has.index / 3).mean()['ClockRate'])\n",
    "df_has_max=pd.to_numeric(df_has.groupby(df_has.index / 3).max()['ClockRate'])\n",
    "df_has_min=pd.to_numeric(df_has.groupby(df_has.index / 3).min()['ClockRate'])\n",
    "df_knl_mean=pd.to_numeric(df_knl.groupby(df_knl.index / 3).mean()['ClockRate'])\n",
    "df_knl_max=pd.to_numeric(df_knl.groupby(df_knl.index / 3).max()['ClockRate'])\n",
    "df_knl_min=pd.to_numeric(df_knl.groupby(df_knl.index / 3).min()['ClockRate'])\n",
    "\n",
    "#all_cpu=[3.38, 2.2999999999999998, 2.2000000000000002, \n",
    "#         2.1000000000000001, 2.0, 1.8999999999999999, \n",
    "#         1.8, 1.7, 1.6000000000000001, 1.501, 1.50,\n",
    "#         1.3999999999999999, 1.3, 1.2,1.1000000000000001, 1.0]\n",
    "#has_x=[0,1,2,3,4,5,6,7,8,9,11,12,13]\n",
    "#knl_x=[9,11,12,13,14,15]\n",
    "all_cpu=[2.2999999999999998, 2.2000000000000002, \n",
    "         2.1000000000000001, 2.0, 1.8999999999999999, \n",
    "         1.8, 1.7, 1.6000000000000001, 1.50,\n",
    "         1.3999999999999999, 1.3, 1.2,1.1000000000000001, 1.0]\n",
    "#df_has['userset'].indexof()\n",
    "plt.errorbar(knl_x,df_knl_mean, [df_knl_mean-df_knl_min, df_knl_max-df_knl_mean], fmt='--o', label=\"KNL\")\n",
    "plt.errorbar(has_x,df_has_mean, [df_has_mean-df_has_min, df_has_max-df_has_mean], fmt='--o', label=\"Haswell\")\n",
    "#plt.xticks(knl_x,knl_labels)\n",
    "all_labels=[\"{0:.1f}\".format(x) for x in all_cpu]\n",
    "all_labels[9]=1.501\n",
    "plt.xticks(range(16),all_labels)\n",
    "plt.xlabel('CPU Frequencies, GHz, KNL: 1.0-1.501, Haswell: 1.2-3.38')\n",
    "plt.ylabel('Cycles')\n",
    "plt.title('Single Core IO Cycles on CSCRATCH')\n",
    "plt.grid(True)\n",
    "#plt.ylim(200,1100)\n",
    "plt.legend()"
   ]
  },
  {
   "cell_type": "code",
   "execution_count": 136,
   "metadata": {
    "collapsed": false
   },
   "outputs": [],
   "source": [
    "has_cpu=df_has.groupby(df_has.index / 3).mean()['ClockRate'].apply(lambda x : round(x,1))\n",
    "knl_cpu=df_knl.groupby(df_knl.index / 3).mean()['ClockRate'].apply(lambda x: round(x,1))"
   ]
  },
  {
   "cell_type": "code",
   "execution_count": 202,
   "metadata": {
    "collapsed": false,
    "scrolled": true
   },
   "outputs": [],
   "source": [
    "#print has_k,has_b,knl_k,knl_b\n",
    "cpu_same=[1.2,1.3,1.4]\n",
    "a=0\n",
    "#for ic in cpu_same:\n",
    "#    a+=(has_k*ic+has_b)/(knl_k*ic+knl_b)\n",
    "#print \"With same CPU frequencies, the IO performance ratio between Haswell and KNL: %.2f\"%(a/3)\n",
    "#print \"The peak single core IO performance ratio between Haswell and KNL: %.2f\"%(max(has_io_avg)/max(knl_io_avg))"
   ]
  },
  {
   "cell_type": "markdown",
   "metadata": {},
   "source": [
    "## Conclusion 1: KNL's single IO performance is more correlated with CPU frequencies than Haswell, r-square 0.94> 0.76\n",
    "## Conclusion 2: With same CPU frequencies, the IO performance ratio between Haswell and KNL: 2.26\n",
    "## Conclusion 3: The single core peak IO performance ratio between Haswell and KNL: 3.32"
   ]
  },
  {
   "cell_type": "markdown",
   "metadata": {},
   "source": [
    "\n"
   ]
  },
  {
   "cell_type": "code",
   "execution_count": 59,
   "metadata": {
    "collapsed": true
   },
   "outputs": [],
   "source": [
    "# Difference of Instructions, between writing to fs vs. dev/null"
   ]
  },
  {
   "cell_type": "code",
   "execution_count": 24,
   "metadata": {
    "collapsed": false
   },
   "outputs": [
    {
     "name": "stdout",
     "output_type": "stream",
     "text": [
      "/global/u1/j/jialin/heterogeneous-IO/cpu/plot\n"
     ]
    }
   ],
   "source": [
    "cd plot"
   ]
  },
  {
   "cell_type": "code",
   "execution_count": 150,
   "metadata": {
    "collapsed": false
   },
   "outputs": [],
   "source": [
    "#log files, perf detials:\n",
    "knl_perf_f=\"../log/dd_null//knl.err\"\n",
    "has_perf_f=\"../log/dd_null/has.err\"\n",
    "#user specified cpu scaling freqs\n",
    "knl_cpu_f='../log/dd_null/cpu_knl.txt'\n",
    "has_cpu_f='../log/dd_null/cpu_has.txt'\n",
    "#observed io bw\n",
    "has_io_f='../log/dd_null/null.haswell.3827241.bw'\n",
    "knl_io_f='../log/dd_null/null.knl.3827242.bw'\n",
    "raw=1\n",
    "(df_has_null,df_knl_null)=load_data(knl_perf_f,has_perf_f,knl_cpu_f,has_cpu_f,has_io_f,knl_io_f,raw)\n",
    "#df_knl_same=df_knl[(df_knl['userset'] <=1.4) & (df_knl['userset'] >=1.2)]\n",
    "#df_has_same=df_has[(df_has['userset'] <=1.4) & (df_has['userset'] >=1.2)]"
   ]
  },
  {
   "cell_type": "code",
   "execution_count": 151,
   "metadata": {
    "collapsed": false
   },
   "outputs": [],
   "source": [
    "length_null=len(df_has_null)\n",
    "length_cscratch=len(df_has)\n",
    "assert(length_null==length_cscratch)\n",
    "a=np.arange(0,length)"
   ]
  },
  {
   "cell_type": "code",
   "execution_count": 152,
   "metadata": {
    "collapsed": false
   },
   "outputs": [
    {
     "data": {
      "text/plain": [
       "<matplotlib.text.Text at 0x7fbebfe33610>"
      ]
     },
     "execution_count": 152,
     "metadata": {},
     "output_type": "execute_result"
    },
    {
     "data": {
      "image/png": "[encoded data removed]",
      "text/plain": [
       "<matplotlib.figure.Figure at 0x7fbebfcbf790>"
      ]
     },
     "metadata": {},
     "output_type": "display_data"
    }
   ],
   "source": [
    "plt.plot(a,df_has['ClockRate'],'r',label='cscratch')\n",
    "plt.plot(a,df_has_null['ClockRate'],'b',label='null')\n",
    "plt.legend()\n",
    "plt.ylabel('Clock Rate (Ghz)')\n",
    "plt.title('Haswell Freq with dd to null vs. cscratch')"
   ]
  },
  {
   "cell_type": "code",
   "execution_count": 66,
   "metadata": {
    "collapsed": false
   },
   "outputs": [
    {
     "data": {
      "text/plain": [
       "<matplotlib.text.Text at 0x7fbec00fbbd0>"
      ]
     },
     "execution_count": 66,
     "metadata": {},
     "output_type": "execute_result"
    },
    {
     "data": {
      "image/png": "[encoded data removed]",
      "text/plain": [
       "<matplotlib.figure.Figure at 0x7fbec0235b10>"
      ]
     },
     "metadata": {},
     "output_type": "display_data"
    }
   ],
   "source": [
    "plt.plot(a,df_has['IPC'],'r',label='cscratch')\n",
    "plt.plot(a,df_has_null['IPC'],'b',label='null')\n",
    "plt.legend()\n",
    "plt.ylabel('IPC')\n",
    "plt.title('Haswell IPC with dd to null vs. cscratch')"
   ]
  },
  {
   "cell_type": "code",
   "execution_count": 71,
   "metadata": {
    "collapsed": false
   },
   "outputs": [
    {
     "name": "stdout",
     "output_type": "stream",
     "text": [
      "[ 0  1  2  3  4  5  6  7  8  9 10 11 12 13 14 15 16 17]\n"
     ]
    },
    {
     "data": {
      "text/plain": [
       "<matplotlib.text.Text at 0x7fbec0d20e90>"
      ]
     },
     "execution_count": 71,
     "metadata": {},
     "output_type": "execute_result"
    },
    {
     "data": {
      "image/png": "[encoded data removed]",
      "text/plain": [
       "<matplotlib.figure.Figure at 0x7fbec00702d0>"
      ]
     },
     "metadata": {},
     "output_type": "display_data"
    }
   ],
   "source": [
    "length_null=len(df_knl_null)\n",
    "length_cscratch=len(df_knl)\n",
    "assert(length_null==length_cscratch)\n",
    "a=np.arange(0,length_cscratch)\n",
    "print a\n",
    "plt.plot(a,df_knl['IPC'],'r',label='cscratch')\n",
    "plt.plot(a,df_knl_null['IPC'],'b',label='null')\n",
    "plt.legend()\n",
    "plt.ylabel('IPC')\n",
    "plt.title('KNL IPC with dd to null vs. cscratch')"
   ]
  },
  {
   "cell_type": "code",
   "execution_count": 77,
   "metadata": {
    "collapsed": false
   },
   "outputs": [
    {
     "name": "stdout",
     "output_type": "stream",
     "text": [
      "Frequencies Ratio Haswell vs. KNL 1.50021521245\n",
      "IPC Ratio Haswell vs. KNL 2.23166274064\n",
      "Frequencies Ratio Haswell vs. KNL 1.51097583472\n",
      "IPC Ratio Haswell vs. KNL 2.03392504931\n"
     ]
    }
   ],
   "source": [
    "freq_ratio=df_has['ClockRate'].mean()/df_knl['ClockRate'].mean()\n",
    "ipc_ratio=df_has['IPC'].mean()/df_knl['IPC'].mean()\n",
    "print \"Frequencies Ratio Haswell vs. KNL\",freq_ratio\n",
    "print \"IPC Ratio Haswell vs. KNL\",ipc_ratio\n",
    "\n",
    "freq_ratio=df_has_null['ClockRate'].mean()/df_knl_null['ClockRate'].mean()\n",
    "ipc_ratio=df_has_null['IPC'].mean()/df_knl_null['IPC'].mean()\n",
    "print \"Frequencies Ratio Haswell vs. KNL\",freq_ratio\n",
    "print \"IPC Ratio Haswell vs. KNL\",ipc_ratio"
   ]
  },
  {
   "cell_type": "code",
   "execution_count": 156,
   "metadata": {
    "collapsed": false
   },
   "outputs": [
    {
     "data": {
      "text/html": [
       "<div>\n",
       "<table border=\"1\" class=\"dataframe\">\n",
       "  <thead>\n",
       "    <tr style=\"text-align: right;\">\n",
       "      <th></th>\n",
       "      <th>CPUuti</th>\n",
       "      <th>Contxtsw</th>\n",
       "      <th>cpumig</th>\n",
       "      <th>pageft</th>\n",
       "      <th>ClockRate</th>\n",
       "      <th>IPC</th>\n",
       "      <th>branch</th>\n",
       "      <th>branchmis</th>\n",
       "      <th>userset</th>\n",
       "      <th>io</th>\n",
       "    </tr>\n",
       "  </thead>\n",
       "  <tbody>\n",
       "    <tr>\n",
       "      <th>0</th>\n",
       "      <td>6914.772601</td>\n",
       "      <td>563.0</td>\n",
       "      <td>700.0</td>\n",
       "      <td>445.0</td>\n",
       "      <td>2.333481e+10</td>\n",
       "      <td>2.497184e+10</td>\n",
       "      <td>5.187264e+09</td>\n",
       "      <td>6533949.0</td>\n",
       "      <td>2.301</td>\n",
       "      <td>1126.4</td>\n",
       "    </tr>\n",
       "    <tr>\n",
       "      <th>1</th>\n",
       "      <td>6988.875273</td>\n",
       "      <td>674.0</td>\n",
       "      <td>753.0</td>\n",
       "      <td>445.0</td>\n",
       "      <td>2.361114e+10</td>\n",
       "      <td>2.465142e+10</td>\n",
       "      <td>5.133762e+09</td>\n",
       "      <td>6584644.0</td>\n",
       "      <td>2.301</td>\n",
       "      <td>939.0</td>\n",
       "    </tr>\n",
       "    <tr>\n",
       "      <th>2</th>\n",
       "      <td>7042.502610</td>\n",
       "      <td>532.0</td>\n",
       "      <td>753.0</td>\n",
       "      <td>445.0</td>\n",
       "      <td>2.398482e+10</td>\n",
       "      <td>2.493292e+10</td>\n",
       "      <td>5.180137e+09</td>\n",
       "      <td>6494784.0</td>\n",
       "      <td>2.301</td>\n",
       "      <td>1024.0</td>\n",
       "    </tr>\n",
       "    <tr>\n",
       "      <th>3</th>\n",
       "      <td>9277.132157</td>\n",
       "      <td>524.0</td>\n",
       "      <td>739.0</td>\n",
       "      <td>445.0</td>\n",
       "      <td>2.134250e+10</td>\n",
       "      <td>2.496538e+10</td>\n",
       "      <td>5.185612e+09</td>\n",
       "      <td>6451292.0</td>\n",
       "      <td>2.300</td>\n",
       "      <td>861.0</td>\n",
       "    </tr>\n",
       "    <tr>\n",
       "      <th>4</th>\n",
       "      <td>9417.952422</td>\n",
       "      <td>402.0</td>\n",
       "      <td>618.0</td>\n",
       "      <td>445.0</td>\n",
       "      <td>2.166634e+10</td>\n",
       "      <td>2.456858e+10</td>\n",
       "      <td>5.118958e+09</td>\n",
       "      <td>5992783.0</td>\n",
       "      <td>2.300</td>\n",
       "      <td>890.0</td>\n",
       "    </tr>\n",
       "    <tr>\n",
       "      <th>5</th>\n",
       "      <td>9368.048905</td>\n",
       "      <td>273.0</td>\n",
       "      <td>613.0</td>\n",
       "      <td>445.0</td>\n",
       "      <td>2.155184e+10</td>\n",
       "      <td>2.463744e+10</td>\n",
       "      <td>5.131273e+09</td>\n",
       "      <td>5760481.0</td>\n",
       "      <td>2.300</td>\n",
       "      <td>968.0</td>\n",
       "    </tr>\n",
       "    <tr>\n",
       "      <th>6</th>\n",
       "      <td>9802.474382</td>\n",
       "      <td>438.0</td>\n",
       "      <td>129.0</td>\n",
       "      <td>445.0</td>\n",
       "      <td>2.157151e+10</td>\n",
       "      <td>2.498018e+10</td>\n",
       "      <td>5.189615e+09</td>\n",
       "      <td>6477846.0</td>\n",
       "      <td>2.200</td>\n",
       "      <td>863.0</td>\n",
       "    </tr>\n",
       "    <tr>\n",
       "      <th>7</th>\n",
       "      <td>9956.661458</td>\n",
       "      <td>275.0</td>\n",
       "      <td>713.0</td>\n",
       "      <td>445.0</td>\n",
       "      <td>2.191253e+10</td>\n",
       "      <td>2.494935e+10</td>\n",
       "      <td>5.181616e+09</td>\n",
       "      <td>5872133.0</td>\n",
       "      <td>2.200</td>\n",
       "      <td>896.0</td>\n",
       "    </tr>\n",
       "    <tr>\n",
       "      <th>8</th>\n",
       "      <td>9872.432727</td>\n",
       "      <td>278.0</td>\n",
       "      <td>692.0</td>\n",
       "      <td>445.0</td>\n",
       "      <td>2.172704e+10</td>\n",
       "      <td>2.494055e+10</td>\n",
       "      <td>5.181780e+09</td>\n",
       "      <td>6010475.0</td>\n",
       "      <td>2.200</td>\n",
       "      <td>933.0</td>\n",
       "    </tr>\n",
       "    <tr>\n",
       "      <th>9</th>\n",
       "      <td>10088.383269</td>\n",
       "      <td>308.0</td>\n",
       "      <td>731.0</td>\n",
       "      <td>445.0</td>\n",
       "      <td>2.119043e+10</td>\n",
       "      <td>2.498197e+10</td>\n",
       "      <td>5.190376e+09</td>\n",
       "      <td>5955256.0</td>\n",
       "      <td>2.100</td>\n",
       "      <td>900.0</td>\n",
       "    </tr>\n",
       "    <tr>\n",
       "      <th>10</th>\n",
       "      <td>10291.451852</td>\n",
       "      <td>365.0</td>\n",
       "      <td>660.0</td>\n",
       "      <td>445.0</td>\n",
       "      <td>2.161871e+10</td>\n",
       "      <td>2.474379e+10</td>\n",
       "      <td>5.147727e+09</td>\n",
       "      <td>6012121.0</td>\n",
       "      <td>2.100</td>\n",
       "      <td>829.0</td>\n",
       "    </tr>\n",
       "    <tr>\n",
       "      <th>11</th>\n",
       "      <td>10418.618603</td>\n",
       "      <td>277.0</td>\n",
       "      <td>786.0</td>\n",
       "      <td>445.0</td>\n",
       "      <td>2.188618e+10</td>\n",
       "      <td>2.448277e+10</td>\n",
       "      <td>5.105257e+09</td>\n",
       "      <td>5677248.0</td>\n",
       "      <td>2.100</td>\n",
       "      <td>901.0</td>\n",
       "    </tr>\n",
       "    <tr>\n",
       "      <th>12</th>\n",
       "      <td>10710.811815</td>\n",
       "      <td>318.0</td>\n",
       "      <td>563.0</td>\n",
       "      <td>445.0</td>\n",
       "      <td>2.142991e+10</td>\n",
       "      <td>2.497640e+10</td>\n",
       "      <td>5.188379e+09</td>\n",
       "      <td>6052537.0</td>\n",
       "      <td>2.000</td>\n",
       "      <td>840.0</td>\n",
       "    </tr>\n",
       "    <tr>\n",
       "      <th>13</th>\n",
       "      <td>10894.595153</td>\n",
       "      <td>205.0</td>\n",
       "      <td>793.0</td>\n",
       "      <td>445.0</td>\n",
       "      <td>2.179832e+10</td>\n",
       "      <td>2.496064e+10</td>\n",
       "      <td>5.184500e+09</td>\n",
       "      <td>5827609.0</td>\n",
       "      <td>2.000</td>\n",
       "      <td>894.0</td>\n",
       "    </tr>\n",
       "    <tr>\n",
       "      <th>14</th>\n",
       "      <td>11042.162310</td>\n",
       "      <td>498.0</td>\n",
       "      <td>632.0</td>\n",
       "      <td>445.0</td>\n",
       "      <td>2.209233e+10</td>\n",
       "      <td>2.484886e+10</td>\n",
       "      <td>5.166804e+09</td>\n",
       "      <td>6285874.0</td>\n",
       "      <td>2.000</td>\n",
       "      <td>778.0</td>\n",
       "    </tr>\n",
       "    <tr>\n",
       "      <th>15</th>\n",
       "      <td>11080.049468</td>\n",
       "      <td>221.0</td>\n",
       "      <td>669.0</td>\n",
       "      <td>445.0</td>\n",
       "      <td>2.106091e+10</td>\n",
       "      <td>2.497317e+10</td>\n",
       "      <td>5.187608e+09</td>\n",
       "      <td>5810203.0</td>\n",
       "      <td>1.900</td>\n",
       "      <td>845.0</td>\n",
       "    </tr>\n",
       "    <tr>\n",
       "      <th>16</th>\n",
       "      <td>11317.044769</td>\n",
       "      <td>366.0</td>\n",
       "      <td>895.0</td>\n",
       "      <td>445.0</td>\n",
       "      <td>2.151036e+10</td>\n",
       "      <td>2.495357e+10</td>\n",
       "      <td>5.182680e+09</td>\n",
       "      <td>6232119.0</td>\n",
       "      <td>1.900</td>\n",
       "      <td>783.0</td>\n",
       "    </tr>\n",
       "    <tr>\n",
       "      <th>17</th>\n",
       "      <td>10924.362865</td>\n",
       "      <td>241.0</td>\n",
       "      <td>761.0</td>\n",
       "      <td>445.0</td>\n",
       "      <td>2.076505e+10</td>\n",
       "      <td>2.479999e+10</td>\n",
       "      <td>5.157566e+09</td>\n",
       "      <td>5881373.0</td>\n",
       "      <td>1.900</td>\n",
       "      <td>861.0</td>\n",
       "    </tr>\n",
       "    <tr>\n",
       "      <th>18</th>\n",
       "      <td>11708.945327</td>\n",
       "      <td>74.0</td>\n",
       "      <td>726.0</td>\n",
       "      <td>445.0</td>\n",
       "      <td>2.108564e+10</td>\n",
       "      <td>2.494648e+10</td>\n",
       "      <td>5.180706e+09</td>\n",
       "      <td>5489433.0</td>\n",
       "      <td>1.800</td>\n",
       "      <td>871.0</td>\n",
       "    </tr>\n",
       "    <tr>\n",
       "      <th>19</th>\n",
       "      <td>12021.470179</td>\n",
       "      <td>197.0</td>\n",
       "      <td>594.0</td>\n",
       "      <td>445.0</td>\n",
       "      <td>2.164785e+10</td>\n",
       "      <td>2.468397e+10</td>\n",
       "      <td>5.136825e+09</td>\n",
       "      <td>5601949.0</td>\n",
       "      <td>1.800</td>\n",
       "      <td>780.0</td>\n",
       "    </tr>\n",
       "    <tr>\n",
       "      <th>20</th>\n",
       "      <td>11797.336640</td>\n",
       "      <td>215.0</td>\n",
       "      <td>623.0</td>\n",
       "      <td>445.0</td>\n",
       "      <td>2.124349e+10</td>\n",
       "      <td>2.481051e+10</td>\n",
       "      <td>5.159081e+09</td>\n",
       "      <td>5792388.0</td>\n",
       "      <td>1.800</td>\n",
       "      <td>770.0</td>\n",
       "    </tr>\n",
       "    <tr>\n",
       "      <th>21</th>\n",
       "      <td>12294.341939</td>\n",
       "      <td>368.0</td>\n",
       "      <td>625.0</td>\n",
       "      <td>445.0</td>\n",
       "      <td>2.090837e+10</td>\n",
       "      <td>2.496862e+10</td>\n",
       "      <td>5.186291e+09</td>\n",
       "      <td>6289126.0</td>\n",
       "      <td>1.700</td>\n",
       "      <td>669.0</td>\n",
       "    </tr>\n",
       "    <tr>\n",
       "      <th>22</th>\n",
       "      <td>12441.407752</td>\n",
       "      <td>73.0</td>\n",
       "      <td>686.0</td>\n",
       "      <td>445.0</td>\n",
       "      <td>2.116017e+10</td>\n",
       "      <td>2.494248e+10</td>\n",
       "      <td>5.179751e+09</td>\n",
       "      <td>5501506.0</td>\n",
       "      <td>1.700</td>\n",
       "      <td>814.0</td>\n",
       "    </tr>\n",
       "    <tr>\n",
       "      <th>23</th>\n",
       "      <td>12520.196017</td>\n",
       "      <td>106.0</td>\n",
       "      <td>110.0</td>\n",
       "      <td>445.0</td>\n",
       "      <td>2.129384e+10</td>\n",
       "      <td>2.494570e+10</td>\n",
       "      <td>5.182363e+09</td>\n",
       "      <td>5798768.0</td>\n",
       "      <td>1.700</td>\n",
       "      <td>812.0</td>\n",
       "    </tr>\n",
       "    <tr>\n",
       "      <th>24</th>\n",
       "      <td>12674.240270</td>\n",
       "      <td>112.0</td>\n",
       "      <td>605.0</td>\n",
       "      <td>445.0</td>\n",
       "      <td>2.028794e+10</td>\n",
       "      <td>2.496507e+10</td>\n",
       "      <td>5.185345e+09</td>\n",
       "      <td>5641560.0</td>\n",
       "      <td>1.600</td>\n",
       "      <td>793.0</td>\n",
       "    </tr>\n",
       "    <tr>\n",
       "      <th>25</th>\n",
       "      <td>13028.117288</td>\n",
       "      <td>375.0</td>\n",
       "      <td>855.0</td>\n",
       "      <td>445.0</td>\n",
       "      <td>2.085268e+10</td>\n",
       "      <td>2.458238e+10</td>\n",
       "      <td>5.121181e+09</td>\n",
       "      <td>5904533.0</td>\n",
       "      <td>1.600</td>\n",
       "      <td>623.0</td>\n",
       "    </tr>\n",
       "    <tr>\n",
       "      <th>26</th>\n",
       "      <td>12974.598046</td>\n",
       "      <td>82.0</td>\n",
       "      <td>724.0</td>\n",
       "      <td>445.0</td>\n",
       "      <td>2.076896e+10</td>\n",
       "      <td>2.456385e+10</td>\n",
       "      <td>5.117976e+09</td>\n",
       "      <td>5353464.0</td>\n",
       "      <td>1.600</td>\n",
       "      <td>788.0</td>\n",
       "    </tr>\n",
       "    <tr>\n",
       "      <th>27</th>\n",
       "      <td>13684.338222</td>\n",
       "      <td>123.0</td>\n",
       "      <td>171.0</td>\n",
       "      <td>445.0</td>\n",
       "      <td>2.053564e+10</td>\n",
       "      <td>2.496508e+10</td>\n",
       "      <td>5.185221e+09</td>\n",
       "      <td>5708009.0</td>\n",
       "      <td>1.500</td>\n",
       "      <td>719.0</td>\n",
       "    </tr>\n",
       "    <tr>\n",
       "      <th>28</th>\n",
       "      <td>13876.834693</td>\n",
       "      <td>159.0</td>\n",
       "      <td>292.0</td>\n",
       "      <td>445.0</td>\n",
       "      <td>2.082463e+10</td>\n",
       "      <td>2.454449e+10</td>\n",
       "      <td>5.114427e+09</td>\n",
       "      <td>5400713.0</td>\n",
       "      <td>1.500</td>\n",
       "      <td>727.0</td>\n",
       "    </tr>\n",
       "    <tr>\n",
       "      <th>29</th>\n",
       "      <td>13776.497303</td>\n",
       "      <td>365.0</td>\n",
       "      <td>770.0</td>\n",
       "      <td>445.0</td>\n",
       "      <td>2.067277e+10</td>\n",
       "      <td>2.493940e+10</td>\n",
       "      <td>5.179831e+09</td>\n",
       "      <td>6157655.0</td>\n",
       "      <td>1.500</td>\n",
       "      <td>604.0</td>\n",
       "    </tr>\n",
       "    <tr>\n",
       "      <th>30</th>\n",
       "      <td>14554.461099</td>\n",
       "      <td>83.0</td>\n",
       "      <td>655.0</td>\n",
       "      <td>445.0</td>\n",
       "      <td>2.038549e+10</td>\n",
       "      <td>2.495514e+10</td>\n",
       "      <td>5.182465e+09</td>\n",
       "      <td>5503651.0</td>\n",
       "      <td>1.400</td>\n",
       "      <td>686.0</td>\n",
       "    </tr>\n",
       "    <tr>\n",
       "      <th>31</th>\n",
       "      <td>14616.989980</td>\n",
       "      <td>59.0</td>\n",
       "      <td>152.0</td>\n",
       "      <td>445.0</td>\n",
       "      <td>2.047331e+10</td>\n",
       "      <td>2.496569e+10</td>\n",
       "      <td>5.185265e+09</td>\n",
       "      <td>5657247.0</td>\n",
       "      <td>1.400</td>\n",
       "      <td>693.0</td>\n",
       "    </tr>\n",
       "    <tr>\n",
       "      <th>32</th>\n",
       "      <td>14260.501033</td>\n",
       "      <td>53.0</td>\n",
       "      <td>744.0</td>\n",
       "      <td>445.0</td>\n",
       "      <td>1.997385e+10</td>\n",
       "      <td>2.461304e+10</td>\n",
       "      <td>5.125735e+09</td>\n",
       "      <td>5303286.0</td>\n",
       "      <td>1.400</td>\n",
       "      <td>714.0</td>\n",
       "    </tr>\n",
       "    <tr>\n",
       "      <th>33</th>\n",
       "      <td>15620.199190</td>\n",
       "      <td>252.0</td>\n",
       "      <td>648.0</td>\n",
       "      <td>445.0</td>\n",
       "      <td>2.031481e+10</td>\n",
       "      <td>2.494736e+10</td>\n",
       "      <td>5.180284e+09</td>\n",
       "      <td>5910434.0</td>\n",
       "      <td>1.300</td>\n",
       "      <td>546.0</td>\n",
       "    </tr>\n",
       "    <tr>\n",
       "      <th>34</th>\n",
       "      <td>15551.739924</td>\n",
       "      <td>57.0</td>\n",
       "      <td>175.0</td>\n",
       "      <td>445.0</td>\n",
       "      <td>2.022674e+10</td>\n",
       "      <td>2.495551e+10</td>\n",
       "      <td>5.182534e+09</td>\n",
       "      <td>5554208.0</td>\n",
       "      <td>1.300</td>\n",
       "      <td>665.0</td>\n",
       "    </tr>\n",
       "    <tr>\n",
       "      <th>35</th>\n",
       "      <td>15150.928598</td>\n",
       "      <td>44.0</td>\n",
       "      <td>783.0</td>\n",
       "      <td>445.0</td>\n",
       "      <td>1.970548e+10</td>\n",
       "      <td>2.458648e+10</td>\n",
       "      <td>5.120690e+09</td>\n",
       "      <td>5217655.0</td>\n",
       "      <td>1.300</td>\n",
       "      <td>687.0</td>\n",
       "    </tr>\n",
       "    <tr>\n",
       "      <th>36</th>\n",
       "      <td>16192.251074</td>\n",
       "      <td>52.0</td>\n",
       "      <td>586.0</td>\n",
       "      <td>445.0</td>\n",
       "      <td>1.943994e+10</td>\n",
       "      <td>2.492743e+10</td>\n",
       "      <td>5.178014e+09</td>\n",
       "      <td>5432587.0</td>\n",
       "      <td>1.200</td>\n",
       "      <td>637.0</td>\n",
       "    </tr>\n",
       "    <tr>\n",
       "      <th>37</th>\n",
       "      <td>16889.352612</td>\n",
       "      <td>101.0</td>\n",
       "      <td>166.0</td>\n",
       "      <td>445.0</td>\n",
       "      <td>2.027644e+10</td>\n",
       "      <td>2.462022e+10</td>\n",
       "      <td>5.126633e+09</td>\n",
       "      <td>5491635.0</td>\n",
       "      <td>1.200</td>\n",
       "      <td>602.0</td>\n",
       "    </tr>\n",
       "    <tr>\n",
       "      <th>38</th>\n",
       "      <td>16596.001518</td>\n",
       "      <td>93.0</td>\n",
       "      <td>560.0</td>\n",
       "      <td>445.0</td>\n",
       "      <td>1.992447e+10</td>\n",
       "      <td>2.450763e+10</td>\n",
       "      <td>5.107666e+09</td>\n",
       "      <td>5312673.0</td>\n",
       "      <td>1.200</td>\n",
       "      <td>600.0</td>\n",
       "    </tr>\n",
       "  </tbody>\n",
       "</table>\n",
       "</div>"
      ],
      "text/plain": [
       "          CPUuti  Contxtsw  cpumig  pageft     ClockRate           IPC  \\\n",
       "0    6914.772601     563.0   700.0   445.0  2.333481e+10  2.497184e+10   \n",
       "1    6988.875273     674.0   753.0   445.0  2.361114e+10  2.465142e+10   \n",
       "2    7042.502610     532.0   753.0   445.0  2.398482e+10  2.493292e+10   \n",
       "3    9277.132157     524.0   739.0   445.0  2.134250e+10  2.496538e+10   \n",
       "4    9417.952422     402.0   618.0   445.0  2.166634e+10  2.456858e+10   \n",
       "5    9368.048905     273.0   613.0   445.0  2.155184e+10  2.463744e+10   \n",
       "6    9802.474382     438.0   129.0   445.0  2.157151e+10  2.498018e+10   \n",
       "7    9956.661458     275.0   713.0   445.0  2.191253e+10  2.494935e+10   \n",
       "8    9872.432727     278.0   692.0   445.0  2.172704e+10  2.494055e+10   \n",
       "9   10088.383269     308.0   731.0   445.0  2.119043e+10  2.498197e+10   \n",
       "10  10291.451852     365.0   660.0   445.0  2.161871e+10  2.474379e+10   \n",
       "11  10418.618603     277.0   786.0   445.0  2.188618e+10  2.448277e+10   \n",
       "12  10710.811815     318.0   563.0   445.0  2.142991e+10  2.497640e+10   \n",
       "13  10894.595153     205.0   793.0   445.0  2.179832e+10  2.496064e+10   \n",
       "14  11042.162310     498.0   632.0   445.0  2.209233e+10  2.484886e+10   \n",
       "15  11080.049468     221.0   669.0   445.0  2.106091e+10  2.497317e+10   \n",
       "16  11317.044769     366.0   895.0   445.0  2.151036e+10  2.495357e+10   \n",
       "17  10924.362865     241.0   761.0   445.0  2.076505e+10  2.479999e+10   \n",
       "18  11708.945327      74.0   726.0   445.0  2.108564e+10  2.494648e+10   \n",
       "19  12021.470179     197.0   594.0   445.0  2.164785e+10  2.468397e+10   \n",
       "20  11797.336640     215.0   623.0   445.0  2.124349e+10  2.481051e+10   \n",
       "21  12294.341939     368.0   625.0   445.0  2.090837e+10  2.496862e+10   \n",
       "22  12441.407752      73.0   686.0   445.0  2.116017e+10  2.494248e+10   \n",
       "23  12520.196017     106.0   110.0   445.0  2.129384e+10  2.494570e+10   \n",
       "24  12674.240270     112.0   605.0   445.0  2.028794e+10  2.496507e+10   \n",
       "25  13028.117288     375.0   855.0   445.0  2.085268e+10  2.458238e+10   \n",
       "26  12974.598046      82.0   724.0   445.0  2.076896e+10  2.456385e+10   \n",
       "27  13684.338222     123.0   171.0   445.0  2.053564e+10  2.496508e+10   \n",
       "28  13876.834693     159.0   292.0   445.0  2.082463e+10  2.454449e+10   \n",
       "29  13776.497303     365.0   770.0   445.0  2.067277e+10  2.493940e+10   \n",
       "30  14554.461099      83.0   655.0   445.0  2.038549e+10  2.495514e+10   \n",
       "31  14616.989980      59.0   152.0   445.0  2.047331e+10  2.496569e+10   \n",
       "32  14260.501033      53.0   744.0   445.0  1.997385e+10  2.461304e+10   \n",
       "33  15620.199190     252.0   648.0   445.0  2.031481e+10  2.494736e+10   \n",
       "34  15551.739924      57.0   175.0   445.0  2.022674e+10  2.495551e+10   \n",
       "35  15150.928598      44.0   783.0   445.0  1.970548e+10  2.458648e+10   \n",
       "36  16192.251074      52.0   586.0   445.0  1.943994e+10  2.492743e+10   \n",
       "37  16889.352612     101.0   166.0   445.0  2.027644e+10  2.462022e+10   \n",
       "38  16596.001518      93.0   560.0   445.0  1.992447e+10  2.450763e+10   \n",
       "\n",
       "          branch  branchmis  userset      io  \n",
       "0   5.187264e+09  6533949.0    2.301  1126.4  \n",
       "1   5.133762e+09  6584644.0    2.301   939.0  \n",
       "2   5.180137e+09  6494784.0    2.301  1024.0  \n",
       "3   5.185612e+09  6451292.0    2.300   861.0  \n",
       "4   5.118958e+09  5992783.0    2.300   890.0  \n",
       "5   5.131273e+09  5760481.0    2.300   968.0  \n",
       "6   5.189615e+09  6477846.0    2.200   863.0  \n",
       "7   5.181616e+09  5872133.0    2.200   896.0  \n",
       "8   5.181780e+09  6010475.0    2.200   933.0  \n",
       "9   5.190376e+09  5955256.0    2.100   900.0  \n",
       "10  5.147727e+09  6012121.0    2.100   829.0  \n",
       "11  5.105257e+09  5677248.0    2.100   901.0  \n",
       "12  5.188379e+09  6052537.0    2.000   840.0  \n",
       "13  5.184500e+09  5827609.0    2.000   894.0  \n",
       "14  5.166804e+09  6285874.0    2.000   778.0  \n",
       "15  5.187608e+09  5810203.0    1.900   845.0  \n",
       "16  5.182680e+09  6232119.0    1.900   783.0  \n",
       "17  5.157566e+09  5881373.0    1.900   861.0  \n",
       "18  5.180706e+09  5489433.0    1.800   871.0  \n",
       "19  5.136825e+09  5601949.0    1.800   780.0  \n",
       "20  5.159081e+09  5792388.0    1.800   770.0  \n",
       "21  5.186291e+09  6289126.0    1.700   669.0  \n",
       "22  5.179751e+09  5501506.0    1.700   814.0  \n",
       "23  5.182363e+09  5798768.0    1.700   812.0  \n",
       "24  5.185345e+09  5641560.0    1.600   793.0  \n",
       "25  5.121181e+09  5904533.0    1.600   623.0  \n",
       "26  5.117976e+09  5353464.0    1.600   788.0  \n",
       "27  5.185221e+09  5708009.0    1.500   719.0  \n",
       "28  5.114427e+09  5400713.0    1.500   727.0  \n",
       "29  5.179831e+09  6157655.0    1.500   604.0  \n",
       "30  5.182465e+09  5503651.0    1.400   686.0  \n",
       "31  5.185265e+09  5657247.0    1.400   693.0  \n",
       "32  5.125735e+09  5303286.0    1.400   714.0  \n",
       "33  5.180284e+09  5910434.0    1.300   546.0  \n",
       "34  5.182534e+09  5554208.0    1.300   665.0  \n",
       "35  5.120690e+09  5217655.0    1.300   687.0  \n",
       "36  5.178014e+09  5432587.0    1.200   637.0  \n",
       "37  5.126633e+09  5491635.0    1.200   602.0  \n",
       "38  5.107666e+09  5312673.0    1.200   600.0  "
      ]
     },
     "execution_count": 156,
     "metadata": {},
     "output_type": "execute_result"
    }
   ],
   "source": [
    "df_has_raw"
   ]
  },
  {
   "cell_type": "code",
   "execution_count": 66,
   "metadata": {
    "collapsed": false
   },
   "outputs": [
    {
     "data": {
      "text/html": [
       "<div>\n",
       "<table border=\"1\" class=\"dataframe\">\n",
       "  <thead>\n",
       "    <tr style=\"text-align: right;\">\n",
       "      <th></th>\n",
       "      <th>CPUuti</th>\n",
       "      <th>Contxtsw</th>\n",
       "      <th>cpumig</th>\n",
       "      <th>pageft</th>\n",
       "      <th>ClockRate</th>\n",
       "      <th>IPC</th>\n",
       "      <th>branch</th>\n",
       "      <th>branchmis</th>\n",
       "      <th>userset</th>\n",
       "      <th>io</th>\n",
       "    </tr>\n",
       "  </thead>\n",
       "  <tbody>\n",
       "    <tr>\n",
       "      <th>0</th>\n",
       "      <td>33338.075550</td>\n",
       "      <td>211.0</td>\n",
       "      <td>637.0</td>\n",
       "      <td>443.0</td>\n",
       "      <td>5.003350e+10</td>\n",
       "      <td>2.496820e+10</td>\n",
       "      <td>5.182283e+09</td>\n",
       "      <td>73716909.0</td>\n",
       "      <td>1.401</td>\n",
       "      <td>306.0</td>\n",
       "    </tr>\n",
       "    <tr>\n",
       "      <th>1</th>\n",
       "      <td>32436.165453</td>\n",
       "      <td>251.0</td>\n",
       "      <td>565.0</td>\n",
       "      <td>443.0</td>\n",
       "      <td>4.867919e+10</td>\n",
       "      <td>2.470110e+10</td>\n",
       "      <td>5.137700e+09</td>\n",
       "      <td>69945739.0</td>\n",
       "      <td>1.401</td>\n",
       "      <td>298.0</td>\n",
       "    </tr>\n",
       "    <tr>\n",
       "      <th>2</th>\n",
       "      <td>32068.948500</td>\n",
       "      <td>93.0</td>\n",
       "      <td>474.0</td>\n",
       "      <td>443.0</td>\n",
       "      <td>4.813035e+10</td>\n",
       "      <td>2.466828e+10</td>\n",
       "      <td>5.131777e+09</td>\n",
       "      <td>66665741.0</td>\n",
       "      <td>1.401</td>\n",
       "      <td>326.0</td>\n",
       "    </tr>\n",
       "    <tr>\n",
       "      <th>3</th>\n",
       "      <td>34425.222587</td>\n",
       "      <td>178.0</td>\n",
       "      <td>560.0</td>\n",
       "      <td>443.0</td>\n",
       "      <td>4.822131e+10</td>\n",
       "      <td>2.493987e+10</td>\n",
       "      <td>5.176530e+09</td>\n",
       "      <td>69240724.0</td>\n",
       "      <td>1.400</td>\n",
       "      <td>304.0</td>\n",
       "    </tr>\n",
       "    <tr>\n",
       "      <th>4</th>\n",
       "      <td>33911.155080</td>\n",
       "      <td>230.0</td>\n",
       "      <td>633.0</td>\n",
       "      <td>443.0</td>\n",
       "      <td>4.750037e+10</td>\n",
       "      <td>2.468669e+10</td>\n",
       "      <td>5.134509e+09</td>\n",
       "      <td>67559917.0</td>\n",
       "      <td>1.400</td>\n",
       "      <td>300.0</td>\n",
       "    </tr>\n",
       "    <tr>\n",
       "      <th>5</th>\n",
       "      <td>34116.389137</td>\n",
       "      <td>173.0</td>\n",
       "      <td>357.0</td>\n",
       "      <td>443.0</td>\n",
       "      <td>4.778872e+10</td>\n",
       "      <td>2.468028e+10</td>\n",
       "      <td>5.134399e+09</td>\n",
       "      <td>67977463.0</td>\n",
       "      <td>1.400</td>\n",
       "      <td>291.0</td>\n",
       "    </tr>\n",
       "    <tr>\n",
       "      <th>6</th>\n",
       "      <td>36695.055434</td>\n",
       "      <td>306.0</td>\n",
       "      <td>828.0</td>\n",
       "      <td>443.0</td>\n",
       "      <td>4.772764e+10</td>\n",
       "      <td>2.495364e+10</td>\n",
       "      <td>5.179382e+09</td>\n",
       "      <td>69725956.0</td>\n",
       "      <td>1.300</td>\n",
       "      <td>275.0</td>\n",
       "    </tr>\n",
       "    <tr>\n",
       "      <th>7</th>\n",
       "      <td>36108.417362</td>\n",
       "      <td>195.0</td>\n",
       "      <td>478.0</td>\n",
       "      <td>443.0</td>\n",
       "      <td>4.696597e+10</td>\n",
       "      <td>2.471471e+10</td>\n",
       "      <td>5.139756e+09</td>\n",
       "      <td>67629396.0</td>\n",
       "      <td>1.300</td>\n",
       "      <td>275.0</td>\n",
       "    </tr>\n",
       "    <tr>\n",
       "      <th>8</th>\n",
       "      <td>36098.085224</td>\n",
       "      <td>71.0</td>\n",
       "      <td>959.0</td>\n",
       "      <td>443.0</td>\n",
       "      <td>4.695419e+10</td>\n",
       "      <td>2.466718e+10</td>\n",
       "      <td>5.130758e+09</td>\n",
       "      <td>66250196.0</td>\n",
       "      <td>1.300</td>\n",
       "      <td>288.0</td>\n",
       "    </tr>\n",
       "    <tr>\n",
       "      <th>9</th>\n",
       "      <td>39664.891508</td>\n",
       "      <td>109.0</td>\n",
       "      <td>314.0</td>\n",
       "      <td>443.0</td>\n",
       "      <td>4.762454e+10</td>\n",
       "      <td>2.495987e+10</td>\n",
       "      <td>5.181062e+09</td>\n",
       "      <td>70588209.0</td>\n",
       "      <td>1.200</td>\n",
       "      <td>262.0</td>\n",
       "    </tr>\n",
       "    <tr>\n",
       "      <th>10</th>\n",
       "      <td>38649.383955</td>\n",
       "      <td>81.0</td>\n",
       "      <td>659.0</td>\n",
       "      <td>443.0</td>\n",
       "      <td>4.640549e+10</td>\n",
       "      <td>2.467525e+10</td>\n",
       "      <td>5.132123e+09</td>\n",
       "      <td>66369132.0</td>\n",
       "      <td>1.200</td>\n",
       "      <td>271.0</td>\n",
       "    </tr>\n",
       "    <tr>\n",
       "      <th>11</th>\n",
       "      <td>38946.861812</td>\n",
       "      <td>171.0</td>\n",
       "      <td>1003.0</td>\n",
       "      <td>443.0</td>\n",
       "      <td>4.676153e+10</td>\n",
       "      <td>2.467106e+10</td>\n",
       "      <td>5.131817e+09</td>\n",
       "      <td>67530983.0</td>\n",
       "      <td>1.200</td>\n",
       "      <td>267.0</td>\n",
       "    </tr>\n",
       "    <tr>\n",
       "      <th>12</th>\n",
       "      <td>42166.096166</td>\n",
       "      <td>245.0</td>\n",
       "      <td>598.0</td>\n",
       "      <td>443.0</td>\n",
       "      <td>4.640723e+10</td>\n",
       "      <td>2.494654e+10</td>\n",
       "      <td>5.177792e+09</td>\n",
       "      <td>68055963.0</td>\n",
       "      <td>1.100</td>\n",
       "      <td>244.0</td>\n",
       "    </tr>\n",
       "    <tr>\n",
       "      <th>13</th>\n",
       "      <td>41768.306396</td>\n",
       "      <td>123.0</td>\n",
       "      <td>536.0</td>\n",
       "      <td>443.0</td>\n",
       "      <td>4.597058e+10</td>\n",
       "      <td>2.468813e+10</td>\n",
       "      <td>5.134528e+09</td>\n",
       "      <td>66802246.0</td>\n",
       "      <td>1.100</td>\n",
       "      <td>250.0</td>\n",
       "    </tr>\n",
       "    <tr>\n",
       "      <th>14</th>\n",
       "      <td>42115.330197</td>\n",
       "      <td>205.0</td>\n",
       "      <td>776.0</td>\n",
       "      <td>443.0</td>\n",
       "      <td>4.635166e+10</td>\n",
       "      <td>2.467739e+10</td>\n",
       "      <td>5.133079e+09</td>\n",
       "      <td>67767996.0</td>\n",
       "      <td>1.100</td>\n",
       "      <td>245.0</td>\n",
       "    </tr>\n",
       "    <tr>\n",
       "      <th>15</th>\n",
       "      <td>45690.624327</td>\n",
       "      <td>96.0</td>\n",
       "      <td>269.0</td>\n",
       "      <td>443.0</td>\n",
       "      <td>4.571642e+10</td>\n",
       "      <td>2.494453e+10</td>\n",
       "      <td>5.177009e+09</td>\n",
       "      <td>67082937.0</td>\n",
       "      <td>1.000</td>\n",
       "      <td>229.0</td>\n",
       "    </tr>\n",
       "    <tr>\n",
       "      <th>16</th>\n",
       "      <td>46190.233923</td>\n",
       "      <td>199.0</td>\n",
       "      <td>634.0</td>\n",
       "      <td>443.0</td>\n",
       "      <td>4.621515e+10</td>\n",
       "      <td>2.468026e+10</td>\n",
       "      <td>5.133314e+09</td>\n",
       "      <td>69196006.0</td>\n",
       "      <td>1.000</td>\n",
       "      <td>213.0</td>\n",
       "    </tr>\n",
       "    <tr>\n",
       "      <th>17</th>\n",
       "      <td>45797.967028</td>\n",
       "      <td>218.0</td>\n",
       "      <td>760.0</td>\n",
       "      <td>443.0</td>\n",
       "      <td>4.582239e+10</td>\n",
       "      <td>2.467319e+10</td>\n",
       "      <td>5.131873e+09</td>\n",
       "      <td>66898032.0</td>\n",
       "      <td>1.000</td>\n",
       "      <td>226.0</td>\n",
       "    </tr>\n",
       "  </tbody>\n",
       "</table>\n",
       "</div>"
      ],
      "text/plain": [
       "          CPUuti  Contxtsw  cpumig  pageft     ClockRate           IPC  \\\n",
       "0   33338.075550     211.0   637.0   443.0  5.003350e+10  2.496820e+10   \n",
       "1   32436.165453     251.0   565.0   443.0  4.867919e+10  2.470110e+10   \n",
       "2   32068.948500      93.0   474.0   443.0  4.813035e+10  2.466828e+10   \n",
       "3   34425.222587     178.0   560.0   443.0  4.822131e+10  2.493987e+10   \n",
       "4   33911.155080     230.0   633.0   443.0  4.750037e+10  2.468669e+10   \n",
       "5   34116.389137     173.0   357.0   443.0  4.778872e+10  2.468028e+10   \n",
       "6   36695.055434     306.0   828.0   443.0  4.772764e+10  2.495364e+10   \n",
       "7   36108.417362     195.0   478.0   443.0  4.696597e+10  2.471471e+10   \n",
       "8   36098.085224      71.0   959.0   443.0  4.695419e+10  2.466718e+10   \n",
       "9   39664.891508     109.0   314.0   443.0  4.762454e+10  2.495987e+10   \n",
       "10  38649.383955      81.0   659.0   443.0  4.640549e+10  2.467525e+10   \n",
       "11  38946.861812     171.0  1003.0   443.0  4.676153e+10  2.467106e+10   \n",
       "12  42166.096166     245.0   598.0   443.0  4.640723e+10  2.494654e+10   \n",
       "13  41768.306396     123.0   536.0   443.0  4.597058e+10  2.468813e+10   \n",
       "14  42115.330197     205.0   776.0   443.0  4.635166e+10  2.467739e+10   \n",
       "15  45690.624327      96.0   269.0   443.0  4.571642e+10  2.494453e+10   \n",
       "16  46190.233923     199.0   634.0   443.0  4.621515e+10  2.468026e+10   \n",
       "17  45797.967028     218.0   760.0   443.0  4.582239e+10  2.467319e+10   \n",
       "\n",
       "          branch   branchmis  userset     io  \n",
       "0   5.182283e+09  73716909.0    1.401  306.0  \n",
       "1   5.137700e+09  69945739.0    1.401  298.0  \n",
       "2   5.131777e+09  66665741.0    1.401  326.0  \n",
       "3   5.176530e+09  69240724.0    1.400  304.0  \n",
       "4   5.134509e+09  67559917.0    1.400  300.0  \n",
       "5   5.134399e+09  67977463.0    1.400  291.0  \n",
       "6   5.179382e+09  69725956.0    1.300  275.0  \n",
       "7   5.139756e+09  67629396.0    1.300  275.0  \n",
       "8   5.130758e+09  66250196.0    1.300  288.0  \n",
       "9   5.181062e+09  70588209.0    1.200  262.0  \n",
       "10  5.132123e+09  66369132.0    1.200  271.0  \n",
       "11  5.131817e+09  67530983.0    1.200  267.0  \n",
       "12  5.177792e+09  68055963.0    1.100  244.0  \n",
       "13  5.134528e+09  66802246.0    1.100  250.0  \n",
       "14  5.133079e+09  67767996.0    1.100  245.0  \n",
       "15  5.177009e+09  67082937.0    1.000  229.0  \n",
       "16  5.133314e+09  69196006.0    1.000  213.0  \n",
       "17  5.131873e+09  66898032.0    1.000  226.0  "
      ]
     },
     "execution_count": 66,
     "metadata": {},
     "output_type": "execute_result"
    }
   ],
   "source": [
    "df_knl_raw"
   ]
  },
  {
   "cell_type": "code",
   "execution_count": 147,
   "metadata": {
    "collapsed": true
   },
   "outputs": [],
   "source": [
    "#submit a batch job: 3853929 for ior"
   ]
  },
  {
   "cell_type": "code",
   "execution_count": 158,
   "metadata": {
    "collapsed": false
   },
   "outputs": [
    {
     "name": "stdout",
     "output_type": "stream",
     "text": [
      "[ 0  1  2  3  4  5  6  7  8  9 10 11 12 13 14 15 16 17]\n"
     ]
    },
    {
     "data": {
      "text/plain": [
       "<matplotlib.text.Text at 0x7fbebbafbed0>"
      ]
     },
     "execution_count": 158,
     "metadata": {},
     "output_type": "execute_result"
    },
    {
     "data": {
      "image/png": "[encoded data removed]",
      "text/plain": [
       "<matplotlib.figure.Figure at 0x7fbebfb00a50>"
      ]
     },
     "metadata": {},
     "output_type": "display_data"
    }
   ],
   "source": [
    "length_null=len(df_knl_null)\n",
    "length_cscratch=len(df_knl_raw)\n",
    "assert(length_null==length_cscratch)\n",
    "a=np.arange(0,length_cscratch)\n",
    "print a\n",
    "plt.plot(a,df_knl_raw['ClockRate'],'r',label='cscratch')\n",
    "plt.plot(a,df_knl_null['ClockRate'],'b',label='null')\n",
    "plt.legend()\n",
    "plt.ylabel('Cycles')\n",
    "plt.title('KNL Cycles with dd to null vs. cscratch')"
   ]
  },
  {
   "cell_type": "code",
   "execution_count": 157,
   "metadata": {
    "collapsed": false
   },
   "outputs": [
    {
     "name": "stdout",
     "output_type": "stream",
     "text": [
      "[ 0  1  2  3  4  5  6  7  8  9 10 11 12 13 14 15 16 17]\n"
     ]
    },
    {
     "data": {
      "text/plain": [
       "<matplotlib.text.Text at 0x7fbebfd1a750>"
      ]
     },
     "execution_count": 157,
     "metadata": {},
     "output_type": "execute_result"
    },
    {
     "data": {
      "image/png": "[encoded data removed]",
      "text/plain": [
       "<matplotlib.figure.Figure at 0x7fbec0081890>"
      ]
     },
     "metadata": {},
     "output_type": "display_data"
    }
   ],
   "source": [
    "length_null=len(df_knl_null)\n",
    "length_cscratch=len(df_knl_raw)\n",
    "assert(length_null==length_cscratch)\n",
    "a=np.arange(0,length_cscratch)\n",
    "print a\n",
    "plt.plot(a,df_knl_raw['IPC'],'r',label='cscratch')\n",
    "plt.plot(a,df_knl_null['IPC'],'b',label='null')\n",
    "plt.legend()\n",
    "plt.ylabel('IPC')\n",
    "plt.title('KNL Instructions with dd to null vs. cscratch')"
   ]
  },
  {
   "cell_type": "code",
   "execution_count": 159,
   "metadata": {
    "collapsed": false
   },
   "outputs": [
    {
     "name": "stdout",
     "output_type": "stream",
     "text": [
      "[ 0  1  2  3  4  5  6  7  8  9 10 11 12 13 14 15 16 17 18 19 20 21 22 23 24\n",
      " 25 26 27 28 29 30 31 32 33 34 35 36 37 38]\n"
     ]
    },
    {
     "data": {
      "text/plain": [
       "<matplotlib.text.Text at 0x7fbebb7202d0>"
      ]
     },
     "execution_count": 159,
     "metadata": {},
     "output_type": "execute_result"
    },
    {
     "data": {
      "image/png": "[encoded data removed]",
      "text/plain": [
       "<matplotlib.figure.Figure at 0x7fbebfa633d0>"
      ]
     },
     "metadata": {},
     "output_type": "display_data"
    }
   ],
   "source": [
    "length_null=len(df_has_null)\n",
    "length_cscratch=len(df_has_raw)\n",
    "assert(length_null==length_cscratch)\n",
    "a=np.arange(0,length_cscratch)\n",
    "print a\n",
    "plt.plot(a,df_has_raw['IPC'],'r',label='cscratch')\n",
    "plt.plot(a,df_has_null['IPC'],'b',label='null')\n",
    "plt.legend()\n",
    "plt.ylabel('IPC')\n",
    "plt.title('Haswell Instructions with dd to null vs. cscratch')"
   ]
  },
  {
   "cell_type": "markdown",
   "metadata": {},
   "source": [
    "# Conclusion 4 when writting to dev/null, much less number of instructions and cycles are produced"
   ]
  },
  {
   "cell_type": "code",
   "execution_count": 76,
   "metadata": {
    "collapsed": false
   },
   "outputs": [
    {
     "data": {
      "text/plain": [
       "<matplotlib.text.Text at 0x7fb2e5197a10>"
      ]
     },
     "execution_count": 76,
     "metadata": {},
     "output_type": "execute_result"
    },
    {
     "data": {
      "image/png": "[encoded data removed]",
      "text/plain": [
       "<matplotlib.figure.Figure at 0x7fb2e55ff590>"
      ]
     },
     "metadata": {},
     "output_type": "display_data"
    }
   ],
   "source": [
    "length_has=len(df_has_raw)\n",
    "#assert(length_null==length_cscratch)\n",
    "a=np.arange(0,length_has)\n",
    "length_knl=len(df_knl_raw)\n",
    "#assert(length_null==length_cscratch)\n",
    "b=np.arange(0,length_knl)\n",
    "plt.plot(27+b,df_knl_raw['ClockRate'],'r',label='knl-ints')\n",
    "plt.plot(a,df_has_raw['ClockRate'],'b',label='has-ints')\n",
    "plt.legend(loc='left')\n",
    "plt.ylabel('Cycles')\n",
    "plt.title('KNL vs. Haswell Cycles with dd cscratch')"
   ]
  },
  {
   "cell_type": "code",
   "execution_count": 77,
   "metadata": {
    "collapsed": false
   },
   "outputs": [
    {
     "data": {
      "text/plain": [
       "<matplotlib.text.Text at 0x7fb2e6118050>"
      ]
     },
     "execution_count": 77,
     "metadata": {},
     "output_type": "execute_result"
    },
    {
     "data": {
      "image/png": "[encoded data removed]",
      "text/plain": [
       "<matplotlib.figure.Figure at 0x7fb2e5104fd0>"
      ]
     },
     "metadata": {},
     "output_type": "display_data"
    }
   ],
   "source": [
    "length_has=len(df_has_raw)\n",
    "#assert(length_null==length_cscratch)\n",
    "a=np.arange(0,length_has)\n",
    "length_knl=len(df_knl_raw)\n",
    "#assert(length_null==length_cscratch)\n",
    "b=np.arange(0,length_knl)\n",
    "#print a\n",
    "plt.plot(27+b,df_knl_raw['IPC'],'r',label='knl-ints')\n",
    "plt.plot(a,df_has_raw['IPC'],'b',label='has-ints')\n",
    "plt.legend(loc='left')\n",
    "plt.ylabel('Cycles')\n",
    "plt.title('KNL vs. Haswell Instructions with dd cscratch')"
   ]
  },
  {
   "cell_type": "markdown",
   "metadata": {},
   "source": [
    "# Try to compile on KNL, to see if there is any instruction difference, and IO difference"
   ]
  },
  {
   "cell_type": "code",
   "execution_count": null,
   "metadata": {
    "collapsed": true
   },
   "outputs": [],
   "source": []
  }
 ],
 "metadata": {
  "celltoolbar": "Raw Cell Format",
  "kernelspec": {
   "display_name": "Python 2",
   "language": "python",
   "name": "python2"
  },
  "language_info": {
   "codemirror_mode": {
    "name": "ipython",
    "version": 2
   },
   "file_extension": ".py",
   "mimetype": "text/x-python",
   "name": "python",
   "nbconvert_exporter": "python",
   "pygments_lexer": "ipython2",
   "version": "2.7.11"
  }
 },
 "nbformat": 4,
 "nbformat_minor": 0
}
