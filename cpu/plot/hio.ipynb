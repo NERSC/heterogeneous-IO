{
 "cells": [
  {
   "cell_type": "markdown",
   "metadata": {},
   "source": [
    "# Comparison with different CPU Frequencies"
   ]
  },
  {
   "cell_type": "code",
   "execution_count": 48,
   "metadata": {
    "collapsed": false
   },
   "outputs": [],
   "source": [
    "def parse_line(txtf):\n",
    "    f = open(txtf, 'r')\n",
    "    x = f.read().split('\\n')\n",
    "    x=filter(None,x)\n",
    "    x = [int(i.split(':')[1]) for i in x]\n",
    "    return x"
   ]
  },
  {
   "cell_type": "code",
   "execution_count": 86,
   "metadata": {
    "collapsed": false
   },
   "outputs": [
    {
     "name": "stdout",
     "output_type": "stream",
     "text": [
      "18 [1401000, 1401000, 1401000, 1400000, 1400000, 1400000, 1300000, 1300000, 1300000, 1200000, 1200000, 1200000, 1100000, 1100000, 1100000, 1000000, 1000000, 1000000]\n",
      "\n",
      "\n",
      "39 [2301000, 2301000, 2301000, 2300000, 2300000, 2300000, 2200000, 2200000, 2200000, 2100000, 2100000, 2100000, 2000000, 2000000, 2000000, 1900000, 1900000, 1900000, 1800000, 1800000, 1800000, 1700000, 1700000, 1700000, 1600000, 1600000, 1600000, 1500000, 1500000, 1500000, 1400000, 1400000, 1400000, 1300000, 1300000, 1300000, 1200000, 1200000, 1200000]\n"
     ]
    }
   ],
   "source": [
    "knl_cpu=parse_line('cpu_knl.txt')\n",
    "has_cpu=parse_line('cpu_has.txt')\n",
    "print len(knl_cpu),knl_cpu\n",
    "print \"\\n\"\n",
    "print len(has_cpu),has_cpu"
   ]
  },
  {
   "cell_type": "code",
   "execution_count": 87,
   "metadata": {
    "collapsed": false
   },
   "outputs": [],
   "source": [
    "import numpy as np\n",
    "knl_cpu1=np.mean(np.asarray(knl_cpu).reshape(-1, 3), axis=1)\n",
    "has_cpu1=np.mean(np.asarray(has_cpu).reshape(-1, 3), axis=1)"
   ]
  },
  {
   "cell_type": "code",
   "execution_count": 88,
   "metadata": {
    "collapsed": true
   },
   "outputs": [],
   "source": [
    "has_io=[1.1*1024,939,1.0*1024,861,890,968,863,896,933,900,829,901,840,894,778,845,\n",
    "        783,861,871,780,770,669,814,812,793,623,788,719,727,604,\n",
    "686,693,714,546,665,687,637,602,600]\n",
    "knl_io=[306,298,326,304,300,291,275,275,288,262,271,267,244,250,245,229,213,226]\n",
    "knl_io_avg=np.mean(np.asarray(knl_io).reshape(-1, 3), axis=1)\n",
    "has_io_avg=np.mean(np.asarray(has_io).reshape(-1, 3), axis=1)\n",
    "knl_io_min=np.min(np.asarray(knl_io).reshape(-1, 3), axis=1)\n",
    "has_io_min=np.min(np.asarray(has_io).reshape(-1, 3), axis=1)\n",
    "knl_io_max=np.max(np.asarray(knl_io).reshape(-1, 3), axis=1)\n",
    "has_io_max=np.max(np.asarray(has_io).reshape(-1, 3), axis=1)"
   ]
  },
  {
   "cell_type": "code",
   "execution_count": 89,
   "metadata": {
    "collapsed": false
   },
   "outputs": [
    {
     "name": "stdout",
     "output_type": "stream",
     "text": [
      "[ 310.          298.33333333  279.33333333  266.66666667  246.33333333\n",
      "  222.66666667]\n",
      "[298 291 275 262 244 213]\n",
      "[326 304 288 271 250 229]\n"
     ]
    }
   ],
   "source": [
    "print knl_io_avg\n",
    "print knl_io_min\n",
    "print knl_io_max\n",
    "knl_cpu1 =[i/1000000 for i in knl_cpu1]\n",
    "has_cpu1 =[i/1000000 for i in has_cpu1]"
   ]
  },
  {
   "cell_type": "code",
   "execution_count": 142,
   "metadata": {
    "collapsed": false
   },
   "outputs": [
    {
     "name": "stdout",
     "output_type": "stream",
     "text": [
      "[2.3010000000000002, 2.2999999999999998, 2.2000000000000002, 2.1000000000000001, 2.0, 1.8999999999999999, 1.8, 1.7, 1.6000000000000001, 1.5, 1.3999999999999999, 1.3, 1.2]\n",
      "[1.401, 1.3999999999999999, 1.3, 1.2, 1.1000000000000001, 1.0]\n",
      "16\n"
     ]
    },
    {
     "data": {
      "text/plain": [
       "<matplotlib.legend.Legend at 0x10cca52d0>"
      ]
     },
     "execution_count": 142,
     "metadata": {},
     "output_type": "execute_result"
    },
    {
     "data": {
      "image/png": "[encoded data removed]",
      "text/plain": [
       "<matplotlib.figure.Figure at 0x10ca4ff50>"
      ]
     },
     "metadata": {},
     "output_type": "display_data"
    }
   ],
   "source": [
    "print has_cpu1\n",
    "print knl_cpu1\n",
    "all_cpu=[2.3010000000000002, 2.2999999999999998, 2.2000000000000002, \n",
    "         2.1000000000000001, 2.0, 1.8999999999999999, \n",
    "         1.8, 1.7, 1.6000000000000001, 1.5, 1.401, \n",
    "         1.3999999999999999, 1.3, 1.2,1.1000000000000001, 1.0]\n",
    "print len(all_cpu)\n",
    "has_x=[0,1,2,3,4,5,6,7,8,9,11,12,13]\n",
    "\n",
    "knl_x=[10,11,12,13,14,15]\n",
    "has_labels=[\"{0:.1f}\".format(x) for x in has_cpu1]\n",
    "knl_labels=[\"{0:.1f}\".format(x) for x in knl_cpu1]\n",
    "#plt.xticks(has_x,has_labels)\n",
    "\n",
    "plt.errorbar(knl_x,knl_io_avg, [knl_io_avg-knl_io_min, knl_io_max-knl_io_avg], fmt='--o', label=\"KNL\")\n",
    "\n",
    "plt.errorbar(has_x,has_io_avg, [has_io_avg-has_io_min, has_io_max-has_io_avg], fmt='--o', label=\"Haswell\")\n",
    "\n",
    "#plt.xticks(knl_x,knl_labels)\n",
    "all_labels=[\"{0:.1f}\".format(x) for x in all_cpu]\n",
    "\n",
    "plt.xticks(range(16),all_labels)\n",
    "plt.xlabel('CPU Frequencies, GHz, KNL: 1.0-1.401, Haswell: 1.2-2.301')\n",
    "plt.ylabel('IO Bandwidth, MB/s')\n",
    "plt.title('Single Core IO Bandwidth on CSCRATCH')\n",
    "#plt.yscale('logit')\n",
    "plt.grid(True)\n",
    "plt.ylim(50,1100)\n",
    "plt.legend()"
   ]
  },
  {
   "cell_type": "code",
   "execution_count": null,
   "metadata": {
    "collapsed": true
   },
   "outputs": [],
   "source": []
  },
  {
   "cell_type": "code",
   "execution_count": null,
   "metadata": {
    "collapsed": true
   },
   "outputs": [],
   "source": []
  }
 ],
 "metadata": {
  "kernelspec": {
   "display_name": "Python 2",
   "language": "python",
   "name": "python2"
  },
  "language_info": {
   "codemirror_mode": {
    "name": "ipython",
    "version": 2
   },
   "file_extension": ".py",
   "mimetype": "text/x-python",
   "name": "python",
   "nbconvert_exporter": "python",
   "pygments_lexer": "ipython2",
   "version": "2.7.9"
  }
 },
 "nbformat": 4,
 "nbformat_minor": 0
}
