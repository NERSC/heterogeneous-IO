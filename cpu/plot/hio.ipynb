{
 "cells": [
  {
   "cell_type": "markdown",
   "metadata": {},
   "source": [
    "# Comparison with different CPU Frequencies"
   ]
  },
  {
   "cell_type": "code",
   "execution_count": 9,
   "metadata": {
    "collapsed": false
   },
   "outputs": [],
   "source": [
    "import sys\n",
    "#print(sys.path)\n",
    "xx=['/global/common/cori/software/python/2.7-anaconda/lib/python27.zip', '/global/common/cori/software/python/2.7-anaconda/lib/python2.7', '/global/common/cori/software/python/2.7-anaconda/lib/python2.7/plat-linux2', '/global/common/cori/software/python/2.7-anaconda/lib/python2.7/lib-tk', '/global/common/cori/software/python/2.7-anaconda/lib/python2.7/lib-old', '/global/common/cori/software/python/2.7-anaconda/lib/python2.7/lib-dynload', '/global/homes/j/jialin/.local/cori/2.7-anaconda/lib/python2.7/site-packages', '/global/common/cori/software/python/2.7-anaconda/lib/python2.7/site-packages', '/global/common/cori/software/python/2.7-anaconda/lib/python2.7/site-packages/Sphinx-1.4.1-py2.7.egg', '/global/common/cori/software/python/2.7-anaconda/lib/python2.7/site-packages/gtk-2.0', '/global/common/cori/software/python/2.7-anaconda/lib/python2.7/site-packages/setuptools-23.0.0-py2.7.egg', '/global/common/cori/software/python/2.7-anaconda/lib/python2.7/site-packages/tabulate-0.7.7-py3.5.egg']\n",
    "for i in xx:\n",
    "    sys.path.append(i)\n",
    "#print(sys.path)\n"
   ]
  },
  {
   "cell_type": "markdown",
   "metadata": {},
   "source": [
    "# Parsing and Plotting Functions"
   ]
  },
  {
   "cell_type": "code",
   "execution_count": 10,
   "metadata": {
    "collapsed": false
   },
   "outputs": [
    {
     "ename": "NameError",
     "evalue": "name 'df_knl_same' is not defined",
     "output_type": "error",
     "traceback": [
      "\u001b[0;31m\u001b[0m",
      "\u001b[0;31mNameError\u001b[0mTraceback (most recent call last)",
      "\u001b[0;32m<ipython-input-10-664667f54ca0>\u001b[0m in \u001b[0;36m<module>\u001b[0;34m()\u001b[0m\n\u001b[1;32m    151\u001b[0m \u001b[0mdic_knl\u001b[0m\u001b[0;34m=\u001b[0m\u001b[0;34m{\u001b[0m\u001b[0;34m}\u001b[0m\u001b[0;34m\u001b[0m\u001b[0m\n\u001b[1;32m    152\u001b[0m \u001b[0mdic_hasknl\u001b[0m\u001b[0;34m=\u001b[0m\u001b[0;34m{\u001b[0m\u001b[0;34m}\u001b[0m\u001b[0;34m\u001b[0m\u001b[0m\n\u001b[0;32m--> 153\u001b[0;31m \u001b[0mframes\u001b[0m\u001b[0;34m=\u001b[0m\u001b[0;34m[\u001b[0m\u001b[0mdf_knl_same\u001b[0m\u001b[0;34m,\u001b[0m\u001b[0mdf_has_same\u001b[0m\u001b[0;34m]\u001b[0m\u001b[0;34m\u001b[0m\u001b[0m\n\u001b[0m\u001b[1;32m    154\u001b[0m \u001b[0mdf_hasknl\u001b[0m\u001b[0;34m=\u001b[0m\u001b[0mpd\u001b[0m\u001b[0;34m.\u001b[0m\u001b[0mconcat\u001b[0m\u001b[0;34m(\u001b[0m\u001b[0mframes\u001b[0m\u001b[0;34m,\u001b[0m\u001b[0mignore_index\u001b[0m\u001b[0;34m=\u001b[0m\u001b[0mTrue\u001b[0m\u001b[0;34m)\u001b[0m\u001b[0;34m\u001b[0m\u001b[0m\n\u001b[1;32m    155\u001b[0m \u001b[0;32mdef\u001b[0m \u001b[0mplot_same\u001b[0m\u001b[0;34m(\u001b[0m\u001b[0;34m)\u001b[0m\u001b[0;34m:\u001b[0m  \u001b[0;31m# select the cpu-freq that both kNL and Haswell have, e..g, 1.4Ghz, then fit it with it's IO\u001b[0m\u001b[0;34m\u001b[0m\u001b[0m\n",
      "\u001b[0;31mNameError\u001b[0m: name 'df_knl_same' is not defined"
     ]
    }
   ],
   "source": [
    "#parse bandwidth result, each test is repeated 3 times\n",
    "import numpy as np\n",
    "import matplotlib.pyplot as plt\n",
    "import pandas as pd\n",
    "%matplotlib inline \n",
    "def parse_line_cpu(txtf): # parse a list of numbers in text file as array\n",
    "    f = open(txtf, 'r')\n",
    "    x = f.read().split('\\n')\n",
    "    x=filter(None,x)\n",
    "    x = [int(i.split(':')[1]) for i in x]\n",
    "    x=np.asarray(x,dtype='float')\n",
    "    return x\n",
    "def parse_line_io(txtf): # parse a list of numbers in text file as array\n",
    "    f = open(txtf, 'r')\n",
    "    x = f.read().split('\\n')\n",
    "    x=filter(None,x)\n",
    "    x=np.asarray(x)[2:]\n",
    "    x=np.asarray(x,dtype='float')\n",
    "    return x\n",
    "#parse dd perf result\n",
    "def parse_line_perf(txtf):\n",
    "    f = open(txtf, 'r')\n",
    "    x = f.read().split('\\n')\n",
    "    x=filter(None,x)\n",
    "    ax=list()\n",
    "    for ix in x:\n",
    "        if '#' in ix:\n",
    "            ix = ix.split('#')[1].strip().split(' ')[0].strip('%')\n",
    "            ax.append(ix)\n",
    "    ax=np.asarray(ax,dtype='float')\n",
    "    return ax\n",
    "def parse_line_perf_raw(txtf): # parse perf result and return an array\n",
    "    f = open(txtf, 'r')\n",
    "    x = f.read().split('\\n')\n",
    "    x=filter(None,x)\n",
    "    ax=list()\n",
    "    for ix in x:\n",
    "        if '#' in ix:\n",
    "            ix = ix.split('#')[0].strip().split(' ')[0].strip('%')\n",
    "            ax.append(ix)\n",
    "    ax=np.asarray(ax,dtype='float')\n",
    "    return ax\n",
    "# Linear Fit and Plot\n",
    "def plt_fit(has_cpu1,has_io_avg,xlabel=None,ylabel=None): # Linear Fit and plot IO bw with cpu freq\n",
    "    from scipy import stats\n",
    "    import sys\n",
    "    has_cpu1=has_cpu1\n",
    "    has_io_avg=has_io_avg\n",
    "    slope, intercept, r_value, p_value, std_err = stats.linregress(has_cpu1,has_io_avg)\n",
    "    print 'slope:%.2f'%slope\n",
    "    print 'intercept:%.2f'%intercept\n",
    "    print 'r-square:%.2f'%(r_value*r_value)\n",
    "    predict_y = slope*has_cpu1+intercept\n",
    "    x=has_cpu1\n",
    "    y=has_io_avg\n",
    "    pred_error = y - predict_y\n",
    "    degrees_of_freedom = len(x) - 2\n",
    "    residual_std_error = np.sqrt(np.sum(pred_error**2) / degrees_of_freedom)\n",
    "    # Plotting\n",
    "    plt.plot(x, y, 'o',label='data')\n",
    "    plt.xlabel(xlabel)\n",
    "    plt.ylabel(ylabel)\n",
    "    plt.plot(x, predict_y, 'k-',label='fitting,r^2=%.2f'%(r_value*r_value))\n",
    "    plt.legend(loc='upper left')\n",
    "    plt.show()\n",
    "    return slope,intercept,r_value*r_value\n",
    "def plot_hasknl(df_has,df_knl,xt): #plot the IO bw and the cpu freq, knl and has together, plus trubo mode\n",
    "    df_has_turbo_maxio=pd.to_numeric(df_has.groupby(df_has.index / 3).max()['io'])[0]\n",
    "    df_knl_turbo_maxio=pd.to_numeric(df_knl.groupby(df_knl.index / 3).max()['io'])[0]\n",
    "    df_has_turbo_minio=pd.to_numeric(df_has.groupby(df_has.index / 3).min()['io'])[0]\n",
    "    df_knl_turbo_minio=pd.to_numeric(df_knl.groupby(df_knl.index / 3).min()['io'])[0]\n",
    "    df_has_turbo_meanio=pd.to_numeric(df_has.groupby(df_has.index / 3).mean()['io'])[0]\n",
    "    df_knl_turbo_meanio=pd.to_numeric(df_knl.groupby(df_knl.index / 3).mean()['io'])[0]\n",
    "    print 'Turbo IO BW(MB/s):Haswell:%.2f\\tKNL:%.2f\\n'%(df_has_turbo_maxio,df_knl_turbo_maxio)\n",
    "    print \"Turbo IO BW Ratio:%.2f\\n\"%(df_has_turbo_maxio/df_knl_turbo_maxio)\n",
    "    has_cpumax=df_has.groupby(df_has.index / 3).mean()['ClockRate'].apply(lambda x : round(x,1))[0]\n",
    "    knl_cpumax=df_knl.groupby(df_knl.index / 3).mean()['ClockRate'].apply(lambda x: round(x,1))[0]\n",
    "    \n",
    "    print 'Turbo CPU Frequency(Ghz):Haswell:%.2f\\tKNL:%.2f\\n'%(has_cpumax,knl_cpumax)\n",
    "    print 'Turbo CPU Frequency Ratio:%.2f\\n'%(has_cpumax/knl_cpumax)\n",
    "\n",
    "    df_has1=df_has[3:]\n",
    "    df_knl1=df_knl[3:]\n",
    "    df_has_mean=pd.to_numeric(df_has1.groupby(df_has1.index / 3).mean()['io'])\n",
    "    df_has_max=pd.to_numeric(df_has1.groupby(df_has1.index / 3).max()['io'])\n",
    "    df_has_min=pd.to_numeric(df_has1.groupby(df_has1.index / 3).min()['io'])\n",
    "    df_knl_mean=pd.to_numeric(df_knl1.groupby(df_knl1.index / 3).mean()['io'])\n",
    "    df_knl_max=pd.to_numeric(df_knl1.groupby(df_knl1.index / 3).max()['io'])\n",
    "    df_knl_min=pd.to_numeric(df_knl1.groupby(df_knl1.index / 3).min()['io'])\n",
    "    mean_ioratio=np.zeros(3)\n",
    "    for i in (1,2,3):\n",
    "        mean_ioratio[i-1]=df_has_mean[9+i]/df_knl_mean[i]\n",
    "    print \"Average IO BW Ratio at Same CPU Frequency:%.2f\\n\"%(np.mean(mean_ioratio))\n",
    "    allcpu,has_x,knl_x=index_cpu(df_has1,df_knl1)\n",
    "    #df_has['userset'].indexof()\n",
    "\n",
    "    plt.errorbar(knl_x+1,df_knl_mean, [df_knl_mean-df_knl_min, df_knl_max-df_knl_mean], fmt='--o', label=\"KNL\")\n",
    "    plt.errorbar(has_x+1,df_has_mean, [df_has_mean-df_has_min, df_has_max-df_has_mean], fmt='--o', label=\"Haswell\")\n",
    "    #print df_knl_turbo_meanio-df_knl_turbo_minio\n",
    "    #print df_knl_turbo_maxio-df_knl_turbo_meanio\n",
    "    #print df_has_turbo_meanio-df_has_turbo_minio\n",
    "    #print df_has_turbo_maxio-df_has_turbo_meanio\n",
    "    #print df_knl_turbo_meanio, df_has_turbo_meanio\n",
    "    plt.errorbar(9,df_knl_turbo_meanio,[[df_knl_turbo_meanio-df_knl_turbo_minio, df_knl_turbo_maxio-df_knl_turbo_meanio]],fmt='r*') # turbo knl\n",
    "    plt.errorbar(0,df_has_turbo_meanio,[[df_has_turbo_meanio-df_has_turbo_minio, df_has_turbo_maxio-df_has_turbo_meanio]],fmt='r*') # turbo knl\n",
    "    #plt.xticks(knl_x,knl_labels)\n",
    "    all_labels=[\"{0:.1f}\".format(x) for x in allcpu]\n",
    "    all_labels.insert(0,has_cpumax)\n",
    "    #all_labels[9]=1.501\n",
    "    plt.xticks(range(15),all_labels)\n",
    "    plt.xlabel('CPU Frequencies, GHz, KNL: 1.0-1.4, Haswell: 1.2-2.3')\n",
    "    plt.ylabel('IO Bandwidth (MB/s)')\n",
    "    plt.title(xt)\n",
    "    plt.grid(True)\n",
    "    plt.ylim(150,1150)\n",
    "    plt.legend()\n",
    "\n",
    "    plt.annotate('Turbo KNL, %.2fGHz'%knl_cpumax, xy=(9, df_knl_turbo_meanio), xytext=(8, 410),\n",
    "                arrowprops=dict(facecolor='blue', shrink=1),\n",
    "                )\n",
    "    plt.annotate('Turbo Haswell, %.2fGHz'%has_cpumax, xy=(0, df_has_turbo_meanio), xytext=(1, 1010),\n",
    "                arrowprops=dict(facecolor='blue', shrink=1),\n",
    "                )\n",
    "    \n",
    "def index_cpu(df_has,df_knl): # First combining all knl and has reported cpu freq, then return the unique cpu freq, and index of knl and has in that unique array\n",
    "    has_cpu=df_has.groupby(df_has.index / 3).mean()['ClockRate'].apply(lambda x : round(x,1))\n",
    "    knl_cpu=df_knl.groupby(df_knl.index / 3).mean()['ClockRate'].apply(lambda x: round(x,1))\n",
    "\n",
    "    has_1cpu=has_cpu.copy()\n",
    "    has_cpu=has_cpu.append(knl_cpu)\n",
    "    #print 'has cpu unique:\\n',has_cpu.unique()\n",
    "    search_has=has_1cpu.as_matrix()\n",
    "    search_knl=knl_cpu.as_matrix()\n",
    "    master=has_cpu.unique()\n",
    "    search_has_id=list()\n",
    "    search_knl_id=list()\n",
    "    #print 'all cpu:\\n',master\n",
    "    #print 'has cpu:\\n',search_has\n",
    "    #print 'knl cpu:\\n',search_knl\n",
    "    for i in search_has:\n",
    "        if i in master:\n",
    "            x=np.where(i==master)[0][0]\n",
    "            search_has_id.append(x)\n",
    "    for i in search_knl:\n",
    "        if i in master:\n",
    "            x=np.where(i==master)[0][0]\n",
    "            search_knl_id.append(x)\n",
    "    return master,np.asarray(search_has_id),np.asarray(search_knl_id)\n",
    "\n",
    "dic_has={}\n",
    "dic_knl={}\n",
    "dic_hasknl={}\n",
    "frames=[df_knl_same,df_has_same]\n",
    "df_hasknl=pd.concat(frames,ignore_index=True)\n",
    "def plot_same():  # select the cpu-freq that both kNL and Haswell have, e..g, 1.4Ghz, then fit it with it's IO\n",
    "    for icl in df_has_same.columns:\n",
    "        (k,b,rs)=plt_fit(df_has_same[icl],df_has_same['io'],icl+'-haswell','IO Bandwidth')\n",
    "        dic_has[icl]=rs\n",
    "        (k,b,rs)=plt_fit(df_knl_same[icl],df_knl_same['io'],icl+'-knl','IO Bandwidth')\n",
    "        dic_knl[icl]=rs\n",
    "        (k,b,rs)=plt_fit(df_hasknl[icl],df_hasknl['io'],icl+'-hasknl','IO Bandwidth')\n",
    "        dic_hasknl[icl]=rs\n",
    "    print \"HASWELL\"\n",
    "    for key, value in sorted(dic_has.iteritems(), key=lambda (k,v): (v,k)):\n",
    "        print \"%s\\t\\t%.2f\" % (key, value)\n",
    "    print ('\\n')\n",
    "    print \"KNL\"\n",
    "    for key, value in sorted(dic_knl.iteritems(), key=lambda (k,v): (v,k)):\n",
    "        print \"%s\\t\\t%.2f\" % (key, value)\n",
    "    print ('\\n')\n",
    "    print \"HASWELL-KNL\"\n",
    "    for key, value in sorted(dic_hasknl.iteritems(), key=lambda (k,v): (v,k)):\n",
    "        print \"%s\\t\\t%.2f\" % (key, value)\n",
    "dic_has={}\n",
    "dic_knl={}\n",
    "dic_hasknl={}\n",
    "frames=[df_knl,df_has]\n",
    "df_hasknl=pd.concat(frames,ignore_index=True)\n",
    "def plot_all(): # fit and plot all data for both knl and haswell\n",
    "    for icl in df_has.columns:\n",
    "        (k,b,rs)=plt_fit(df_has[icl],df_has['io'],icl+'-haswell','IO Bandwidth')\n",
    "        dic_has[icl]=rs\n",
    "        (k,b,rs)=plt_fit(df_knl[icl],df_knl['io'],icl+'-knl','IO Bandwidth')\n",
    "        dic_knl[icl]=rs\n",
    "        (k,b,rs)=plt_fit(df_hasknl[icl],df_hasknl['io'],icl+'-hasknl','IO Bandwidth')\n",
    "        dic_hasknl[icl]=rs\n",
    "    print \"HASWELL\"\n",
    "    for key, value in sorted(dic_has.iteritems(), key=lambda (k,v): (v,k)):\n",
    "        print \"%s\\t\\t%.2f\" % (key, value)\n",
    "    print ('\\n')\n",
    "    print \"KNL\"\n",
    "    for key, value in sorted(dic_knl.iteritems(), key=lambda (k,v): (v,k)):\n",
    "        print \"%s\\t\\t%.2f\" % (key, value)\n",
    "    print ('\\n')\n",
    "    print \"HASWELL-KNL\"\n",
    "    for key, value in sorted(dic_hasknl.iteritems(), key=lambda (k,v): (v,k)):\n",
    "        print \"%s\\t\\t%.2f\" % (key, value)"
   ]
  },
  {
   "cell_type": "markdown",
   "metadata": {},
   "source": [
    "# Data Loading and DataFrame Construction Functions"
   ]
  },
  {
   "cell_type": "code",
   "execution_count": 11,
   "metadata": {
    "collapsed": false
   },
   "outputs": [],
   "source": [
    "def load_data(knl_perf_f,has_perf_f,knl_cpu_f,has_cpu_f,has_io_f,knl_io_f,raw):\n",
    "    #parse all files\n",
    "    knl_cpu=parse_line_cpu(knl_cpu_f)\n",
    "    has_cpu=parse_line_cpu(has_cpu_f)\n",
    "    if raw==1:\n",
    "        knl_perfs=parse_line_perf_raw(knl_perf_f)\n",
    "        has_perfs=parse_line_perf_raw(has_perf_f)\n",
    "    else:\n",
    "        knl_perfs=parse_line_perf(knl_perf_f)\n",
    "        has_perfs=parse_line_perf(has_perf_f)        \n",
    "    has_io=parse_line_io(has_io_f)\n",
    "    knl_io=parse_line_io(knl_io_f)\n",
    "\n",
    "    #reshaping io and perfs\n",
    "    knl_perfs=knl_perfs.reshape(-1,8) # there are 8 columns in the perf result, e.g., IPC, context-switch, etc\n",
    "    has_perfs=has_perfs.reshape(-1,8)\n",
    "\n",
    "    #calculating mean/max/min\n",
    "    import numpy as np\n",
    "    for x in range(len(knl_io)):\n",
    "        if knl_io[x] < 90:\n",
    "            knl_io[x]=knl_io[x]*1024\n",
    "    for x in range(len(has_io)):\n",
    "        if has_io[x] < 90:\n",
    "            has_io[x]=has_io[x]*1024\n",
    "    import pandas as pd\n",
    "    df_knl=pd.DataFrame(knl_perfs)\n",
    "    df_has=pd.DataFrame(has_perfs)\n",
    "    df_knl.columns=['CPUuti','Contxtsw',\n",
    "                    'cpumig','pageft',\n",
    "                    'ClockRate','IPC','branch','branchmis']\n",
    "    df_has.columns=['CPUuti','Contxtsw',\n",
    "                    'cpumig','pageft',\n",
    "                    'ClockRate','IPC','branch','branchmis']\n",
    "\n",
    "    df_knl_cpu=pd.DataFrame({'userset':knl_cpu})\n",
    "    df_knl=df_knl.join(df_knl_cpu)\n",
    "\n",
    "    df_has_cpu=pd.DataFrame({'userset':has_cpu})\n",
    "    df_has=df_has.join(df_has_cpu)\n",
    "\n",
    "    df_knl_io=pd.DataFrame({'io':knl_io})\n",
    "    df_knl=df_knl.join(df_knl_io)\n",
    "    df_has_io=pd.DataFrame({'io':has_io})\n",
    "    df_has=df_has.join(df_has_io)\n",
    "    df_has['userset']=df_has['userset'].apply(lambda x : x/1000000.0)\n",
    "    df_knl['userset']=df_knl['userset'].apply(lambda x : x/1000000.0)\n",
    "    return df_has,df_knl"
   ]
  },
  {
   "cell_type": "markdown",
   "metadata": {},
   "source": [
    "# Analyze the Data from the test of 'dd to cscratch'"
   ]
  },
  {
   "cell_type": "code",
   "execution_count": 12,
   "metadata": {
    "collapsed": false
   },
   "outputs": [],
   "source": [
    "#log files, perf detials:\n",
    "knl_perf_f=\"../log/dd_cscratch/knl.err\"\n",
    "has_perf_f=\"../log/dd_cscratch/haswell.err\"\n",
    "#user specified cpu scaling freqs\n",
    "knl_cpu_f='../log/dd_cscratch/cpu_knl.txt'\n",
    "has_cpu_f='../log/dd_cscratch/cpu_has.txt'\n",
    "#observed io bw\n",
    "has_io_f='../log/dd_cscratch/haswell.3711608.bw'\n",
    "knl_io_f='../log/dd_cscratch/knl.3711609.bw'\n",
    "raw=1\n",
    "(df_has_raw,df_knl_raw)=load_data(knl_perf_f,has_perf_f,knl_cpu_f,has_cpu_f,has_io_f,knl_io_f,raw)\n",
    "raw=0\n",
    "(df_has,df_knl)=load_data(knl_perf_f,has_perf_f,knl_cpu_f,has_cpu_f,has_io_f,knl_io_f,raw)\n",
    "df_knl_same=df_knl[(df_knl['userset'] <=1.4) & (df_knl['userset'] >=1.2)]\n",
    "df_has_same=df_has[(df_has['userset'] <=1.4) & (df_has['userset'] >=1.2)]"
   ]
  },
  {
   "cell_type": "code",
   "execution_count": 396,
   "metadata": {
    "collapsed": false
   },
   "outputs": [
    {
     "name": "stdout",
     "output_type": "stream",
     "text": [
      "Turbo IO BW(MB/s):Haswell:1126.40\tKNL:326.00\n",
      "\n",
      "Turbo IO BW Ratio:3.46\n",
      "\n",
      "Turbo CPU Frequency(Ghz):Haswell:3.40\tKNL:1.50\n",
      "\n",
      "Turbo CPU Frequency Ratio:2.27\n",
      "\n",
      "Average IO BW Ratio at Same CPU Frequency:2.30\n",
      "\n"
     ]
    },
    {
     "data": {
      "image/png": "[encoded data removed]",
      "text/plain": [
       "<matplotlib.figure.Figure at 0x7f34ee337f50>"
      ]
     },
     "metadata": {},
     "output_type": "display_data"
    }
   ],
   "source": [
    "plot_hasknl(df_has,df_knl,\"Single Core dd IO Bandwidth on CSCRATCH\")"
   ]
  },
  {
   "cell_type": "markdown",
   "metadata": {},
   "source": [
    "# IPC Comparison at Same CPU Frequencies"
   ]
  },
  {
   "cell_type": "code",
   "execution_count": 429,
   "metadata": {
    "collapsed": false
   },
   "outputs": [
    {
     "name": "stdout",
     "output_type": "stream",
     "text": [
      "Mean IPC Ratio:2.23\n",
      "Mean IPC Ratio at Same CPU Freq:2.35\n",
      "Haswell IPC \tMean:1.17\tMin:1.04\tMax:1.28\tStd:0.05\n",
      "KNL IPC \tMean:0.53\tMin:0.50\tMax:0.55\tStd:0.01\n"
     ]
    },
    {
     "data": {
      "image/png": "[encoded data removed]",
      "text/plain": [
       "<matplotlib.figure.Figure at 0x7f34ee134510>"
      ]
     },
     "metadata": {},
     "output_type": "display_data"
    }
   ],
   "source": [
    "df_has_same_mean=df_has_same.groupby(df_has_same.index / 3).mean()\n",
    "df_knl_same_mean=df_knl_same.groupby(df_knl_same.index / 3).mean()\n",
    "df_has_mean=pd.to_numeric(df_has_same_mean['IPC'])\n",
    "df_knl_mean=pd.to_numeric(df_knl_same_mean['IPC'])\n",
    "df_has_cpu_mean=pd.to_numeric(df_has_same_mean['ClockRate']).apply(lambda x : round(x,2))\n",
    "df_knl_cpu_mean=pd.to_numeric(df_knl_same_mean['ClockRate']).apply(lambda x : round(x,2))\n",
    "plt.xlabel('CPU Frequencies, GHz')\n",
    "plt.ylabel('IPC')\n",
    "plt.plot(df_has_cpu_mean,df_has_mean,'o-',label=\"Haswell\")\n",
    "plt.plot(df_has_cpu_mean,df_knl_mean,'^-',label=\"KNL\")\n",
    "plt.legend(loc='center left')\n",
    "plt.xticks(df_has_cpu_mean)\n",
    "plt.xlim(1.18,1.41)\n",
    "plt.title('IPC Comparison at Same CPU Frequencies')\n",
    "#df_has_cpu_mean\n",
    "print 'Mean IPC Ratio:%.2f'%(df_has['IPC'].mean()/df_knl['IPC'].mean())\n",
    "\n",
    "print 'Mean IPC Ratio at Same CPU Freq:%.2f'%(df_has_same['IPC'].mean()/df_knl_same['IPC'].mean())\n",
    "print \"Haswell IPC \\tMean:%.2f\\tMin:%.2f\\tMax:%.2f\\tStd:%.2f\"%(df_has['IPC'].mean(),df_has['IPC'].min(),df_has['IPC'].max(),df_has['IPC'].std())\n",
    "print \"KNL IPC \\tMean:%.2f\\tMin:%.2f\\tMax:%.2f\\tStd:%.2f\"%(df_knl['IPC'].mean(),df_knl['IPC'].min(),df_knl['IPC'].max(),df_knl['IPC'].std())"
   ]
  },
  {
   "cell_type": "markdown",
   "metadata": {},
   "source": [
    "# IO~CPU Frequencies on Haswell"
   ]
  },
  {
   "cell_type": "code",
   "execution_count": 275,
   "metadata": {
    "collapsed": false
   },
   "outputs": [
    {
     "name": "stdout",
     "output_type": "stream",
     "text": [
      "slope:278.29\n",
      "intercept:286.11\n",
      "r-square:0.79\n"
     ]
    },
    {
     "data": {
      "image/png": "[encoded data removed]",
      "text/plain": [
       "<matplotlib.figure.Figure at 0x7f34ef4d2710>"
      ]
     },
     "metadata": {},
     "output_type": "display_data"
    },
    {
     "name": "stdout",
     "output_type": "stream",
     "text": [
      "slope:201.30\n",
      "intercept:415.31\n",
      "r-square:0.76\n"
     ]
    },
    {
     "data": {
      "image/png": "[encoded data removed]",
      "text/plain": [
       "<matplotlib.figure.Figure at 0x7f34ef98f350>"
      ]
     },
     "metadata": {},
     "output_type": "display_data"
    },
    {
     "data": {
      "text/plain": [
       "(201.30315647922006, 415.3132503758967, 0.76211345180699763)"
      ]
     },
     "execution_count": 275,
     "metadata": {},
     "output_type": "execute_result"
    }
   ],
   "source": [
    "plt_fit(df_has['ClockRate'][3:],df_has['io'][3:],'ClockRate-Haswell(GHz)','IO Bandwidth (MB/s)')\n",
    "plt_fit(df_has['ClockRate'],df_has['io'],'ClockRate-Haswell(GHz), + Turbo Mode','IO Bandwidth (MB/s)')"
   ]
  },
  {
   "cell_type": "markdown",
   "metadata": {},
   "source": [
    "# IO~CPU Frequencies on KNL"
   ]
  },
  {
   "cell_type": "code",
   "execution_count": 276,
   "metadata": {
    "collapsed": false
   },
   "outputs": [
    {
     "name": "stdout",
     "output_type": "stream",
     "text": [
      "slope:184.33\n",
      "intercept:41.28\n",
      "r-square:0.95\n"
     ]
    },
    {
     "data": {
      "image/png": "[encoded data removed]",
      "text/plain": [
       "<matplotlib.figure.Figure at 0x7f34ef300d50>"
      ]
     },
     "metadata": {},
     "output_type": "display_data"
    },
    {
     "name": "stdout",
     "output_type": "stream",
     "text": [
      "slope:172.95\n",
      "intercept:54.19\n",
      "r-square:0.94\n"
     ]
    },
    {
     "data": {
      "image/png": "[encoded data removed]",
      "text/plain": [
       "<matplotlib.figure.Figure at 0x7f34ef76be10>"
      ]
     },
     "metadata": {},
     "output_type": "display_data"
    },
    {
     "data": {
      "text/plain": [
       "(172.95238095238096, 54.192126984126929, 0.93910171103563933)"
      ]
     },
     "execution_count": 276,
     "metadata": {},
     "output_type": "execute_result"
    }
   ],
   "source": [
    "plt_fit(df_knl['ClockRate'][3:],df_knl['io'][3:],'ClockRate-Knl (GHz)','IO Bandwidth(MB/s)')\n",
    "plt_fit(df_knl['ClockRate'],df_knl['io']\n",
    "        ,'ClockRate-Knl (GHz), + Turbo Mode','IO Bandwidth(MB/s)')"
   ]
  },
  {
   "cell_type": "code",
   "execution_count": 307,
   "metadata": {
    "collapsed": true
   },
   "outputs": [],
   "source": [
    "# Regression Analysis "
   ]
  },
  {
   "cell_type": "code",
   "execution_count": 308,
   "metadata": {
    "collapsed": false
   },
   "outputs": [
    {
     "data": {
      "text/plain": [
       "PCA(copy=True, n_components=4, whiten=False)"
      ]
     },
     "execution_count": 308,
     "metadata": {},
     "output_type": "execute_result"
    }
   ],
   "source": [
    "#df_hasknl\n",
    "from sklearn.decomposition import PCA\n",
    "pca =PCA(n_components=4)\n",
    "pca.fit(df_hasknl)\n",
    "#IPC + cpu-mig(K/sec) + pageft(K/sec) + ClockRate(Ghz) + branch(M/sec) + branchmis(%)"
   ]
  },
  {
   "cell_type": "code",
   "execution_count": 309,
   "metadata": {
    "collapsed": true
   },
   "outputs": [],
   "source": [
    "# Regression KNL and Haswell together"
   ]
  },
  {
   "cell_type": "code",
   "execution_count": 310,
   "metadata": {
    "collapsed": false
   },
   "outputs": [],
   "source": [
    "import statsmodels.api as sm\n",
    "from patsy import dmatrices\n",
    "y, X = dmatrices('io ~ IPC + pageft + ClockRate + branch', data=df_hasknl, return_type='dataframe')\n",
    "mod = sm.OLS(y, X)\n",
    "result=mod.fit()\n",
    "#print result.summary()"
   ]
  },
  {
   "cell_type": "code",
   "execution_count": 311,
   "metadata": {
    "collapsed": true
   },
   "outputs": [],
   "source": [
    "# Regression Haswell only"
   ]
  },
  {
   "cell_type": "code",
   "execution_count": 312,
   "metadata": {
    "collapsed": false
   },
   "outputs": [],
   "source": [
    "y, X = dmatrices('io ~ IPC + pageft + ClockRate + branch', data=df_has, return_type='dataframe')\n",
    "mod = sm.OLS(y, X)\n",
    "result=mod.fit()\n",
    "#print result.summary()"
   ]
  },
  {
   "cell_type": "code",
   "execution_count": 313,
   "metadata": {
    "collapsed": true
   },
   "outputs": [],
   "source": [
    "# Regression KNL only"
   ]
  },
  {
   "cell_type": "code",
   "execution_count": 314,
   "metadata": {
    "collapsed": false
   },
   "outputs": [],
   "source": [
    "y, X = dmatrices('io ~ IPC + pageft + ClockRate + branch', data=df_knl, return_type='dataframe')\n",
    "mod = sm.OLS(y, X)\n",
    "result=mod.fit()\n",
    "#print result.summary()"
   ]
  },
  {
   "cell_type": "code",
   "execution_count": 315,
   "metadata": {
    "collapsed": true
   },
   "outputs": [],
   "source": [
    "## Conclusion 1: KNL's single IO performance is more correlated with CPU frequencies than Haswell, r-square 0.94> 0.76\n",
    "## Conclusion 2: With same CPU frequencies, the IO performance ratio between Haswell and KNL: 2.26\n",
    "## Conclusion 3: The single core peak IO performance ratio between Haswell and KNL: 3.32"
   ]
  },
  {
   "cell_type": "markdown",
   "metadata": {},
   "source": [
    "# Analyze the Data from the test of 'dd to null'"
   ]
  },
  {
   "cell_type": "markdown",
   "metadata": {},
   "source": [
    "\n"
   ]
  },
  {
   "cell_type": "code",
   "execution_count": 316,
   "metadata": {
    "collapsed": false
   },
   "outputs": [],
   "source": [
    "#log files, perf detials:\n",
    "knl_perf_f=\"../log/dd_null//knl.err\"\n",
    "has_perf_f=\"../log/dd_null/has.err\"\n",
    "#user specified cpu scaling freqs\n",
    "knl_cpu_f='../log/dd_null/cpu_knl.txt'\n",
    "has_cpu_f='../log/dd_null/cpu_has.txt'\n",
    "#observed io bw\n",
    "has_io_f='../log/dd_null/null.haswell.3827241.bw'\n",
    "knl_io_f='../log/dd_null/null.knl.3827242.bw'\n",
    "raw=1\n",
    "(df_has_null_raw,df_knl_null_raw)=load_data(knl_perf_f,has_perf_f,knl_cpu_f,has_cpu_f,has_io_f,knl_io_f,raw)\n",
    "raw=0\n",
    "(df_has_null,df_knl_null)=load_data(knl_perf_f,has_perf_f,knl_cpu_f,has_cpu_f,has_io_f,knl_io_f,raw)\n",
    "df_knl_null_same=df_knl_null[(df_knl_null['userset'] <=1.4) & (df_knl_null['userset'] >=1.2)]\n",
    "df_has_null_same=df_has_null[(df_has_null['userset'] <=1.4) & (df_has_null['userset'] >=1.2)]"
   ]
  },
  {
   "cell_type": "code",
   "execution_count": 317,
   "metadata": {
    "collapsed": false
   },
   "outputs": [
    {
     "name": "stdout",
     "output_type": "stream",
     "text": [
      "Mean IPC Ratio at Same CPU Freq:2.05\n",
      "Haswell IPC \tMean:2.64\tMin:2.40\tMax:2.97\tStd:0.10\n",
      "KNL IPC \tMean:1.30\tMin:1.30\tMax:1.30\tStd:0.00\n"
     ]
    },
    {
     "data": {
      "image/png": "[encoded data removed]",
      "text/plain": [
       "<matplotlib.figure.Figure at 0x7f34eed64390>"
      ]
     },
     "metadata": {},
     "output_type": "display_data"
    }
   ],
   "source": [
    "df_has_same_mean=df_has_same.groupby(df_has_null_same.index / 3).mean()\n",
    "df_knl_same_mean=df_knl_same.groupby(df_knl_null_same.index / 3).mean()\n",
    "df_has_mean=pd.to_numeric(df_has_same_mean['IPC'])\n",
    "df_knl_mean=pd.to_numeric(df_knl_same_mean['IPC'])\n",
    "df_has_cpu_mean=pd.to_numeric(df_has_same_mean['ClockRate']).apply(lambda x : round(x,2))\n",
    "df_knl_cpu_mean=pd.to_numeric(df_knl_same_mean['ClockRate']).apply(lambda x : round(x,2))\n",
    "plt.xlabel('CPU Frequencies, GHz')\n",
    "plt.ylabel('IPC')\n",
    "plt.plot(df_has_cpu_mean,df_has_mean,'o-',label=\"Haswell\")\n",
    "plt.plot(df_has_cpu_mean,df_knl_mean,'^-',label=\"KNL\")\n",
    "plt.legend(loc='center left')\n",
    "plt.xticks(df_has_cpu_mean)\n",
    "plt.xlim(1.18,1.41)\n",
    "plt.title('IPC Comparison at Same CPU Frequencies')\n",
    "#df_has_cpu_mean\n",
    "print 'Mean IPC Ratio at Same CPU Freq:%.2f'%(df_has_null_same['IPC'].mean()/df_knl_null_same['IPC'].mean())\n",
    "print \"Haswell IPC \\tMean:%.2f\\tMin:%.2f\\tMax:%.2f\\tStd:%.2f\"%(df_has_null['IPC'].mean(),df_has_null['IPC'].min(),df_has_null['IPC'].max(),df_has_null['IPC'].std())\n",
    "print \"KNL IPC \\tMean:%.2f\\tMin:%.2f\\tMax:%.2f\\tStd:%.2f\"%(df_knl_null['IPC'].mean(),df_knl_null['IPC'].min(),df_knl_null['IPC'].max(),df_knl_null['IPC'].std())"
   ]
  },
  {
   "cell_type": "code",
   "execution_count": 318,
   "metadata": {
    "collapsed": false
   },
   "outputs": [
    {
     "data": {
      "text/plain": [
       "<matplotlib.text.Text at 0x7f34ef77b6d0>"
      ]
     },
     "execution_count": 318,
     "metadata": {},
     "output_type": "execute_result"
    },
    {
     "data": {
      "image/png": "[encoded data removed]",
      "text/plain": [
       "<matplotlib.figure.Figure at 0x7f34eedf4b90>"
      ]
     },
     "metadata": {},
     "output_type": "display_data"
    }
   ],
   "source": [
    "length_cscratch=len(df_has_null_raw)\n",
    "a=np.arange(0,length_cscratch)\n",
    "plt.plot(a,df_has_raw['ClockRate'],'r',label='cscratch')\n",
    "plt.plot(a,df_has_null_raw['ClockRate'],'b',label='null')\n",
    "plt.legend()\n",
    "plt.ylabel('Cycles')\n",
    "plt.title('Haswell Cycles with dd to null vs. cscratch')"
   ]
  },
  {
   "cell_type": "code",
   "execution_count": 319,
   "metadata": {
    "collapsed": false
   },
   "outputs": [
    {
     "data": {
      "text/plain": [
       "<matplotlib.text.Text at 0x7f34ef755510>"
      ]
     },
     "execution_count": 319,
     "metadata": {},
     "output_type": "execute_result"
    },
    {
     "data": {
      "image/png": "[encoded data removed]",
      "text/plain": [
       "<matplotlib.figure.Figure at 0x7f34ef57fb90>"
      ]
     },
     "metadata": {},
     "output_type": "display_data"
    }
   ],
   "source": [
    "length_cscratch=len(df_knl_raw)\n",
    "a=np.arange(0,length_cscratch)\n",
    "plt.plot(a,df_knl_raw['ClockRate'],'r',label='cscratch')\n",
    "plt.plot(a,df_knl_null_raw['ClockRate'],'b',label='null')\n",
    "plt.legend()\n",
    "plt.ylabel('Cycles')\n",
    "plt.title('KNL Cycles with dd to null vs. cscratch')"
   ]
  },
  {
   "cell_type": "code",
   "execution_count": 320,
   "metadata": {
    "collapsed": false
   },
   "outputs": [
    {
     "data": {
      "text/plain": [
       "<matplotlib.text.Text at 0x7f34ef362590>"
      ]
     },
     "execution_count": 320,
     "metadata": {},
     "output_type": "execute_result"
    },
    {
     "data": {
      "image/png": "[encoded data removed]",
      "text/plain": [
       "<matplotlib.figure.Figure at 0x7f34ef7c3490>"
      ]
     },
     "metadata": {},
     "output_type": "display_data"
    }
   ],
   "source": [
    "length_null=len(df_knl_null_raw)\n",
    "length_cscratch=len(df_knl_raw)\n",
    "assert(length_null==length_cscratch)\n",
    "a=np.arange(0,length_cscratch)\n",
    "plt.plot(a,df_knl_raw['IPC'],'r',label='cscratch')\n",
    "plt.plot(a,df_knl_null_raw['IPC'],'b',label='null')\n",
    "plt.legend()\n",
    "plt.ylabel('Instructions')\n",
    "plt.title('KNL Instructions with dd to null vs. cscratch')"
   ]
  },
  {
   "cell_type": "code",
   "execution_count": 321,
   "metadata": {
    "collapsed": false
   },
   "outputs": [
    {
     "data": {
      "text/plain": [
       "<matplotlib.text.Text at 0x7f34eefb0c90>"
      ]
     },
     "execution_count": 321,
     "metadata": {},
     "output_type": "execute_result"
    },
    {
     "data": {
      "image/png": "[encoded data removed]",
      "text/plain": [
       "<matplotlib.figure.Figure at 0x7f34ef988d90>"
      ]
     },
     "metadata": {},
     "output_type": "display_data"
    }
   ],
   "source": [
    "length_null=len(df_has_null_raw)\n",
    "length_cscratch=len(df_has_raw)\n",
    "assert(length_null==length_cscratch)\n",
    "a=np.arange(0,length_cscratch)\n",
    "plt.plot(a,df_has_raw['IPC'],'r',label='cscratch')\n",
    "plt.plot(a,df_has_null_raw['IPC'],'b',label='null')\n",
    "plt.legend()\n",
    "plt.ylabel('Instructions')\n",
    "plt.title('Haswell Instructions with dd to null vs. cscratch')"
   ]
  },
  {
   "cell_type": "code",
   "execution_count": 322,
   "metadata": {
    "collapsed": true
   },
   "outputs": [],
   "source": [
    "# Conclusion 4 when writting to dev/null, much less number of instructions and cycles are produced"
   ]
  },
  {
   "cell_type": "code",
   "execution_count": 329,
   "metadata": {
    "collapsed": false
   },
   "outputs": [
    {
     "data": {
      "text/plain": [
       "<matplotlib.text.Text at 0x7f34ef209950>"
      ]
     },
     "execution_count": 329,
     "metadata": {},
     "output_type": "execute_result"
    },
    {
     "data": {
      "image/png": "[encoded data removed]",
      "text/plain": [
       "<matplotlib.figure.Figure at 0x7f34eef60790>"
      ]
     },
     "metadata": {},
     "output_type": "display_data"
    }
   ],
   "source": [
    "length_has=len(df_has_raw)\n",
    "#assert(length_null==length_cscratch)\n",
    "a=np.arange(0,length_has)\n",
    "length_knl=len(df_knl_raw)\n",
    "#assert(length_null==length_cscratch)\n",
    "b=np.arange(0,length_knl)\n",
    "plt.plot(27+b,df_knl_raw['ClockRate'],'r',label='KNL-cycles')\n",
    "plt.plot(a,df_has_raw['ClockRate'],'b',label='Haswell-cycles')\n",
    "plt.legend(loc='center left')\n",
    "plt.ylabel('Cycles')\n",
    "plt.title('KNL vs. Haswell Cycles with dd cscratch')"
   ]
  },
  {
   "cell_type": "code",
   "execution_count": null,
   "metadata": {
    "collapsed": false
   },
   "outputs": [],
   "source": [
    "length_has=len(df_has_raw)\n",
    "#assert(length_null==length_cscratch)\n",
    "a=np.arange(0,length_has)\n",
    "length_knl=len(df_knl_raw)\n",
    "#assert(length_null==length_cscratch)\n",
    "b=np.arange(0,length_knl)\n",
    "#print a\n",
    "plt.plot(27+b,df_knl_raw['IPC'],'r',label='KNL-intsructions')\n",
    "plt.plot(a,df_has_raw['IPC'],'b',label='Haswell-intstructions')\n",
    "plt.legend(loc='left')\n",
    "plt.ylabel('Cycles')\n",
    "plt.title('KNL vs. Haswell Instructions with dd cscratch')"
   ]
  },
  {
   "cell_type": "code",
   "execution_count": 286,
   "metadata": {
    "collapsed": true
   },
   "outputs": [],
   "source": [
    "# Try to compile on KNL, to see if there is any instruction difference, and IO difference"
   ]
  },
  {
   "cell_type": "markdown",
   "metadata": {},
   "source": [
    "# Analyze the Data from the test of 'hdf5 io to cscratch'"
   ]
  },
  {
   "cell_type": "code",
   "execution_count": 419,
   "metadata": {
    "collapsed": false
   },
   "outputs": [],
   "source": [
    "#log files, perf detials:\n",
    "knl_perf_f=\"../log/h5/knl.err\"\n",
    "has_perf_f=\"../log/h5/haswell.err\"\n",
    "#user specified cpu scaling freqs\n",
    "knl_cpu_f='../log/h5/cpu_knl.txt'\n",
    "has_cpu_f='../log/h5/cpu_has.txt'\n",
    "#observed io bw\n",
    "has_io_f='../log/h5/haswell.4029892.bw'\n",
    "knl_io_f='../log/h5/knl.4029891.bw'\n",
    "raw=1\n",
    "(df_has_h5_raw,df_knl_h5_raw)=load_data(knl_perf_f,has_perf_f,knl_cpu_f,has_cpu_f,has_io_f,knl_io_f,raw)\n",
    "raw=0\n",
    "(df_has_h5,df_knl_h5)=load_data(knl_perf_f,has_perf_f,knl_cpu_f,has_cpu_f,has_io_f,knl_io_f,raw)\n",
    "df_knl_h5_same=df_knl_h5[(df_knl_h5['userset'] <=1.4) & (df_knl_h5['userset'] >=1.2)]\n",
    "df_has_h5_same=df_has_h5[(df_has_h5['userset'] <=1.4) & (df_has_h5['userset'] >=1.2)]"
   ]
  },
  {
   "cell_type": "code",
   "execution_count": 420,
   "metadata": {
    "collapsed": false
   },
   "outputs": [
    {
     "name": "stdout",
     "output_type": "stream",
     "text": [
      "Turbo IO BW(MB/s):Haswell:1064.96\tKNL:348.16\n",
      "\n",
      "Turbo IO BW Ratio:3.06\n",
      "\n",
      "Turbo CPU Frequency(Ghz):Haswell:3.50\tKNL:1.50\n",
      "\n",
      "Turbo CPU Frequency Ratio:2.33\n",
      "\n",
      "Average IO BW Ratio at Same CPU Frequency:1.83\n",
      "\n"
     ]
    },
    {
     "data": {
      "image/png": "[encoded data removed]",
      "text/plain": [
       "<matplotlib.figure.Figure at 0x7f34edce2090>"
      ]
     },
     "metadata": {},
     "output_type": "display_data"
    }
   ],
   "source": [
    "plot_hasknl(df_has_h5,df_knl_h5,\"Single Core HDF5 IO Bandwidth on CSCRATCH\")"
   ]
  },
  {
   "cell_type": "code",
   "execution_count": 421,
   "metadata": {
    "collapsed": false
   },
   "outputs": [],
   "source": [
    "#plot_hasknl(df_has,df_knl,\"Single Core dd IO Bandwidth on CSCRATCH\")"
   ]
  },
  {
   "cell_type": "code",
   "execution_count": null,
   "metadata": {
    "collapsed": true
   },
   "outputs": [],
   "source": []
  },
  {
   "cell_type": "code",
   "execution_count": null,
   "metadata": {
    "collapsed": false
   },
   "outputs": [],
   "source": []
  },
  {
   "cell_type": "code",
   "execution_count": 430,
   "metadata": {
    "collapsed": false
   },
   "outputs": [
    {
     "name": "stdout",
     "output_type": "stream",
     "text": [
      "Mean IPC Ratio:1.88\n",
      "Mean IPC Ratio at Same CPU Freq:1.93\n",
      "Haswell IPC \tMean:1.49\tMin:1.36\tMax:1.55\tStd:0.04\n",
      "KNL IPC \tMean:0.79\tMin:0.78\tMax:0.81\tStd:0.01\n"
     ]
    },
    {
     "data": {
      "image/png": "[encoded data removed]",
      "text/plain": [
       "<matplotlib.figure.Figure at 0x7f34ee5f9fd0>"
      ]
     },
     "metadata": {},
     "output_type": "display_data"
    }
   ],
   "source": [
    "df_has_same_mean=df_has_h5_same.groupby(df_has_h5_same.index / 3).mean()\n",
    "df_knl_same_mean=df_knl_h5_same.groupby(df_knl_h5_same.index / 3).mean()\n",
    "df_has_mean=pd.to_numeric(df_has_same_mean['IPC'])\n",
    "df_knl_mean=pd.to_numeric(df_knl_same_mean['IPC'])\n",
    "df_has_cpu_mean=pd.to_numeric(df_has_same_mean['ClockRate']).apply(lambda x : round(x,2))\n",
    "df_knl_cpu_mean=pd.to_numeric(df_knl_same_mean['ClockRate']).apply(lambda x : round(x,2))\n",
    "plt.xlabel('CPU Frequencies, GHz')\n",
    "plt.ylabel('IPC')\n",
    "plt.plot(df_has_cpu_mean,df_has_mean,'o-',label=\"Haswell\")\n",
    "plt.plot(df_has_cpu_mean,df_knl_mean,'^-',label=\"KNL\")\n",
    "plt.legend(loc='center left')\n",
    "plt.xticks(df_has_cpu_mean)\n",
    "plt.xlim(1.18,1.41)\n",
    "plt.title('IPC Comparison at Same CPU Frequencies')\n",
    "#df_has_cpu_mean\n",
    "print 'Mean IPC Ratio:%.2f'%(df_has_h5['IPC'].mean()/df_knl_h5['IPC'].mean())\n",
    "\n",
    "print 'Mean IPC Ratio at Same CPU Freq:%.2f'%(df_has_h5_same['IPC'].mean()/df_knl_h5_same['IPC'].mean())\n",
    "print \"Haswell IPC \\tMean:%.2f\\tMin:%.2f\\tMax:%.2f\\tStd:%.2f\"%(df_has_h5['IPC'].mean(),df_has_h5['IPC'].min(),df_has_h5['IPC'].max(),df_has_h5['IPC'].std())\n",
    "print \"KNL IPC \\tMean:%.2f\\tMin:%.2f\\tMax:%.2f\\tStd:%.2f\"%(df_knl_h5['IPC'].mean(),df_knl_h5['IPC'].min(),df_knl_h5['IPC'].max(),df_knl_h5['IPC'].std())"
   ]
  },
  {
   "cell_type": "markdown",
   "metadata": {},
   "source": [
    "# IO~CPU Frequencies on Haswell"
   ]
  },
  {
   "cell_type": "code",
   "execution_count": 428,
   "metadata": {
    "collapsed": false
   },
   "outputs": [
    {
     "name": "stdout",
     "output_type": "stream",
     "text": [
      "slope:272.11\n",
      "intercept:225.54\n",
      "r-square:0.89\n"
     ]
    },
    {
     "data": {
      "image/png": "[encoded data removed]",
      "text/plain": [
       "<matplotlib.figure.Figure at 0x7f34ee27d4d0>"
      ]
     },
     "metadata": {},
     "output_type": "display_data"
    },
    {
     "name": "stdout",
     "output_type": "stream",
     "text": [
      "slope:189.09\n",
      "intercept:365.41\n",
      "r-square:0.81\n"
     ]
    },
    {
     "data": {
      "image/png": "[encoded data removed]",
      "text/plain": [
       "<matplotlib.figure.Figure at 0x7f34ee2292d0>"
      ]
     },
     "metadata": {},
     "output_type": "display_data"
    },
    {
     "data": {
      "text/plain": [
       "(189.08693610587312, 365.40983006252213, 0.81146898754349628)"
      ]
     },
     "execution_count": 428,
     "metadata": {},
     "output_type": "execute_result"
    }
   ],
   "source": [
    "plt_fit(df_has_h5['ClockRate'][3:],df_has_h5['io'][3:],'ClockRate-Haswell(GHz)','IO Bandwidth (MB/s)')\n",
    "plt_fit(df_has_h5['ClockRate'],df_has_h5['io'],'ClockRate-Haswell(GHz), + Turbo Mode','IO Bandwidth (MB/s)')"
   ]
  },
  {
   "cell_type": "markdown",
   "metadata": {},
   "source": [
    "# IO~CPU Frequencies on KNL"
   ]
  },
  {
   "cell_type": "code",
   "execution_count": 427,
   "metadata": {
    "collapsed": false
   },
   "outputs": [
    {
     "name": "stdout",
     "output_type": "stream",
     "text": [
      "slope:204.80\n",
      "intercept:44.85\n",
      "r-square:0.96\n"
     ]
    },
    {
     "data": {
      "image/png": "[encoded data removed]",
      "text/plain": [
       "<matplotlib.figure.Figure at 0x7f34ee3b3dd0>"
      ]
     },
     "metadata": {},
     "output_type": "display_data"
    },
    {
     "name": "stdout",
     "output_type": "stream",
     "text": [
      "slope:194.07\n",
      "intercept:57.02\n",
      "r-square:0.96\n"
     ]
    },
    {
     "data": {
      "image/png": "[encoded data removed]",
      "text/plain": [
       "<matplotlib.figure.Figure at 0x7f34eeb737d0>"
      ]
     },
     "metadata": {},
     "output_type": "display_data"
    },
    {
     "data": {
      "text/plain": [
       "(194.07238095238097, 57.019895873015912, 0.9640361910171622)"
      ]
     },
     "execution_count": 427,
     "metadata": {},
     "output_type": "execute_result"
    }
   ],
   "source": [
    "plt_fit(df_knl_h5['ClockRate'][3:],df_knl_h5['io'][3:],'ClockRate-Knl (GHz)','IO Bandwidth(MB/s)')\n",
    "plt_fit(df_knl_h5['ClockRate'],df_knl_h5['io']\n",
    "        ,'ClockRate-Knl (GHz), + Turbo Mode','IO Bandwidth(MB/s)')"
   ]
  },
  {
   "cell_type": "code",
   "execution_count": 431,
   "metadata": {
    "collapsed": false
   },
   "outputs": [
    {
     "data": {
      "text/html": [
       "<div>\n",
       "<table border=\"1\" class=\"dataframe\">\n",
       "  <thead>\n",
       "    <tr style=\"text-align: right;\">\n",
       "      <th></th>\n",
       "      <th>CPUuti</th>\n",
       "      <th>Contxtsw</th>\n",
       "      <th>cpumig</th>\n",
       "      <th>pageft</th>\n",
       "      <th>ClockRate</th>\n",
       "      <th>IPC</th>\n",
       "      <th>branch</th>\n",
       "      <th>branchmis</th>\n",
       "      <th>userset</th>\n",
       "      <th>io</th>\n",
       "    </tr>\n",
       "  </thead>\n",
       "  <tbody>\n",
       "    <tr>\n",
       "      <th>0</th>\n",
       "      <td>0.693</td>\n",
       "      <td>0.081</td>\n",
       "      <td>0.101</td>\n",
       "      <td>0.064</td>\n",
       "      <td>3.375</td>\n",
       "      <td>1.07</td>\n",
       "      <td>750.171</td>\n",
       "      <td>0.13</td>\n",
       "      <td>2.301</td>\n",
       "      <td>1126.4</td>\n",
       "    </tr>\n",
       "    <tr>\n",
       "      <th>1</th>\n",
       "      <td>0.626</td>\n",
       "      <td>0.096</td>\n",
       "      <td>0.108</td>\n",
       "      <td>0.064</td>\n",
       "      <td>3.378</td>\n",
       "      <td>1.04</td>\n",
       "      <td>734.562</td>\n",
       "      <td>0.13</td>\n",
       "      <td>2.301</td>\n",
       "      <td>939.0</td>\n",
       "    </tr>\n",
       "    <tr>\n",
       "      <th>2</th>\n",
       "      <td>0.679</td>\n",
       "      <td>0.076</td>\n",
       "      <td>0.107</td>\n",
       "      <td>0.063</td>\n",
       "      <td>3.406</td>\n",
       "      <td>1.04</td>\n",
       "      <td>735.553</td>\n",
       "      <td>0.13</td>\n",
       "      <td>2.301</td>\n",
       "      <td>1024.0</td>\n",
       "    </tr>\n",
       "    <tr>\n",
       "      <th>3</th>\n",
       "      <td>0.762</td>\n",
       "      <td>0.056</td>\n",
       "      <td>0.080</td>\n",
       "      <td>0.048</td>\n",
       "      <td>2.301</td>\n",
       "      <td>1.17</td>\n",
       "      <td>558.967</td>\n",
       "      <td>0.12</td>\n",
       "      <td>2.300</td>\n",
       "      <td>861.0</td>\n",
       "    </tr>\n",
       "    <tr>\n",
       "      <th>4</th>\n",
       "      <td>0.799</td>\n",
       "      <td>0.043</td>\n",
       "      <td>0.066</td>\n",
       "      <td>0.047</td>\n",
       "      <td>2.301</td>\n",
       "      <td>1.13</td>\n",
       "      <td>543.532</td>\n",
       "      <td>0.12</td>\n",
       "      <td>2.300</td>\n",
       "      <td>890.0</td>\n",
       "    </tr>\n",
       "    <tr>\n",
       "      <th>5</th>\n",
       "      <td>0.864</td>\n",
       "      <td>0.029</td>\n",
       "      <td>0.065</td>\n",
       "      <td>0.048</td>\n",
       "      <td>2.301</td>\n",
       "      <td>1.14</td>\n",
       "      <td>547.742</td>\n",
       "      <td>0.11</td>\n",
       "      <td>2.300</td>\n",
       "      <td>968.0</td>\n",
       "    </tr>\n",
       "    <tr>\n",
       "      <th>6</th>\n",
       "      <td>0.806</td>\n",
       "      <td>0.045</td>\n",
       "      <td>0.013</td>\n",
       "      <td>0.045</td>\n",
       "      <td>2.201</td>\n",
       "      <td>1.16</td>\n",
       "      <td>529.419</td>\n",
       "      <td>0.12</td>\n",
       "      <td>2.200</td>\n",
       "      <td>863.0</td>\n",
       "    </tr>\n",
       "    <tr>\n",
       "      <th>7</th>\n",
       "      <td>0.850</td>\n",
       "      <td>0.028</td>\n",
       "      <td>0.072</td>\n",
       "      <td>0.045</td>\n",
       "      <td>2.201</td>\n",
       "      <td>1.14</td>\n",
       "      <td>520.417</td>\n",
       "      <td>0.11</td>\n",
       "      <td>2.200</td>\n",
       "      <td>896.0</td>\n",
       "    </tr>\n",
       "    <tr>\n",
       "      <th>8</th>\n",
       "      <td>0.878</td>\n",
       "      <td>0.028</td>\n",
       "      <td>0.070</td>\n",
       "      <td>0.045</td>\n",
       "      <td>2.201</td>\n",
       "      <td>1.15</td>\n",
       "      <td>524.874</td>\n",
       "      <td>0.12</td>\n",
       "      <td>2.200</td>\n",
       "      <td>933.0</td>\n",
       "    </tr>\n",
       "    <tr>\n",
       "      <th>9</th>\n",
       "      <td>0.866</td>\n",
       "      <td>0.031</td>\n",
       "      <td>0.072</td>\n",
       "      <td>0.044</td>\n",
       "      <td>2.100</td>\n",
       "      <td>1.18</td>\n",
       "      <td>514.490</td>\n",
       "      <td>0.11</td>\n",
       "      <td>2.100</td>\n",
       "      <td>900.0</td>\n",
       "    </tr>\n",
       "    <tr>\n",
       "      <th>10</th>\n",
       "      <td>0.813</td>\n",
       "      <td>0.035</td>\n",
       "      <td>0.064</td>\n",
       "      <td>0.043</td>\n",
       "      <td>2.101</td>\n",
       "      <td>1.14</td>\n",
       "      <td>500.194</td>\n",
       "      <td>0.12</td>\n",
       "      <td>2.100</td>\n",
       "      <td>829.0</td>\n",
       "    </tr>\n",
       "    <tr>\n",
       "      <th>11</th>\n",
       "      <td>0.895</td>\n",
       "      <td>0.027</td>\n",
       "      <td>0.075</td>\n",
       "      <td>0.043</td>\n",
       "      <td>2.101</td>\n",
       "      <td>1.12</td>\n",
       "      <td>490.013</td>\n",
       "      <td>0.11</td>\n",
       "      <td>2.100</td>\n",
       "      <td>901.0</td>\n",
       "    </tr>\n",
       "    <tr>\n",
       "      <th>12</th>\n",
       "      <td>0.858</td>\n",
       "      <td>0.030</td>\n",
       "      <td>0.053</td>\n",
       "      <td>0.042</td>\n",
       "      <td>2.001</td>\n",
       "      <td>1.17</td>\n",
       "      <td>484.406</td>\n",
       "      <td>0.12</td>\n",
       "      <td>2.000</td>\n",
       "      <td>840.0</td>\n",
       "    </tr>\n",
       "    <tr>\n",
       "      <th>13</th>\n",
       "      <td>0.929</td>\n",
       "      <td>0.019</td>\n",
       "      <td>0.073</td>\n",
       "      <td>0.041</td>\n",
       "      <td>2.001</td>\n",
       "      <td>1.15</td>\n",
       "      <td>475.878</td>\n",
       "      <td>0.11</td>\n",
       "      <td>2.000</td>\n",
       "      <td>894.0</td>\n",
       "    </tr>\n",
       "    <tr>\n",
       "      <th>14</th>\n",
       "      <td>0.819</td>\n",
       "      <td>0.045</td>\n",
       "      <td>0.057</td>\n",
       "      <td>0.040</td>\n",
       "      <td>2.001</td>\n",
       "      <td>1.12</td>\n",
       "      <td>467.916</td>\n",
       "      <td>0.12</td>\n",
       "      <td>2.000</td>\n",
       "      <td>778.0</td>\n",
       "    </tr>\n",
       "    <tr>\n",
       "      <th>15</th>\n",
       "      <td>0.892</td>\n",
       "      <td>0.020</td>\n",
       "      <td>0.060</td>\n",
       "      <td>0.040</td>\n",
       "      <td>1.901</td>\n",
       "      <td>1.19</td>\n",
       "      <td>468.194</td>\n",
       "      <td>0.11</td>\n",
       "      <td>1.900</td>\n",
       "      <td>845.0</td>\n",
       "    </tr>\n",
       "    <tr>\n",
       "      <th>16</th>\n",
       "      <td>0.845</td>\n",
       "      <td>0.032</td>\n",
       "      <td>0.079</td>\n",
       "      <td>0.039</td>\n",
       "      <td>1.901</td>\n",
       "      <td>1.16</td>\n",
       "      <td>457.954</td>\n",
       "      <td>0.12</td>\n",
       "      <td>1.900</td>\n",
       "      <td>783.0</td>\n",
       "    </tr>\n",
       "    <tr>\n",
       "      <th>17</th>\n",
       "      <td>0.897</td>\n",
       "      <td>0.022</td>\n",
       "      <td>0.070</td>\n",
       "      <td>0.041</td>\n",
       "      <td>1.901</td>\n",
       "      <td>1.19</td>\n",
       "      <td>472.116</td>\n",
       "      <td>0.11</td>\n",
       "      <td>1.900</td>\n",
       "      <td>861.0</td>\n",
       "    </tr>\n",
       "    <tr>\n",
       "      <th>18</th>\n",
       "      <td>0.972</td>\n",
       "      <td>0.006</td>\n",
       "      <td>0.062</td>\n",
       "      <td>0.038</td>\n",
       "      <td>1.801</td>\n",
       "      <td>1.18</td>\n",
       "      <td>442.457</td>\n",
       "      <td>0.11</td>\n",
       "      <td>1.800</td>\n",
       "      <td>871.0</td>\n",
       "    </tr>\n",
       "    <tr>\n",
       "      <th>19</th>\n",
       "      <td>0.894</td>\n",
       "      <td>0.016</td>\n",
       "      <td>0.049</td>\n",
       "      <td>0.037</td>\n",
       "      <td>1.801</td>\n",
       "      <td>1.14</td>\n",
       "      <td>427.304</td>\n",
       "      <td>0.11</td>\n",
       "      <td>1.800</td>\n",
       "      <td>780.0</td>\n",
       "    </tr>\n",
       "    <tr>\n",
       "      <th>20</th>\n",
       "      <td>0.858</td>\n",
       "      <td>0.018</td>\n",
       "      <td>0.053</td>\n",
       "      <td>0.038</td>\n",
       "      <td>1.801</td>\n",
       "      <td>1.17</td>\n",
       "      <td>437.309</td>\n",
       "      <td>0.11</td>\n",
       "      <td>1.800</td>\n",
       "      <td>770.0</td>\n",
       "    </tr>\n",
       "    <tr>\n",
       "      <th>21</th>\n",
       "      <td>0.784</td>\n",
       "      <td>0.030</td>\n",
       "      <td>0.051</td>\n",
       "      <td>0.036</td>\n",
       "      <td>1.701</td>\n",
       "      <td>1.19</td>\n",
       "      <td>421.844</td>\n",
       "      <td>0.12</td>\n",
       "      <td>1.700</td>\n",
       "      <td>669.0</td>\n",
       "    </tr>\n",
       "    <tr>\n",
       "      <th>22</th>\n",
       "      <td>0.966</td>\n",
       "      <td>0.006</td>\n",
       "      <td>0.055</td>\n",
       "      <td>0.036</td>\n",
       "      <td>1.701</td>\n",
       "      <td>1.18</td>\n",
       "      <td>416.332</td>\n",
       "      <td>0.11</td>\n",
       "      <td>1.700</td>\n",
       "      <td>814.0</td>\n",
       "    </tr>\n",
       "    <tr>\n",
       "      <th>23</th>\n",
       "      <td>0.969</td>\n",
       "      <td>0.008</td>\n",
       "      <td>0.009</td>\n",
       "      <td>0.036</td>\n",
       "      <td>1.701</td>\n",
       "      <td>1.17</td>\n",
       "      <td>413.920</td>\n",
       "      <td>0.11</td>\n",
       "      <td>1.700</td>\n",
       "      <td>812.0</td>\n",
       "    </tr>\n",
       "    <tr>\n",
       "      <th>24</th>\n",
       "      <td>0.957</td>\n",
       "      <td>0.009</td>\n",
       "      <td>0.048</td>\n",
       "      <td>0.035</td>\n",
       "      <td>1.601</td>\n",
       "      <td>1.23</td>\n",
       "      <td>409.125</td>\n",
       "      <td>0.11</td>\n",
       "      <td>1.600</td>\n",
       "      <td>793.0</td>\n",
       "    </tr>\n",
       "    <tr>\n",
       "      <th>25</th>\n",
       "      <td>0.774</td>\n",
       "      <td>0.029</td>\n",
       "      <td>0.066</td>\n",
       "      <td>0.034</td>\n",
       "      <td>1.601</td>\n",
       "      <td>1.18</td>\n",
       "      <td>393.087</td>\n",
       "      <td>0.12</td>\n",
       "      <td>1.600</td>\n",
       "      <td>623.0</td>\n",
       "    </tr>\n",
       "    <tr>\n",
       "      <th>26</th>\n",
       "      <td>0.975</td>\n",
       "      <td>0.006</td>\n",
       "      <td>0.056</td>\n",
       "      <td>0.034</td>\n",
       "      <td>1.601</td>\n",
       "      <td>1.18</td>\n",
       "      <td>394.461</td>\n",
       "      <td>0.10</td>\n",
       "      <td>1.600</td>\n",
       "      <td>788.0</td>\n",
       "    </tr>\n",
       "    <tr>\n",
       "      <th>27</th>\n",
       "      <td>0.937</td>\n",
       "      <td>0.009</td>\n",
       "      <td>0.012</td>\n",
       "      <td>0.033</td>\n",
       "      <td>1.501</td>\n",
       "      <td>1.22</td>\n",
       "      <td>378.916</td>\n",
       "      <td>0.11</td>\n",
       "      <td>1.500</td>\n",
       "      <td>719.0</td>\n",
       "    </tr>\n",
       "    <tr>\n",
       "      <th>28</th>\n",
       "      <td>0.962</td>\n",
       "      <td>0.011</td>\n",
       "      <td>0.021</td>\n",
       "      <td>0.032</td>\n",
       "      <td>1.501</td>\n",
       "      <td>1.18</td>\n",
       "      <td>368.559</td>\n",
       "      <td>0.11</td>\n",
       "      <td>1.500</td>\n",
       "      <td>727.0</td>\n",
       "    </tr>\n",
       "    <tr>\n",
       "      <th>29</th>\n",
       "      <td>0.793</td>\n",
       "      <td>0.026</td>\n",
       "      <td>0.056</td>\n",
       "      <td>0.032</td>\n",
       "      <td>1.501</td>\n",
       "      <td>1.21</td>\n",
       "      <td>375.990</td>\n",
       "      <td>0.12</td>\n",
       "      <td>1.500</td>\n",
       "      <td>604.0</td>\n",
       "    </tr>\n",
       "    <tr>\n",
       "      <th>30</th>\n",
       "      <td>0.951</td>\n",
       "      <td>0.006</td>\n",
       "      <td>0.045</td>\n",
       "      <td>0.031</td>\n",
       "      <td>1.401</td>\n",
       "      <td>1.22</td>\n",
       "      <td>356.074</td>\n",
       "      <td>0.11</td>\n",
       "      <td>1.400</td>\n",
       "      <td>686.0</td>\n",
       "    </tr>\n",
       "    <tr>\n",
       "      <th>31</th>\n",
       "      <td>0.966</td>\n",
       "      <td>0.004</td>\n",
       "      <td>0.010</td>\n",
       "      <td>0.030</td>\n",
       "      <td>1.401</td>\n",
       "      <td>1.22</td>\n",
       "      <td>354.742</td>\n",
       "      <td>0.11</td>\n",
       "      <td>1.400</td>\n",
       "      <td>693.0</td>\n",
       "    </tr>\n",
       "    <tr>\n",
       "      <th>32</th>\n",
       "      <td>0.971</td>\n",
       "      <td>0.004</td>\n",
       "      <td>0.052</td>\n",
       "      <td>0.031</td>\n",
       "      <td>1.401</td>\n",
       "      <td>1.23</td>\n",
       "      <td>359.436</td>\n",
       "      <td>0.10</td>\n",
       "      <td>1.400</td>\n",
       "      <td>714.0</td>\n",
       "    </tr>\n",
       "    <tr>\n",
       "      <th>33</th>\n",
       "      <td>0.812</td>\n",
       "      <td>0.016</td>\n",
       "      <td>0.041</td>\n",
       "      <td>0.028</td>\n",
       "      <td>1.301</td>\n",
       "      <td>1.23</td>\n",
       "      <td>331.640</td>\n",
       "      <td>0.11</td>\n",
       "      <td>1.300</td>\n",
       "      <td>546.0</td>\n",
       "    </tr>\n",
       "    <tr>\n",
       "      <th>34</th>\n",
       "      <td>0.986</td>\n",
       "      <td>0.004</td>\n",
       "      <td>0.011</td>\n",
       "      <td>0.029</td>\n",
       "      <td>1.301</td>\n",
       "      <td>1.23</td>\n",
       "      <td>333.245</td>\n",
       "      <td>0.11</td>\n",
       "      <td>1.300</td>\n",
       "      <td>665.0</td>\n",
       "    </tr>\n",
       "    <tr>\n",
       "      <th>35</th>\n",
       "      <td>0.992</td>\n",
       "      <td>0.003</td>\n",
       "      <td>0.052</td>\n",
       "      <td>0.029</td>\n",
       "      <td>1.301</td>\n",
       "      <td>1.25</td>\n",
       "      <td>337.979</td>\n",
       "      <td>0.10</td>\n",
       "      <td>1.300</td>\n",
       "      <td>687.0</td>\n",
       "    </tr>\n",
       "    <tr>\n",
       "      <th>36</th>\n",
       "      <td>0.984</td>\n",
       "      <td>0.003</td>\n",
       "      <td>0.036</td>\n",
       "      <td>0.027</td>\n",
       "      <td>1.201</td>\n",
       "      <td>1.28</td>\n",
       "      <td>319.783</td>\n",
       "      <td>0.10</td>\n",
       "      <td>1.200</td>\n",
       "      <td>637.0</td>\n",
       "    </tr>\n",
       "    <tr>\n",
       "      <th>37</th>\n",
       "      <td>0.969</td>\n",
       "      <td>0.006</td>\n",
       "      <td>0.010</td>\n",
       "      <td>0.026</td>\n",
       "      <td>1.201</td>\n",
       "      <td>1.21</td>\n",
       "      <td>303.542</td>\n",
       "      <td>0.11</td>\n",
       "      <td>1.200</td>\n",
       "      <td>602.0</td>\n",
       "    </tr>\n",
       "    <tr>\n",
       "      <th>38</th>\n",
       "      <td>0.949</td>\n",
       "      <td>0.006</td>\n",
       "      <td>0.034</td>\n",
       "      <td>0.027</td>\n",
       "      <td>1.201</td>\n",
       "      <td>1.23</td>\n",
       "      <td>307.765</td>\n",
       "      <td>0.10</td>\n",
       "      <td>1.200</td>\n",
       "      <td>600.0</td>\n",
       "    </tr>\n",
       "  </tbody>\n",
       "</table>\n",
       "</div>"
      ],
      "text/plain": [
       "    CPUuti  Contxtsw  cpumig  pageft  ClockRate   IPC   branch  branchmis  \\\n",
       "0    0.693     0.081   0.101   0.064      3.375  1.07  750.171       0.13   \n",
       "1    0.626     0.096   0.108   0.064      3.378  1.04  734.562       0.13   \n",
       "2    0.679     0.076   0.107   0.063      3.406  1.04  735.553       0.13   \n",
       "3    0.762     0.056   0.080   0.048      2.301  1.17  558.967       0.12   \n",
       "4    0.799     0.043   0.066   0.047      2.301  1.13  543.532       0.12   \n",
       "5    0.864     0.029   0.065   0.048      2.301  1.14  547.742       0.11   \n",
       "6    0.806     0.045   0.013   0.045      2.201  1.16  529.419       0.12   \n",
       "7    0.850     0.028   0.072   0.045      2.201  1.14  520.417       0.11   \n",
       "8    0.878     0.028   0.070   0.045      2.201  1.15  524.874       0.12   \n",
       "9    0.866     0.031   0.072   0.044      2.100  1.18  514.490       0.11   \n",
       "10   0.813     0.035   0.064   0.043      2.101  1.14  500.194       0.12   \n",
       "11   0.895     0.027   0.075   0.043      2.101  1.12  490.013       0.11   \n",
       "12   0.858     0.030   0.053   0.042      2.001  1.17  484.406       0.12   \n",
       "13   0.929     0.019   0.073   0.041      2.001  1.15  475.878       0.11   \n",
       "14   0.819     0.045   0.057   0.040      2.001  1.12  467.916       0.12   \n",
       "15   0.892     0.020   0.060   0.040      1.901  1.19  468.194       0.11   \n",
       "16   0.845     0.032   0.079   0.039      1.901  1.16  457.954       0.12   \n",
       "17   0.897     0.022   0.070   0.041      1.901  1.19  472.116       0.11   \n",
       "18   0.972     0.006   0.062   0.038      1.801  1.18  442.457       0.11   \n",
       "19   0.894     0.016   0.049   0.037      1.801  1.14  427.304       0.11   \n",
       "20   0.858     0.018   0.053   0.038      1.801  1.17  437.309       0.11   \n",
       "21   0.784     0.030   0.051   0.036      1.701  1.19  421.844       0.12   \n",
       "22   0.966     0.006   0.055   0.036      1.701  1.18  416.332       0.11   \n",
       "23   0.969     0.008   0.009   0.036      1.701  1.17  413.920       0.11   \n",
       "24   0.957     0.009   0.048   0.035      1.601  1.23  409.125       0.11   \n",
       "25   0.774     0.029   0.066   0.034      1.601  1.18  393.087       0.12   \n",
       "26   0.975     0.006   0.056   0.034      1.601  1.18  394.461       0.10   \n",
       "27   0.937     0.009   0.012   0.033      1.501  1.22  378.916       0.11   \n",
       "28   0.962     0.011   0.021   0.032      1.501  1.18  368.559       0.11   \n",
       "29   0.793     0.026   0.056   0.032      1.501  1.21  375.990       0.12   \n",
       "30   0.951     0.006   0.045   0.031      1.401  1.22  356.074       0.11   \n",
       "31   0.966     0.004   0.010   0.030      1.401  1.22  354.742       0.11   \n",
       "32   0.971     0.004   0.052   0.031      1.401  1.23  359.436       0.10   \n",
       "33   0.812     0.016   0.041   0.028      1.301  1.23  331.640       0.11   \n",
       "34   0.986     0.004   0.011   0.029      1.301  1.23  333.245       0.11   \n",
       "35   0.992     0.003   0.052   0.029      1.301  1.25  337.979       0.10   \n",
       "36   0.984     0.003   0.036   0.027      1.201  1.28  319.783       0.10   \n",
       "37   0.969     0.006   0.010   0.026      1.201  1.21  303.542       0.11   \n",
       "38   0.949     0.006   0.034   0.027      1.201  1.23  307.765       0.10   \n",
       "\n",
       "    userset      io  \n",
       "0     2.301  1126.4  \n",
       "1     2.301   939.0  \n",
       "2     2.301  1024.0  \n",
       "3     2.300   861.0  \n",
       "4     2.300   890.0  \n",
       "5     2.300   968.0  \n",
       "6     2.200   863.0  \n",
       "7     2.200   896.0  \n",
       "8     2.200   933.0  \n",
       "9     2.100   900.0  \n",
       "10    2.100   829.0  \n",
       "11    2.100   901.0  \n",
       "12    2.000   840.0  \n",
       "13    2.000   894.0  \n",
       "14    2.000   778.0  \n",
       "15    1.900   845.0  \n",
       "16    1.900   783.0  \n",
       "17    1.900   861.0  \n",
       "18    1.800   871.0  \n",
       "19    1.800   780.0  \n",
       "20    1.800   770.0  \n",
       "21    1.700   669.0  \n",
       "22    1.700   814.0  \n",
       "23    1.700   812.0  \n",
       "24    1.600   793.0  \n",
       "25    1.600   623.0  \n",
       "26    1.600   788.0  \n",
       "27    1.500   719.0  \n",
       "28    1.500   727.0  \n",
       "29    1.500   604.0  \n",
       "30    1.400   686.0  \n",
       "31    1.400   693.0  \n",
       "32    1.400   714.0  \n",
       "33    1.300   546.0  \n",
       "34    1.300   665.0  \n",
       "35    1.300   687.0  \n",
       "36    1.200   637.0  \n",
       "37    1.200   602.0  \n",
       "38    1.200   600.0  "
      ]
     },
     "execution_count": 431,
     "metadata": {},
     "output_type": "execute_result"
    }
   ],
   "source": [
    "df_has"
   ]
  },
  {
   "cell_type": "code",
   "execution_count": 432,
   "metadata": {
    "collapsed": false
   },
   "outputs": [
    {
     "data": {
      "text/html": [
       "<div>\n",
       "<table border=\"1\" class=\"dataframe\">\n",
       "  <thead>\n",
       "    <tr style=\"text-align: right;\">\n",
       "      <th></th>\n",
       "      <th>CPUuti</th>\n",
       "      <th>Contxtsw</th>\n",
       "      <th>cpumig</th>\n",
       "      <th>pageft</th>\n",
       "      <th>ClockRate</th>\n",
       "      <th>IPC</th>\n",
       "      <th>branch</th>\n",
       "      <th>branchmis</th>\n",
       "      <th>userset</th>\n",
       "      <th>io</th>\n",
       "    </tr>\n",
       "  </thead>\n",
       "  <tbody>\n",
       "    <tr>\n",
       "      <th>0</th>\n",
       "      <td>0.965</td>\n",
       "      <td>0.006</td>\n",
       "      <td>0.019</td>\n",
       "      <td>0.013</td>\n",
       "      <td>1.501</td>\n",
       "      <td>0.50</td>\n",
       "      <td>155.446</td>\n",
       "      <td>1.42</td>\n",
       "      <td>1.401</td>\n",
       "      <td>306.0</td>\n",
       "    </tr>\n",
       "    <tr>\n",
       "      <th>1</th>\n",
       "      <td>0.921</td>\n",
       "      <td>0.008</td>\n",
       "      <td>0.017</td>\n",
       "      <td>0.014</td>\n",
       "      <td>1.501</td>\n",
       "      <td>0.51</td>\n",
       "      <td>158.394</td>\n",
       "      <td>1.36</td>\n",
       "      <td>1.401</td>\n",
       "      <td>298.0</td>\n",
       "    </tr>\n",
       "    <tr>\n",
       "      <th>2</th>\n",
       "      <td>0.997</td>\n",
       "      <td>0.003</td>\n",
       "      <td>0.015</td>\n",
       "      <td>0.014</td>\n",
       "      <td>1.501</td>\n",
       "      <td>0.51</td>\n",
       "      <td>160.023</td>\n",
       "      <td>1.30</td>\n",
       "      <td>1.401</td>\n",
       "      <td>326.0</td>\n",
       "    </tr>\n",
       "    <tr>\n",
       "      <th>3</th>\n",
       "      <td>0.987</td>\n",
       "      <td>0.005</td>\n",
       "      <td>0.016</td>\n",
       "      <td>0.013</td>\n",
       "      <td>1.401</td>\n",
       "      <td>0.52</td>\n",
       "      <td>150.370</td>\n",
       "      <td>1.34</td>\n",
       "      <td>1.400</td>\n",
       "      <td>304.0</td>\n",
       "    </tr>\n",
       "    <tr>\n",
       "      <th>4</th>\n",
       "      <td>0.970</td>\n",
       "      <td>0.007</td>\n",
       "      <td>0.019</td>\n",
       "      <td>0.013</td>\n",
       "      <td>1.401</td>\n",
       "      <td>0.52</td>\n",
       "      <td>151.411</td>\n",
       "      <td>1.32</td>\n",
       "      <td>1.400</td>\n",
       "      <td>300.0</td>\n",
       "    </tr>\n",
       "    <tr>\n",
       "      <th>5</th>\n",
       "      <td>0.946</td>\n",
       "      <td>0.005</td>\n",
       "      <td>0.010</td>\n",
       "      <td>0.013</td>\n",
       "      <td>1.401</td>\n",
       "      <td>0.52</td>\n",
       "      <td>150.497</td>\n",
       "      <td>1.32</td>\n",
       "      <td>1.400</td>\n",
       "      <td>291.0</td>\n",
       "    </tr>\n",
       "    <tr>\n",
       "      <th>6</th>\n",
       "      <td>0.960</td>\n",
       "      <td>0.008</td>\n",
       "      <td>0.023</td>\n",
       "      <td>0.012</td>\n",
       "      <td>1.301</td>\n",
       "      <td>0.52</td>\n",
       "      <td>141.147</td>\n",
       "      <td>1.35</td>\n",
       "      <td>1.300</td>\n",
       "      <td>275.0</td>\n",
       "    </tr>\n",
       "    <tr>\n",
       "      <th>7</th>\n",
       "      <td>0.948</td>\n",
       "      <td>0.005</td>\n",
       "      <td>0.013</td>\n",
       "      <td>0.012</td>\n",
       "      <td>1.301</td>\n",
       "      <td>0.53</td>\n",
       "      <td>142.342</td>\n",
       "      <td>1.32</td>\n",
       "      <td>1.300</td>\n",
       "      <td>275.0</td>\n",
       "    </tr>\n",
       "    <tr>\n",
       "      <th>8</th>\n",
       "      <td>0.990</td>\n",
       "      <td>0.002</td>\n",
       "      <td>0.027</td>\n",
       "      <td>0.012</td>\n",
       "      <td>1.301</td>\n",
       "      <td>0.53</td>\n",
       "      <td>142.134</td>\n",
       "      <td>1.29</td>\n",
       "      <td>1.300</td>\n",
       "      <td>288.0</td>\n",
       "    </tr>\n",
       "    <tr>\n",
       "      <th>9</th>\n",
       "      <td>0.989</td>\n",
       "      <td>0.003</td>\n",
       "      <td>0.008</td>\n",
       "      <td>0.011</td>\n",
       "      <td>1.201</td>\n",
       "      <td>0.52</td>\n",
       "      <td>130.621</td>\n",
       "      <td>1.36</td>\n",
       "      <td>1.200</td>\n",
       "      <td>262.0</td>\n",
       "    </tr>\n",
       "    <tr>\n",
       "      <th>10</th>\n",
       "      <td>0.999</td>\n",
       "      <td>0.002</td>\n",
       "      <td>0.017</td>\n",
       "      <td>0.011</td>\n",
       "      <td>1.201</td>\n",
       "      <td>0.53</td>\n",
       "      <td>132.787</td>\n",
       "      <td>1.29</td>\n",
       "      <td>1.200</td>\n",
       "      <td>271.0</td>\n",
       "    </tr>\n",
       "    <tr>\n",
       "      <th>11</th>\n",
       "      <td>0.990</td>\n",
       "      <td>0.004</td>\n",
       "      <td>0.026</td>\n",
       "      <td>0.011</td>\n",
       "      <td>1.201</td>\n",
       "      <td>0.53</td>\n",
       "      <td>131.765</td>\n",
       "      <td>1.32</td>\n",
       "      <td>1.200</td>\n",
       "      <td>267.0</td>\n",
       "    </tr>\n",
       "    <tr>\n",
       "      <th>12</th>\n",
       "      <td>0.979</td>\n",
       "      <td>0.006</td>\n",
       "      <td>0.014</td>\n",
       "      <td>0.011</td>\n",
       "      <td>1.101</td>\n",
       "      <td>0.54</td>\n",
       "      <td>122.795</td>\n",
       "      <td>1.31</td>\n",
       "      <td>1.100</td>\n",
       "      <td>244.0</td>\n",
       "    </tr>\n",
       "    <tr>\n",
       "      <th>13</th>\n",
       "      <td>0.995</td>\n",
       "      <td>0.003</td>\n",
       "      <td>0.013</td>\n",
       "      <td>0.011</td>\n",
       "      <td>1.101</td>\n",
       "      <td>0.54</td>\n",
       "      <td>122.929</td>\n",
       "      <td>1.30</td>\n",
       "      <td>1.100</td>\n",
       "      <td>250.0</td>\n",
       "    </tr>\n",
       "    <tr>\n",
       "      <th>14</th>\n",
       "      <td>0.983</td>\n",
       "      <td>0.005</td>\n",
       "      <td>0.018</td>\n",
       "      <td>0.011</td>\n",
       "      <td>1.101</td>\n",
       "      <td>0.53</td>\n",
       "      <td>121.881</td>\n",
       "      <td>1.32</td>\n",
       "      <td>1.100</td>\n",
       "      <td>245.0</td>\n",
       "    </tr>\n",
       "    <tr>\n",
       "      <th>15</th>\n",
       "      <td>0.996</td>\n",
       "      <td>0.002</td>\n",
       "      <td>0.006</td>\n",
       "      <td>0.010</td>\n",
       "      <td>1.001</td>\n",
       "      <td>0.55</td>\n",
       "      <td>113.306</td>\n",
       "      <td>1.30</td>\n",
       "      <td>1.000</td>\n",
       "      <td>229.0</td>\n",
       "    </tr>\n",
       "    <tr>\n",
       "      <th>16</th>\n",
       "      <td>0.937</td>\n",
       "      <td>0.004</td>\n",
       "      <td>0.014</td>\n",
       "      <td>0.010</td>\n",
       "      <td>1.001</td>\n",
       "      <td>0.53</td>\n",
       "      <td>111.134</td>\n",
       "      <td>1.35</td>\n",
       "      <td>1.000</td>\n",
       "      <td>213.0</td>\n",
       "    </tr>\n",
       "    <tr>\n",
       "      <th>17</th>\n",
       "      <td>0.988</td>\n",
       "      <td>0.005</td>\n",
       "      <td>0.017</td>\n",
       "      <td>0.010</td>\n",
       "      <td>1.001</td>\n",
       "      <td>0.54</td>\n",
       "      <td>112.055</td>\n",
       "      <td>1.30</td>\n",
       "      <td>1.000</td>\n",
       "      <td>226.0</td>\n",
       "    </tr>\n",
       "  </tbody>\n",
       "</table>\n",
       "</div>"
      ],
      "text/plain": [
       "    CPUuti  Contxtsw  cpumig  pageft  ClockRate   IPC   branch  branchmis  \\\n",
       "0    0.965     0.006   0.019   0.013      1.501  0.50  155.446       1.42   \n",
       "1    0.921     0.008   0.017   0.014      1.501  0.51  158.394       1.36   \n",
       "2    0.997     0.003   0.015   0.014      1.501  0.51  160.023       1.30   \n",
       "3    0.987     0.005   0.016   0.013      1.401  0.52  150.370       1.34   \n",
       "4    0.970     0.007   0.019   0.013      1.401  0.52  151.411       1.32   \n",
       "5    0.946     0.005   0.010   0.013      1.401  0.52  150.497       1.32   \n",
       "6    0.960     0.008   0.023   0.012      1.301  0.52  141.147       1.35   \n",
       "7    0.948     0.005   0.013   0.012      1.301  0.53  142.342       1.32   \n",
       "8    0.990     0.002   0.027   0.012      1.301  0.53  142.134       1.29   \n",
       "9    0.989     0.003   0.008   0.011      1.201  0.52  130.621       1.36   \n",
       "10   0.999     0.002   0.017   0.011      1.201  0.53  132.787       1.29   \n",
       "11   0.990     0.004   0.026   0.011      1.201  0.53  131.765       1.32   \n",
       "12   0.979     0.006   0.014   0.011      1.101  0.54  122.795       1.31   \n",
       "13   0.995     0.003   0.013   0.011      1.101  0.54  122.929       1.30   \n",
       "14   0.983     0.005   0.018   0.011      1.101  0.53  121.881       1.32   \n",
       "15   0.996     0.002   0.006   0.010      1.001  0.55  113.306       1.30   \n",
       "16   0.937     0.004   0.014   0.010      1.001  0.53  111.134       1.35   \n",
       "17   0.988     0.005   0.017   0.010      1.001  0.54  112.055       1.30   \n",
       "\n",
       "    userset     io  \n",
       "0     1.401  306.0  \n",
       "1     1.401  298.0  \n",
       "2     1.401  326.0  \n",
       "3     1.400  304.0  \n",
       "4     1.400  300.0  \n",
       "5     1.400  291.0  \n",
       "6     1.300  275.0  \n",
       "7     1.300  275.0  \n",
       "8     1.300  288.0  \n",
       "9     1.200  262.0  \n",
       "10    1.200  271.0  \n",
       "11    1.200  267.0  \n",
       "12    1.100  244.0  \n",
       "13    1.100  250.0  \n",
       "14    1.100  245.0  \n",
       "15    1.000  229.0  \n",
       "16    1.000  213.0  \n",
       "17    1.000  226.0  "
      ]
     },
     "execution_count": 432,
     "metadata": {},
     "output_type": "execute_result"
    }
   ],
   "source": [
    "df_knl"
   ]
  },
  {
   "cell_type": "code",
   "execution_count": 13,
   "metadata": {
    "collapsed": true
   },
   "outputs": [],
   "source": [
    "knl_io=[31.3,29.2,29.3,28.1,28.4,30.6,27.0,30.8,27.9,29.0,28.8,22.8]\n",
    "has_io=[45.6,35.7,45.7,38.5,40.5,36.1,38.1,38.0,39.2,33.5,37.5,41.5]"
   ]
  },
  {
   "cell_type": "code",
   "execution_count": 19,
   "metadata": {
    "collapsed": false
   },
   "outputs": [
    {
     "name": "stdout",
     "output_type": "stream",
     "text": [
      "28.6\n",
      "39.1583333333\n",
      "1.36917249417\n"
     ]
    },
    {
     "data": {
      "image/png": "[encoded data removed]",
      "text/plain": [
       "<matplotlib.figure.Figure at 0x7fa84b5d0790>"
      ]
     },
     "metadata": {},
     "output_type": "display_data"
    }
   ],
   "source": [
    "import numpy as np\n",
    "a=np.arange(0,len(knl_io))\n",
    "plt.plot(a,knl_io, label='Knl dsync')\n",
    "plt.plot(a,has_io,label='Haswell dsync')\n",
    "plt.legend()\n",
    "print np.average(knl_io)\n",
    "print np.average(has_io)\n",
    "print np.average(has_io)/np.average(knl_io)"
   ]
  },
  {
   "cell_type": "code",
   "execution_count": null,
   "metadata": {
    "collapsed": true
   },
   "outputs": [],
   "source": []
  }
 ],
 "metadata": {
  "celltoolbar": "Raw Cell Format",
  "kernelspec": {
   "display_name": "Python 2",
   "language": "python",
   "name": "python2"
  },
  "language_info": {
   "codemirror_mode": {
    "name": "ipython",
    "version": 2
   },
   "file_extension": ".py",
   "mimetype": "text/x-python",
   "name": "python",
   "nbconvert_exporter": "python",
   "pygments_lexer": "ipython2",
   "version": "2.7.13"
  }
 },
 "nbformat": 4,
 "nbformat_minor": 0
}
