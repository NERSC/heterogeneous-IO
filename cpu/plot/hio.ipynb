{
 "cells": [
  {
   "cell_type": "markdown",
   "metadata": {},
   "source": [
    "# Comparison with different CPU Frequencies"
   ]
  },
  {
   "cell_type": "code",
   "execution_count": 92,
   "metadata": {
    "collapsed": false
   },
   "outputs": [],
   "source": [
    "#parse bandwidth result, each test is repeated 3 times\n",
    "import numpy as np\n",
    "import matplotlib.pyplot as plt\n",
    "%matplotlib inline \n",
    "def parse_line_cpu(txtf):\n",
    "    f = open(txtf, 'r')\n",
    "    x = f.read().split('\\n')\n",
    "    x=filter(None,x)\n",
    "    x = [int(i.split(':')[1]) for i in x]\n",
    "    x=np.asarray(x,dtype='float')\n",
    "    return x\n",
    "def parse_line_io(txtf):\n",
    "    f = open(txtf, 'r')\n",
    "    x = f.read().split('\\n')\n",
    "    x=filter(None,x)\n",
    "    x=np.asarray(x)[2:]\n",
    "    x=np.asarray(x,dtype='float')\n",
    "    return x\n",
    "#parse dd perf result\n",
    "def parse_line_perf(txtf):\n",
    "    f = open(txtf, 'r')\n",
    "    x = f.read().split('\\n')\n",
    "    x=filter(None,x)\n",
    "    ax=list()\n",
    "    for ix in x:\n",
    "        if '#' in ix:\n",
    "            ix = ix.split('#')[1].strip().split(' ')[0].strip('%')\n",
    "            ax.append(ix)\n",
    "    ax=np.asarray(ax,dtype='float')\n",
    "    return ax\n",
    "# Linear Fit and Plot\n",
    "def plt_fit(has_cpu1,has_io_avg,xlabel=None,ylabel=None):\n",
    "    from scipy import stats\n",
    "    import sys\n",
    "    has_cpu1=has_cpu1\n",
    "    has_io_avg=has_io_avg\n",
    "    slope, intercept, r_value, p_value, std_err = stats.linregress(has_cpu1,has_io_avg)\n",
    "    print 'slope:%.2f'%slope\n",
    "    print 'intercept:%.2f'%intercept\n",
    "    print 'r-square:%.2f'%(r_value*r_value)\n",
    "    predict_y = slope*has_cpu1+intercept\n",
    "    x=has_cpu1\n",
    "    y=has_io_avg\n",
    "    pred_error = y - predict_y\n",
    "    degrees_of_freedom = len(x) - 2\n",
    "    residual_std_error = np.sqrt(np.sum(pred_error**2) / degrees_of_freedom)\n",
    "    # Plotting\n",
    "    plt.plot(x, y, 'o',label='data')\n",
    "    plt.xlabel(xlabel)\n",
    "    plt.ylabel(ylabel)\n",
    "    plt.plot(x, predict_y, 'k-',label='fitting,r^2=%.2f'%(r_value*r_value))\n",
    "    plt.legend(loc='upper left')\n",
    "    plt.show()\n",
    "    return slope,intercept,r_value*r_value"
   ]
  },
  {
   "cell_type": "code",
   "execution_count": 149,
   "metadata": {
    "collapsed": false
   },
   "outputs": [],
   "source": [
    "#log files, perf detials:\n",
    "knl_perf_f=\"../log/knl.err\"\n",
    "has_perf_f=\"../log/haswell.err\"\n",
    "#user specified cpu scaling freqs\n",
    "knl_cpu_f='../log/cpu_knl.txt'\n",
    "has_cpu_f='../log/cpu_has.txt'\n",
    "#observed io bw\n",
    "has_io_f='../log/haswell.3711608.bw'\n",
    "knl_io_f='../log/knl.3711609.bw'\n",
    "\n",
    "#parse all files\n",
    "knl_cpu=parse_line_cpu(knl_cpu_f)\n",
    "has_cpu=parse_line_cpu(has_cpu_f)\n",
    "knl_perfs=parse_line_perf(knl_perf_f)\n",
    "has_perfs=parse_line_perf(has_perf_f)\n",
    "has_io=parse_line_io(has_io_f)\n",
    "knl_io=parse_line_io(knl_io_f)\n",
    "\n",
    "#reshaping io and perfs\n",
    "knl_perfs=knl_perfs.reshape(-1,8) # there are 8 columns in the perf result, e.g., IPC, context-switch, etc\n",
    "has_perfs=has_perfs.reshape(-1,8)\n",
    "\n",
    "#calculating mean/max/min\n",
    "import numpy as np\n",
    "for x in range(len(knl_io)):\n",
    "    if knl_io[x] < 10:\n",
    "        knl_io[x]=knl_io[x]*1024\n",
    "for x in range(len(has_io)):\n",
    "    if has_io[x] < 10:\n",
    "        has_io[x]=has_io[x]*1024\n",
    "import pandas as pd\n",
    "df_knl=pd.DataFrame(knl_perfs)\n",
    "df_has=pd.DataFrame(has_perfs)\n",
    "df_knl.columns=['CPUuti','Contxtsw',\n",
    "                'cpumig','pageft',\n",
    "                'ClockRate','IPC','branch','branchmis']\n",
    "df_has.columns=['CPUuti','Contxtsw',\n",
    "                'cpumig','pageft',\n",
    "                'ClockRate','IPC','branch','branchmis']\n",
    "\n",
    "df_knl_cpu=pd.DataFrame({'userset':knl_cpu})\n",
    "df_knl=df_knl.join(df_knl_cpu)\n",
    "\n",
    "df_has_cpu=pd.DataFrame({'userset':has_cpu})\n",
    "df_has=df_has.join(df_has_cpu)\n",
    "\n",
    "df_knl_io=pd.DataFrame({'io':knl_io})\n",
    "df_knl=df_knl.join(df_knl_io)\n",
    "df_has_io=pd.DataFrame({'io':has_io})\n",
    "df_has=df_has.join(df_has_io)\n",
    "df_has['userset']=df_has['userset'].apply(lambda x : x/1000000.0)\n",
    "df_knl['userset']=df_knl['userset'].apply(lambda x : x/1000000.0)"
   ]
  },
  {
   "cell_type": "code",
   "execution_count": 150,
   "metadata": {
    "collapsed": false
   },
   "outputs": [],
   "source": [
    "df_knl_same=df_knl[(df_knl['userset'] <=1.4) & (df_knl['userset'] >=1.2)]\n",
    "df_has_same=df_has[(df_has['userset'] <=1.4) & (df_has['userset'] >=1.2)]"
   ]
  },
  {
   "cell_type": "markdown",
   "metadata": {},
   "source": [
    "# IO~ClockRate on Haswell"
   ]
  },
  {
   "cell_type": "code",
   "execution_count": 170,
   "metadata": {
    "collapsed": false
   },
   "outputs": [
    {
     "name": "stdout",
     "output_type": "stream",
     "text": [
      "slope:201.30\n",
      "intercept:415.31\n",
      "r-square:0.76\n"
     ]
    },
    {
     "data": {
      "image/png": "[encoded data removed]",
      "text/plain": [
       "<matplotlib.figure.Figure at 0x7fdf0a90a6d0>"
      ]
     },
     "metadata": {},
     "output_type": "display_data"
    },
    {
     "data": {
      "text/plain": [
       "(201.30315647922004, 415.31325037589676, 0.76211345180699785)"
      ]
     },
     "execution_count": 170,
     "metadata": {},
     "output_type": "execute_result"
    }
   ],
   "source": [
    "plt_fit(df_has['ClockRate'],df_has['io'],'ClockRate-Haswell(GHz)','IO Bandwidth (MB/s)')"
   ]
  },
  {
   "cell_type": "markdown",
   "metadata": {},
   "source": [
    "# IO~ClockRate on KNL"
   ]
  },
  {
   "cell_type": "code",
   "execution_count": 171,
   "metadata": {
    "collapsed": false
   },
   "outputs": [
    {
     "name": "stdout",
     "output_type": "stream",
     "text": [
      "slope:172.95\n",
      "intercept:54.19\n",
      "r-square:0.94\n"
     ]
    },
    {
     "data": {
      "image/png": "[encoded data removed]",
      "text/plain": [
       "<matplotlib.figure.Figure at 0x7fdf0a3934d0>"
      ]
     },
     "metadata": {},
     "output_type": "display_data"
    },
    {
     "data": {
      "text/plain": [
       "(172.95238095238096, 54.192126984126929, 0.93910171103563933)"
      ]
     },
     "execution_count": 171,
     "metadata": {},
     "output_type": "execute_result"
    }
   ],
   "source": [
    "plt_fit(df_knl['ClockRate'],df_knl['io'],'ClockRate-Knl (GHz)','IO Bandwidth(MB/s)')"
   ]
  },
  {
   "cell_type": "code",
   "execution_count": 168,
   "metadata": {
    "collapsed": false
   },
   "outputs": [],
   "source": [
    "dic_has={}\n",
    "dic_knl={}\n",
    "dic_hasknl={}\n",
    "frames=[df_knl_same,df_has_same]\n",
    "df_hasknl=pd.concat(frames,ignore_index=True)\n",
    "def plot_same():  # select the cpu-freq that both kNL and Haswell have, e..g, 1.4Ghz, then fit it with it's IO\n",
    "    for icl in df_has_same.columns:\n",
    "        (k,b,rs)=plt_fit(df_has_same[icl],df_has_same['io'],icl+'-haswell','IO Bandwidth')\n",
    "        dic_has[icl]=rs\n",
    "        (k,b,rs)=plt_fit(df_knl_same[icl],df_knl_same['io'],icl+'-knl','IO Bandwidth')\n",
    "        dic_knl[icl]=rs\n",
    "        (k,b,rs)=plt_fit(df_hasknl[icl],df_hasknl['io'],icl+'-hasknl','IO Bandwidth')\n",
    "        dic_hasknl[icl]=rs\n",
    "    print \"HASWELL\"\n",
    "    for key, value in sorted(dic_has.iteritems(), key=lambda (k,v): (v,k)):\n",
    "        print \"%s\\t\\t%.2f\" % (key, value)\n",
    "    print ('\\n')\n",
    "    print \"KNL\"\n",
    "    for key, value in sorted(dic_knl.iteritems(), key=lambda (k,v): (v,k)):\n",
    "        print \"%s\\t\\t%.2f\" % (key, value)\n",
    "    print ('\\n')\n",
    "    print \"HASWELL-KNL\"\n",
    "    for key, value in sorted(dic_hasknl.iteritems(), key=lambda (k,v): (v,k)):\n",
    "        print \"%s\\t\\t%.2f\" % (key, value)\n",
    "dic_has={}\n",
    "dic_knl={}\n",
    "dic_hasknl={}\n",
    "frames=[df_knl,df_has]\n",
    "df_hasknl=pd.concat(frames,ignore_index=True)\n",
    "def plot_all(): # fit and plot all data for both knl and haswell\n",
    "    for icl in df_has.columns:\n",
    "        (k,b,rs)=plt_fit(df_has[icl],df_has['io'],icl+'-haswell','IO Bandwidth')\n",
    "        dic_has[icl]=rs\n",
    "        (k,b,rs)=plt_fit(df_knl[icl],df_knl['io'],icl+'-knl','IO Bandwidth')\n",
    "        dic_knl[icl]=rs\n",
    "        (k,b,rs)=plt_fit(df_hasknl[icl],df_hasknl['io'],icl+'-hasknl','IO Bandwidth')\n",
    "        dic_hasknl[icl]=rs\n",
    "    print \"HASWELL\"\n",
    "    for key, value in sorted(dic_has.iteritems(), key=lambda (k,v): (v,k)):\n",
    "        print \"%s\\t\\t%.2f\" % (key, value)\n",
    "    print ('\\n')\n",
    "    print \"KNL\"\n",
    "    for key, value in sorted(dic_knl.iteritems(), key=lambda (k,v): (v,k)):\n",
    "        print \"%s\\t\\t%.2f\" % (key, value)\n",
    "    print ('\\n')\n",
    "    print \"HASWELL-KNL\"\n",
    "    for key, value in sorted(dic_hasknl.iteritems(), key=lambda (k,v): (v,k)):\n",
    "        print \"%s\\t\\t%.2f\" % (key, value)"
   ]
  },
  {
   "cell_type": "markdown",
   "metadata": {},
   "source": [
    "# Regression Analysis "
   ]
  },
  {
   "cell_type": "code",
   "execution_count": 169,
   "metadata": {
    "collapsed": false
   },
   "outputs": [
    {
     "data": {
      "text/plain": [
       "PCA(copy=True, n_components=4, whiten=False)"
      ]
     },
     "execution_count": 169,
     "metadata": {},
     "output_type": "execute_result"
    }
   ],
   "source": [
    "#df_hasknl\n",
    "from sklearn.decomposition import PCA\n",
    "pca =PCA(n_components=4)\n",
    "pca.fit(df_hasknl)\n",
    "#IPC + cpu-mig(K/sec) + pageft(K/sec) + ClockRate(Ghz) + branch(M/sec) + branchmis(%)"
   ]
  },
  {
   "cell_type": "markdown",
   "metadata": {},
   "source": [
    "# Regression KNL and Haswell together"
   ]
  },
  {
   "cell_type": "code",
   "execution_count": 139,
   "metadata": {
    "collapsed": false
   },
   "outputs": [
    {
     "name": "stdout",
     "output_type": "stream",
     "text": [
      "                            OLS Regression Results                            \n",
      "==============================================================================\n",
      "Dep. Variable:                     io   R-squared:                       0.968\n",
      "Model:                            OLS   Adj. R-squared:                  0.965\n",
      "Method:                 Least Squares   F-statistic:                     392.4\n",
      "Date:                Wed, 22 Feb 2017   Prob (F-statistic):           3.76e-38\n",
      "Time:                        08:41:52   Log-Likelihood:                -300.88\n",
      "No. Observations:                  57   AIC:                             611.8\n",
      "Df Residuals:                      52   BIC:                             622.0\n",
      "Df Model:                           4                                         \n",
      "Covariance Type:            nonrobust                                         \n",
      "==============================================================================\n",
      "                 coef    std err          t      P>|t|      [95.0% Conf. Int.]\n",
      "------------------------------------------------------------------------------\n",
      "Intercept     44.9764    157.144      0.286      0.776      -270.357   360.310\n",
      "IPC          188.2912    154.216      1.221      0.228      -121.167   497.749\n",
      "pageft      1.914e+04   1.85e+04      1.035      0.305     -1.79e+04  5.62e+04\n",
      "ClockRate    -47.9100    120.063     -0.399      0.691      -288.833   193.013\n",
      "branch        -0.2856      1.781     -0.160      0.873        -3.860     3.289\n",
      "==============================================================================\n",
      "Omnibus:                       11.384   Durbin-Watson:                   1.863\n",
      "Prob(Omnibus):                  0.003   Jarque-Bera (JB):               11.713\n",
      "Skew:                          -0.915   Prob(JB):                      0.00286\n",
      "Kurtosis:                       4.260   Cond. No.                     1.10e+06\n",
      "==============================================================================\n",
      "\n",
      "Warnings:\n",
      "[1] Standard Errors assume that the covariance matrix of the errors is correctly specified.\n",
      "[2] The condition number is large, 1.1e+06. This might indicate that there are\n",
      "strong multicollinearity or other numerical problems.\n"
     ]
    }
   ],
   "source": [
    "import statsmodels.api as sm\n",
    "from patsy import dmatrices\n",
    "y, X = dmatrices('io ~ IPC + pageft + ClockRate + branch', data=df_hasknl, return_type='dataframe')\n",
    "mod = sm.OLS(y, X)\n",
    "result=mod.fit()\n",
    "print result.summary()"
   ]
  },
  {
   "cell_type": "markdown",
   "metadata": {},
   "source": [
    "# Regression Haswell only"
   ]
  },
  {
   "cell_type": "code",
   "execution_count": 140,
   "metadata": {
    "collapsed": false
   },
   "outputs": [
    {
     "name": "stdout",
     "output_type": "stream",
     "text": [
      "                            OLS Regression Results                            \n",
      "==============================================================================\n",
      "Dep. Variable:                     io   R-squared:                       0.848\n",
      "Model:                            OLS   Adj. R-squared:                  0.830\n",
      "Method:                 Least Squares   F-statistic:                     47.48\n",
      "Date:                Wed, 22 Feb 2017   Prob (F-statistic):           1.87e-13\n",
      "Time:                        08:42:43   Log-Likelihood:                -207.28\n",
      "No. Observations:                  39   AIC:                             424.6\n",
      "Df Residuals:                      34   BIC:                             432.9\n",
      "Df Model:                           4                                         \n",
      "Covariance Type:            nonrobust                                         \n",
      "==============================================================================\n",
      "                 coef    std err          t      P>|t|      [95.0% Conf. Int.]\n",
      "------------------------------------------------------------------------------\n",
      "Intercept   1059.8641    691.648      1.532      0.135      -345.734  2465.462\n",
      "IPC         -760.2009    553.376     -1.374      0.179     -1884.796   364.394\n",
      "pageft      2.862e+04   2.36e+04      1.211      0.234     -1.94e+04  7.66e+04\n",
      "ClockRate   -789.6660    258.071     -3.060      0.004     -1314.128  -265.204\n",
      "branch         2.1902      2.402      0.912      0.368        -2.691     7.072\n",
      "==============================================================================\n",
      "Omnibus:                        3.991   Durbin-Watson:                   2.500\n",
      "Prob(Omnibus):                  0.136   Jarque-Bera (JB):                3.587\n",
      "Skew:                          -0.736   Prob(JB):                        0.166\n",
      "Kurtosis:                       2.797   Cond. No.                     1.30e+06\n",
      "==============================================================================\n",
      "\n",
      "Warnings:\n",
      "[1] Standard Errors assume that the covariance matrix of the errors is correctly specified.\n",
      "[2] The condition number is large, 1.3e+06. This might indicate that there are\n",
      "strong multicollinearity or other numerical problems.\n"
     ]
    }
   ],
   "source": [
    "y, X = dmatrices('io ~ IPC + pageft + ClockRate + branch', data=df_has, return_type='dataframe')\n",
    "mod = sm.OLS(y, X)\n",
    "result=mod.fit()\n",
    "print result.summary()"
   ]
  },
  {
   "cell_type": "markdown",
   "metadata": {},
   "source": [
    "# Regression KNL only"
   ]
  },
  {
   "cell_type": "code",
   "execution_count": 141,
   "metadata": {
    "collapsed": false
   },
   "outputs": [
    {
     "name": "stdout",
     "output_type": "stream",
     "text": [
      "                            OLS Regression Results                            \n",
      "==============================================================================\n",
      "Dep. Variable:                     io   R-squared:                       0.963\n",
      "Model:                            OLS   Adj. R-squared:                  0.952\n",
      "Method:                 Least Squares   F-statistic:                     85.76\n",
      "Date:                Wed, 22 Feb 2017   Prob (F-statistic):           3.29e-09\n",
      "Time:                        08:43:21   Log-Likelihood:                -57.258\n",
      "No. Observations:                  18   AIC:                             124.5\n",
      "Df Residuals:                      13   BIC:                             129.0\n",
      "Df Model:                           4                                         \n",
      "Covariance Type:            nonrobust                                         \n",
      "==============================================================================\n",
      "                 coef    std err          t      P>|t|      [95.0% Conf. Int.]\n",
      "------------------------------------------------------------------------------\n",
      "Intercept      7.9237    247.784      0.032      0.975      -527.381   543.229\n",
      "IPC          -32.4524    466.467     -0.070      0.946     -1040.193   975.288\n",
      "pageft     -5152.6422   5691.629     -0.905      0.382     -1.74e+04  7143.375\n",
      "ClockRate   -153.2255    218.006     -0.703      0.495      -624.199   317.747\n",
      "branch         3.9075      2.072      1.886      0.082        -0.569     8.384\n",
      "==============================================================================\n",
      "Omnibus:                        0.423   Durbin-Watson:                   1.965\n",
      "Prob(Omnibus):                  0.809   Jarque-Bera (JB):                0.493\n",
      "Skew:                          -0.297   Prob(JB):                        0.781\n",
      "Kurtosis:                       2.447   Cond. No.                     4.83e+05\n",
      "==============================================================================\n",
      "\n",
      "Warnings:\n",
      "[1] Standard Errors assume that the covariance matrix of the errors is correctly specified.\n",
      "[2] The condition number is large, 4.83e+05. This might indicate that there are\n",
      "strong multicollinearity or other numerical problems.\n"
     ]
    }
   ],
   "source": [
    "y, X = dmatrices('io ~ IPC + pageft + ClockRate + branch', data=df_knl, return_type='dataframe')\n",
    "mod = sm.OLS(y, X)\n",
    "result=mod.fit()\n",
    "print result.summary()"
   ]
  },
  {
   "cell_type": "code",
   "execution_count": 187,
   "metadata": {
    "collapsed": false
   },
   "outputs": [],
   "source": [
    "df_has_mean=pd.to_numeric(df_has.groupby(df_has.index / 3).mean()['io'])\n",
    "df_has_max=pd.to_numeric(df_has.groupby(df_has.index / 3).max()['io'])\n",
    "df_has_min=pd.to_numeric(df_has.groupby(df_has.index / 3).min()['io'])\n",
    "df_knl_mean=pd.to_numeric(df_knl.groupby(df_knl.index / 3).mean()['io'])\n",
    "df_knl_max=pd.to_numeric(df_knl.groupby(df_knl.index / 3).max()['io'])\n",
    "df_knl_min=pd.to_numeric(df_knl.groupby(df_knl.index / 3).min()['io'])"
   ]
  },
  {
   "cell_type": "markdown",
   "metadata": {},
   "source": [
    "# Plot the date tegother "
   ]
  },
  {
   "cell_type": "code",
   "execution_count": 199,
   "metadata": {
    "collapsed": false
   },
   "outputs": [],
   "source": [
    "#r-sqr>0.61\n",
    "#Haswell-KNL: pagefalut, branch, branchmiss, IPC,\n",
    "#KNL: branch, clockrate,pagefault, IPC\n",
    "#HASWELL: pagefault, branch, Clockrate, IPC"
   ]
  },
  {
   "cell_type": "code",
   "execution_count": 200,
   "metadata": {
    "collapsed": false
   },
   "outputs": [
    {
     "data": {
      "text/plain": [
       "<matplotlib.legend.Legend at 0x7fdf0a1646d0>"
      ]
     },
     "execution_count": 200,
     "metadata": {},
     "output_type": "execute_result"
    },
    {
     "data": {
      "image/png": "[encoded data removed]",
      "text/plain": [
       "<matplotlib.figure.Figure at 0x7fdf1072b810>"
      ]
     },
     "metadata": {},
     "output_type": "display_data"
    }
   ],
   "source": [
    "all_cpu=[3.38, 2.2999999999999998, 2.2000000000000002, \n",
    "         2.1000000000000001, 2.0, 1.8999999999999999, \n",
    "         1.8, 1.7, 1.6000000000000001, 1.501, 1.50,\n",
    "         1.3999999999999999, 1.3, 1.2,1.1000000000000001, 1.0]\n",
    "has_x=[0,1,2,3,4,5,6,7,8,9,11,12,13]\n",
    "knl_x=[9,11,12,13,14,15]\n",
    "plt.errorbar(knl_x,df_knl_mean, [df_knl_mean-df_knl_min, df_knl_max-df_knl_mean], fmt='--o', label=\"KNL\")\n",
    "plt.errorbar(has_x,df_has_mean, [df_has_mean-df_has_min, df_has_max-df_has_mean], fmt='--o', label=\"Haswell\")\n",
    "#plt.xticks(knl_x,knl_labels)\n",
    "all_labels=[\"{0:.1f}\".format(x) for x in all_cpu]\n",
    "all_labels[9]=1.501\n",
    "plt.xticks(range(16),all_labels)\n",
    "plt.xlabel('CPU Frequencies, GHz, KNL: 1.0-1.501, Haswell: 1.2-3.38')\n",
    "plt.ylabel('IO Bandwidth, MB/s')\n",
    "plt.title('Single Core IO Bandwidth on CSCRATCH')\n",
    "plt.grid(True)\n",
    "plt.ylim(200,1100)\n",
    "plt.legend()"
   ]
  },
  {
   "cell_type": "code",
   "execution_count": 202,
   "metadata": {
    "collapsed": false,
    "scrolled": true
   },
   "outputs": [],
   "source": [
    "#print has_k,has_b,knl_k,knl_b\n",
    "cpu_same=[1.2,1.3,1.4]\n",
    "a=0\n",
    "#for ic in cpu_same:\n",
    "#    a+=(has_k*ic+has_b)/(knl_k*ic+knl_b)\n",
    "#print \"With same CPU frequencies, the IO performance ratio between Haswell and KNL: %.2f\"%(a/3)\n",
    "#print \"The peak single core IO performance ratio between Haswell and KNL: %.2f\"%(max(has_io_avg)/max(knl_io_avg))"
   ]
  },
  {
   "cell_type": "markdown",
   "metadata": {},
   "source": [
    "## Conclusion 1: KNL's single IO performance is more correlated with CPU frequencies than Haswell, r-square 0.94> 0.76"
   ]
  },
  {
   "cell_type": "markdown",
   "metadata": {},
   "source": [
    "## Conclusion 2: With same CPU frequencies, the IO performance ratio between Haswell and KNL: 2.26\n"
   ]
  },
  {
   "cell_type": "markdown",
   "metadata": {},
   "source": [
    "## Conclusion 3: The single core peak IO performance ratio between Haswell and KNL: 3.32"
   ]
  },
  {
   "cell_type": "code",
   "execution_count": null,
   "metadata": {
    "collapsed": true
   },
   "outputs": [],
   "source": []
  }
 ],
 "metadata": {
  "celltoolbar": "Raw Cell Format",
  "kernelspec": {
   "display_name": "Python 2",
   "language": "python",
   "name": "python2"
  },
  "language_info": {
   "codemirror_mode": {
    "name": "ipython",
    "version": 2
   },
   "file_extension": ".py",
   "mimetype": "text/x-python",
   "name": "python",
   "nbconvert_exporter": "python",
   "pygments_lexer": "ipython2",
   "version": "2.7.11"
  }
 },
 "nbformat": 4,
 "nbformat_minor": 0
}
