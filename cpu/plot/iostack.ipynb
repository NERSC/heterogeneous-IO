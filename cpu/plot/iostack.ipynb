{
 "cells": [
  {
   "cell_type": "code",
   "execution_count": 1,
   "metadata": {
    "collapsed": true
   },
   "outputs": [],
   "source": [
    "#this function will pass the ior file and return the Max read or write\n",
    "def maxior(filename, kword):\n",
    "    import re\n",
    "    import sys\n",
    "\n",
    "    file = open(filename, \"r\")\n",
    "    for line in file:\n",
    "        if re.search(kword, line):\n",
    "              str_line=line.split(\" \")\n",
    "              str_list = filter(None, str_line)\n",
    "              return (str_list[2])\n",
    "\n",
    "def getread(x):\n",
    "    for f in x[2]:\n",
    "        maxior(f,\"Max Read\")\n",
    "def getwrite(x):\n",
    "    for f in x[2]:\n",
    "        maxior(f,\"Max Write\")   "
   ]
  },
  {
   "cell_type": "code",
   "execution_count": 2,
   "metadata": {
    "collapsed": false
   },
   "outputs": [],
   "source": [
    "dir=\"/global/homes/j/jialin/heterogeneous-IO/cpu/script/ior/ior_test/tmp_has_per_write\""
   ]
  },
  {
   "cell_type": "code",
   "execution_count": 3,
   "metadata": {
    "collapsed": false
   },
   "outputs": [
    {
     "name": "stdout",
     "output_type": "stream",
     "text": [
      "/global/u1/j/jialin/heterogeneous-IO/cpu/script/ior/ior_test/tmp_has_per_write\n"
     ]
    }
   ],
   "source": [
    "cd $dir"
   ]
  },
  {
   "cell_type": "code",
   "execution_count": 48,
   "metadata": {
    "collapsed": false
   },
   "outputs": [],
   "source": [
    "import matplotlib.pyplot as plt\n",
    "import pandas as pd\n",
    "%matplotlib inline \n",
    "import os\n",
    "import numpy as np\n",
    "def ior_forjob(dir,jobid,keywords,tt,sb=None):\n",
    "    #print dir\n",
    "    #print jobid\n",
    "    xdir=os.listdir(dir)\n",
    "    #print xdir\n",
    "    xjob=[x for x in xdir if jobid in x]\n",
    "    print xjob\n",
    "    readmax=list()\n",
    "    writemax=list()\n",
    "    print \"Number of Jobs:%d\"%len(xjob)#,xjob\n",
    "    for x in xjob:\n",
    "        cur=maxior(x,keywords)\n",
    "        writemax.append(cur)\n",
    "    if sb!=None:\n",
    "        segs=[x.split('.')[2] for x in xjob]\n",
    "        segs=np.asarray(segs)\n",
    "    xjob=[x.split('.')[1] for x in xjob] # get job nodes.cores config\n",
    "\n",
    "    xjob=np.asarray(xjob)\n",
    "    import pandas as pd\n",
    "    dfwrite=pd.DataFrame(data=xjob,columns=[\"setting\"],index=None) # construct dataframe\n",
    "    dfwrite['writemax']=writemax\n",
    "    if sb !=None:\n",
    "        dfwrite['seg']=segs\n",
    "        dfwrite.seg=dfwrite.seg.astype('int')\n",
    "    dfwrite.writemax=dfwrite.writemax.astype('float')\n",
    "    dfwrite=dfwrite[dfwrite.writemax.astype('str') != 'None'] # remove none value\n",
    "    dfwrite=dfwrite[dfwrite.writemax.astype('str') != 'NaN'] # remove none value\n",
    "    print \"Number of Completed Jobs:%d\"%len(dfwrite.writemax)\n",
    "    dfwrite['nodes'], dfwrite['cores']=dfwrite['setting'].str.split('x', 1).str\n",
    "    del dfwrite['setting']\n",
    "    if sb==None:\n",
    "        print \"sort by nodes, cores\"\n",
    "        dfwrite=dfwrite.sort_values(by=['nodes','cores'],axis=0)\n",
    "    else:\n",
    "        print \"sort by number of segments\"\n",
    "        dfwrite=dfwrite.sort_values(by=['seg'],axis=0)\n",
    "    dfwrite.nodes=dfwrite.nodes.astype('int')\n",
    "    dfwrite.cores=dfwrite.cores.astype('int')\n",
    "    dfwrite['nodecore']=dfwrite.nodes.astype('str')+'-'+dfwrite.cores.astype('str')\n",
    "    dfwrite=dfwrite.reset_index(drop=True)\n",
    "    return dfwrite\n",
    "def ior_plot(dfwrite,keywords,tt):\n",
    "    plt.xticks(range(len(dfwrite.nodes)),dfwrite.nodecore)\n",
    "    plt.plot(range(len(dfwrite.nodecore)),dfwrite.writemax,'-o')\n",
    "    plt.xlabel('Nodes-Cores')\n",
    "    plt.ylabel('MiB/s')\n",
    "    plt.title(tt+\",\"+keywords)\n",
    "    plt.xticks(rotation=80 )\n",
    "    plt.grid(True)\n",
    "def ior_plot_two(dfknl,dfhas,tt,step=None):\n",
    "    plt.xticks(range(len(dfknl.nodes)),dfknl.nodecore)\n",
    "    plt.plot(range(len(dfknl.nodecore)),dfknl.writemax,'-o',label=\"KNL\")\n",
    "    has_x=range(len(dfhas.nodecore))\n",
    "    #add gap in has x\n",
    "    i=6\n",
    "    while i<= len(has_x):\n",
    "        j=i # do a shift on every 7th element and its afterwards\n",
    "        while j < len(has_x):\n",
    "            if step !=None:\n",
    "                has_x[j]+=2\n",
    "            else:\n",
    "                has_x[j]+=1\n",
    "            j+=1\n",
    "        i=i+6\n",
    "    plt.plot(has_x,dfhas.writemax,'-^',label=\"Haswell\")\n",
    "    plt.xlabel('Nodes-Cores')\n",
    "    plt.ylabel('MiB/s')\n",
    "    plt.title(tt)\n",
    "    plt.xticks(rotation=90 )\n",
    "    plt.grid(True)\n",
    "    plt.legend()"
   ]
  },
  {
   "cell_type": "code",
   "execution_count": 5,
   "metadata": {
    "collapsed": false
   },
   "outputs": [
    {
     "name": "stdout",
     "output_type": "stream",
     "text": [
      "Number of Jobs:24\n",
      "Number of Completed Jobs:23\n"
     ]
    }
   ],
   "source": [
    "jobid=\"4603772\"\n",
    "keyword=\"Max Write\"\n",
    "tt='Haswell Direct IO, File per Process'\n",
    "dfhas=ior_forjob(dir,jobid,keyword,tt)\n",
    "#ior_plot(dfhas,keyword,tt)"
   ]
  },
  {
   "cell_type": "code",
   "execution_count": 6,
   "metadata": {
    "collapsed": false
   },
   "outputs": [
    {
     "name": "stdout",
     "output_type": "stream",
     "text": [
      "Number of Jobs:28\n",
      "Number of Completed Jobs:28\n"
     ]
    }
   ],
   "source": [
    "jobid=\"4603792\"\n",
    "keyword=\"Max Write\"\n",
    "tt='KNL Direct IO, File per Process'\n",
    "dfknl=ior_forjob(dir,jobid,keyword,tt)\n",
    "#ior_plot(dfknl,keyword,tt)"
   ]
  },
  {
   "cell_type": "code",
   "execution_count": 7,
   "metadata": {
    "collapsed": false
   },
   "outputs": [
    {
     "data": {
      "image/png": "[encoded data removed]",
      "text/plain": [
       "<matplotlib.figure.Figure at 0x7f1f7a38f890>"
      ]
     },
     "metadata": {},
     "output_type": "display_data"
    }
   ],
   "source": [
    "tt='Haswell vs. KNL Direct IO, File per Process, Write'\n",
    "ior_plot_two(dfknl,dfhas,tt)"
   ]
  },
  {
   "cell_type": "code",
   "execution_count": 8,
   "metadata": {
    "collapsed": false
   },
   "outputs": [],
   "source": [
    "dirr=\"/global/homes/j/jialin/heterogeneous-IO/cpu/script/ior/ior_test/tmp_has_default_read\""
   ]
  },
  {
   "cell_type": "code",
   "execution_count": 9,
   "metadata": {
    "collapsed": false
   },
   "outputs": [
    {
     "name": "stdout",
     "output_type": "stream",
     "text": [
      "/global/u1/j/jialin/heterogeneous-IO/cpu/script/ior/ior_test/tmp_has_default_read\n"
     ]
    }
   ],
   "source": [
    "cd $dirr"
   ]
  },
  {
   "cell_type": "code",
   "execution_count": 10,
   "metadata": {
    "collapsed": false
   },
   "outputs": [
    {
     "name": "stdout",
     "output_type": "stream",
     "text": [
      "Number of Jobs:23\n",
      "Number of Completed Jobs:23\n"
     ]
    }
   ],
   "source": [
    "jobid=\"4603772\"\n",
    "keyword=\"Max Read\"\n",
    "tt='Haswell Direct IO, File per Process'\n",
    "dfhasr=ior_forjob(dirr,jobid,keyword,tt)\n",
    "#ior_plot(dfhasr,keyword,tt)"
   ]
  },
  {
   "cell_type": "code",
   "execution_count": 11,
   "metadata": {
    "collapsed": false
   },
   "outputs": [
    {
     "name": "stdout",
     "output_type": "stream",
     "text": [
      "Number of Jobs:28\n",
      "Number of Completed Jobs:27\n"
     ]
    }
   ],
   "source": [
    "jobid=\"4603792\"\n",
    "keyword=\"Max Read\"\n",
    "tt='KNL Direct IO, File per Process'\n",
    "dfknlr=ior_forjob(dirr,jobid,keyword,tt)\n",
    "#ior_plot(dfknlr,keyword,tt)"
   ]
  },
  {
   "cell_type": "code",
   "execution_count": 12,
   "metadata": {
    "collapsed": false
   },
   "outputs": [
    {
     "data": {
      "image/png": "[encoded data removed]",
      "text/plain": [
       "<matplotlib.figure.Figure at 0x7f1f4796fc50>"
      ]
     },
     "metadata": {},
     "output_type": "display_data"
    }
   ],
   "source": [
    "tt='Haswell vs. KNL Direct IO, File per Process, Read'\n",
    "ior_plot_two(dfknlr,dfhasr,tt)"
   ]
  },
  {
   "cell_type": "code",
   "execution_count": 13,
   "metadata": {
    "collapsed": true
   },
   "outputs": [],
   "source": [
    "dir=\"/global/homes/j/jialin/heterogeneous-IO/cpu/script/ior/ior_test/apr22/apr22write\""
   ]
  },
  {
   "cell_type": "code",
   "execution_count": 14,
   "metadata": {
    "collapsed": false
   },
   "outputs": [
    {
     "name": "stdout",
     "output_type": "stream",
     "text": [
      "/global/u1/j/jialin/heterogeneous-IO/cpu/script/ior/ior_test/apr22/apr22write\n"
     ]
    }
   ],
   "source": [
    "cd $dir"
   ]
  },
  {
   "cell_type": "code",
   "execution_count": 15,
   "metadata": {
    "collapsed": false
   },
   "outputs": [
    {
     "name": "stdout",
     "output_type": "stream",
     "text": [
      "Number of Jobs:32\n",
      "Number of Completed Jobs:31\n"
     ]
    }
   ],
   "source": [
    "jobid=\"4669220\"\n",
    "keyword=\"Max Write\"\n",
    "tt='KNL Direct IO, File per Process'\n",
    "dfknlw=ior_forjob(dir,jobid,keyword,tt)\n",
    "#ior_plot(dfknlr,keyword,tt)"
   ]
  },
  {
   "cell_type": "code",
   "execution_count": 16,
   "metadata": {
    "collapsed": false
   },
   "outputs": [
    {
     "name": "stdout",
     "output_type": "stream",
     "text": [
      "Number of Jobs:24\n",
      "Number of Completed Jobs:24\n"
     ]
    }
   ],
   "source": [
    "jobid=\"4669797\"\n",
    "keyword=\"Max Write\"\n",
    "tt='HASWELL Direct IO, File per Process'\n",
    "dfhasw=ior_forjob(dir,jobid,keyword,tt)"
   ]
  },
  {
   "cell_type": "code",
   "execution_count": 17,
   "metadata": {
    "collapsed": false
   },
   "outputs": [
    {
     "data": {
      "image/png": "[encoded data removed]",
      "text/plain": [
       "<matplotlib.figure.Figure at 0x7f1f4785e210>"
      ]
     },
     "metadata": {},
     "output_type": "display_data"
    }
   ],
   "source": [
    "tt='Haswell vs. KNL Direct IO, File per Process, Write'\n",
    "ior_plot_two(dfknlw,dfhasw,tt,step=2)"
   ]
  },
  {
   "cell_type": "code",
   "execution_count": 18,
   "metadata": {
    "collapsed": false
   },
   "outputs": [],
   "source": [
    "dir=\"/global/homes/j/jialin/heterogeneous-IO/cpu/script/ior/ior_test/apr22/apr22read\""
   ]
  },
  {
   "cell_type": "code",
   "execution_count": 19,
   "metadata": {
    "collapsed": false
   },
   "outputs": [
    {
     "name": "stdout",
     "output_type": "stream",
     "text": [
      "/global/u1/j/jialin/heterogeneous-IO/cpu/script/ior/ior_test/apr22/apr22read\n"
     ]
    }
   ],
   "source": [
    "cd $dir"
   ]
  },
  {
   "cell_type": "code",
   "execution_count": 20,
   "metadata": {
    "collapsed": false
   },
   "outputs": [
    {
     "name": "stdout",
     "output_type": "stream",
     "text": [
      "Number of Jobs:31\n",
      "Number of Completed Jobs:31\n"
     ]
    }
   ],
   "source": [
    "jobid=\"4669220\"\n",
    "keyword=\"Max Read\"\n",
    "tt='KNL Direct IO, File per Process'\n",
    "dfknlr=ior_forjob(dir,jobid,keyword,tt)\n",
    "#ior_plot(dfknlr,keyword,tt)"
   ]
  },
  {
   "cell_type": "code",
   "execution_count": 21,
   "metadata": {
    "collapsed": false
   },
   "outputs": [
    {
     "name": "stdout",
     "output_type": "stream",
     "text": [
      "Number of Jobs:24\n",
      "Number of Completed Jobs:24\n"
     ]
    }
   ],
   "source": [
    "jobid=\"4669797\"\n",
    "keyword=\"Max Read\"\n",
    "tt='HASWELL Direct IO, File per Process'\n",
    "dfhasr=ior_forjob(dir,jobid,keyword,tt)"
   ]
  },
  {
   "cell_type": "code",
   "execution_count": 22,
   "metadata": {
    "collapsed": false
   },
   "outputs": [
    {
     "data": {
      "image/png": "[encoded data removed]",
      "text/plain": [
       "<matplotlib.figure.Figure at 0x7f1f4797bdd0>"
      ]
     },
     "metadata": {},
     "output_type": "display_data"
    }
   ],
   "source": [
    "tt='Haswell vs. KNL Direct IO, File per Process, Read'\n",
    "ior_plot_two(dfknlr,dfhasr,tt,step=2)"
   ]
  },
  {
   "cell_type": "code",
   "execution_count": 54,
   "metadata": {
    "collapsed": true
   },
   "outputs": [],
   "source": [
    "dir=\"/global/homes/j/jialin/heterogeneous-IO/cpu/script/ior/ior_test/apr22/apr22write\""
   ]
  },
  {
   "cell_type": "code",
   "execution_count": 55,
   "metadata": {
    "collapsed": false
   },
   "outputs": [
    {
     "name": "stdout",
     "output_type": "stream",
     "text": [
      "/global/u1/j/jialin/heterogeneous-IO/cpu/script/ior/ior_test/apr22/apr22write\n"
     ]
    }
   ],
   "source": [
    "cd $dir"
   ]
  },
  {
   "cell_type": "code",
   "execution_count": 61,
   "metadata": {
    "collapsed": false
   },
   "outputs": [
    {
     "name": "stdout",
     "output_type": "stream",
     "text": [
      "['ior-w.0001x01.16.4669801.out', 'ior-w.0001x01.2.4669801.out', 'ior-w.0001x01.4.4669801.out', 'ior-w.0001x01.1.4669801.out', 'ior-w.0001x01.8.4669801.out', 'ior-w.0001x01.32.4669801.out']\n",
      "Number of Jobs:6\n",
      "Number of Completed Jobs:6\n",
      "sort by number of segments\n"
     ]
    }
   ],
   "source": [
    "jobid=\"4669801\"\n",
    "keyword=\"Max Write\"\n",
    "tt='KNL Direct IO, File per Process'\n",
    "dfknlw=ior_forjob(dir,jobid,keyword,tt,sb=\"segment\")"
   ]
  },
  {
   "cell_type": "code",
   "execution_count": 62,
   "metadata": {
    "collapsed": false
   },
   "outputs": [
    {
     "name": "stdout",
     "output_type": "stream",
     "text": [
      "['ior-w.0001x01.32.4669800.out', 'ior-w.0001x01.2.4669800.out', 'ior-w.0001x01.4.4669800.out', 'ior-w.0001x01.8.4669800.out', 'ior-w.0001x01.16.4669800.out', 'ior-w.0001x01.1.4669800.out']\n",
      "Number of Jobs:6\n",
      "Number of Completed Jobs:6\n",
      "sort by number of segments\n"
     ]
    }
   ],
   "source": [
    "#ior_plot(dfknlr,keyword,tt)\n",
    "\n",
    "jobid=\"4669800\"\n",
    "keyword=\"Max Write\"\n",
    "tt='HASWELL Direct IO, File per Process'\n",
    "dfhasw=ior_forjob(dir,jobid,keyword,tt,sb=\"segment\")"
   ]
  },
  {
   "cell_type": "code",
   "execution_count": 63,
   "metadata": {
    "collapsed": false
   },
   "outputs": [
    {
     "data": {
      "text/html": [
       "<div>\n",
       "<table border=\"1\" class=\"dataframe\">\n",
       "  <thead>\n",
       "    <tr style=\"text-align: right;\">\n",
       "      <th></th>\n",
       "      <th>writemax</th>\n",
       "      <th>seg</th>\n",
       "      <th>nodes</th>\n",
       "      <th>cores</th>\n",
       "      <th>nodecore</th>\n",
       "    </tr>\n",
       "  </thead>\n",
       "  <tbody>\n",
       "    <tr>\n",
       "      <th>0</th>\n",
       "      <td>28.43</td>\n",
       "      <td>1</td>\n",
       "      <td>1</td>\n",
       "      <td>1</td>\n",
       "      <td>1-1</td>\n",
       "    </tr>\n",
       "    <tr>\n",
       "      <th>1</th>\n",
       "      <td>28.68</td>\n",
       "      <td>2</td>\n",
       "      <td>1</td>\n",
       "      <td>1</td>\n",
       "      <td>1-1</td>\n",
       "    </tr>\n",
       "    <tr>\n",
       "      <th>2</th>\n",
       "      <td>28.16</td>\n",
       "      <td>4</td>\n",
       "      <td>1</td>\n",
       "      <td>1</td>\n",
       "      <td>1-1</td>\n",
       "    </tr>\n",
       "    <tr>\n",
       "      <th>3</th>\n",
       "      <td>28.02</td>\n",
       "      <td>8</td>\n",
       "      <td>1</td>\n",
       "      <td>1</td>\n",
       "      <td>1-1</td>\n",
       "    </tr>\n",
       "    <tr>\n",
       "      <th>4</th>\n",
       "      <td>26.02</td>\n",
       "      <td>16</td>\n",
       "      <td>1</td>\n",
       "      <td>1</td>\n",
       "      <td>1-1</td>\n",
       "    </tr>\n",
       "    <tr>\n",
       "      <th>5</th>\n",
       "      <td>NaN</td>\n",
       "      <td>32</td>\n",
       "      <td>1</td>\n",
       "      <td>1</td>\n",
       "      <td>1-1</td>\n",
       "    </tr>\n",
       "  </tbody>\n",
       "</table>\n",
       "</div>"
      ],
      "text/plain": [
       "   writemax  seg  nodes  cores nodecore\n",
       "0     28.43    1      1      1      1-1\n",
       "1     28.68    2      1      1      1-1\n",
       "2     28.16    4      1      1      1-1\n",
       "3     28.02    8      1      1      1-1\n",
       "4     26.02   16      1      1      1-1\n",
       "5       NaN   32      1      1      1-1"
      ]
     },
     "execution_count": 63,
     "metadata": {},
     "output_type": "execute_result"
    }
   ],
   "source": [
    "dfknlw"
   ]
  },
  {
   "cell_type": "code",
   "execution_count": 64,
   "metadata": {
    "collapsed": false
   },
   "outputs": [
    {
     "data": {
      "text/html": [
       "<div>\n",
       "<table border=\"1\" class=\"dataframe\">\n",
       "  <thead>\n",
       "    <tr style=\"text-align: right;\">\n",
       "      <th></th>\n",
       "      <th>writemax</th>\n",
       "      <th>seg</th>\n",
       "      <th>nodes</th>\n",
       "      <th>cores</th>\n",
       "      <th>nodecore</th>\n",
       "    </tr>\n",
       "  </thead>\n",
       "  <tbody>\n",
       "    <tr>\n",
       "      <th>0</th>\n",
       "      <td>63.55</td>\n",
       "      <td>1</td>\n",
       "      <td>1</td>\n",
       "      <td>1</td>\n",
       "      <td>1-1</td>\n",
       "    </tr>\n",
       "    <tr>\n",
       "      <th>1</th>\n",
       "      <td>60.36</td>\n",
       "      <td>2</td>\n",
       "      <td>1</td>\n",
       "      <td>1</td>\n",
       "      <td>1-1</td>\n",
       "    </tr>\n",
       "    <tr>\n",
       "      <th>2</th>\n",
       "      <td>48.02</td>\n",
       "      <td>4</td>\n",
       "      <td>1</td>\n",
       "      <td>1</td>\n",
       "      <td>1-1</td>\n",
       "    </tr>\n",
       "    <tr>\n",
       "      <th>3</th>\n",
       "      <td>29.67</td>\n",
       "      <td>8</td>\n",
       "      <td>1</td>\n",
       "      <td>1</td>\n",
       "      <td>1-1</td>\n",
       "    </tr>\n",
       "    <tr>\n",
       "      <th>4</th>\n",
       "      <td>27.60</td>\n",
       "      <td>16</td>\n",
       "      <td>1</td>\n",
       "      <td>1</td>\n",
       "      <td>1-1</td>\n",
       "    </tr>\n",
       "    <tr>\n",
       "      <th>5</th>\n",
       "      <td>NaN</td>\n",
       "      <td>32</td>\n",
       "      <td>1</td>\n",
       "      <td>1</td>\n",
       "      <td>1-1</td>\n",
       "    </tr>\n",
       "  </tbody>\n",
       "</table>\n",
       "</div>"
      ],
      "text/plain": [
       "   writemax  seg  nodes  cores nodecore\n",
       "0     63.55    1      1      1      1-1\n",
       "1     60.36    2      1      1      1-1\n",
       "2     48.02    4      1      1      1-1\n",
       "3     29.67    8      1      1      1-1\n",
       "4     27.60   16      1      1      1-1\n",
       "5       NaN   32      1      1      1-1"
      ]
     },
     "execution_count": 64,
     "metadata": {},
     "output_type": "execute_result"
    }
   ],
   "source": [
    "dfhasw"
   ]
  },
  {
   "cell_type": "code",
   "execution_count": 65,
   "metadata": {
    "collapsed": true
   },
   "outputs": [],
   "source": [
    "dir=\"/global/homes/j/jialin/heterogeneous-IO/cpu/script/ior/ior_test/apr22/apr22read\""
   ]
  },
  {
   "cell_type": "code",
   "execution_count": 66,
   "metadata": {
    "collapsed": false
   },
   "outputs": [
    {
     "name": "stdout",
     "output_type": "stream",
     "text": [
      "/global/u1/j/jialin/heterogeneous-IO/cpu/script/ior/ior_test/apr22/apr22read\n"
     ]
    }
   ],
   "source": [
    "cd $dir"
   ]
  },
  {
   "cell_type": "code",
   "execution_count": 67,
   "metadata": {
    "collapsed": false
   },
   "outputs": [
    {
     "name": "stdout",
     "output_type": "stream",
     "text": [
      "['ior-r.0001x01.16.4669801.out', 'ior-r.0001x01.4.4669801.out', 'ior-r.0001x01.2.4669801.out', 'ior-r.0001x01.1.4669801.out', 'ior-r.0001x01.8.4669801.out']\n",
      "Number of Jobs:5\n",
      "Number of Completed Jobs:5\n",
      "sort by number of segments\n"
     ]
    }
   ],
   "source": [
    "jobid=\"4669801\"\n",
    "keyword=\"Max Read\"\n",
    "tt='KNL Direct IO, File per Process'\n",
    "dfknlr=ior_forjob(dir,jobid,keyword,tt,sb=\"segment\")"
   ]
  },
  {
   "cell_type": "code",
   "execution_count": 68,
   "metadata": {
    "collapsed": false
   },
   "outputs": [
    {
     "name": "stdout",
     "output_type": "stream",
     "text": [
      "['ior-r.0001x01.16.4669800.out', 'ior-r.0001x01.8.4669800.out', 'ior-r.0001x01.4.4669800.out', 'ior-r.0001x01.2.4669800.out', 'ior-r.0001x01.1.4669800.out']\n",
      "Number of Jobs:5\n",
      "Number of Completed Jobs:5\n",
      "sort by number of segments\n"
     ]
    }
   ],
   "source": [
    "jobid=\"4669800\"\n",
    "keyword=\"Max Read\"\n",
    "tt='HASWELL Direct IO, File per Process'\n",
    "dfhasr=ior_forjob(dir,jobid,keyword,tt,sb=\"segment\")"
   ]
  },
  {
   "cell_type": "code",
   "execution_count": 69,
   "metadata": {
    "collapsed": false
   },
   "outputs": [
    {
     "data": {
      "text/html": [
       "<div>\n",
       "<table border=\"1\" class=\"dataframe\">\n",
       "  <thead>\n",
       "    <tr style=\"text-align: right;\">\n",
       "      <th></th>\n",
       "      <th>writemax</th>\n",
       "      <th>seg</th>\n",
       "      <th>nodes</th>\n",
       "      <th>cores</th>\n",
       "      <th>nodecore</th>\n",
       "    </tr>\n",
       "  </thead>\n",
       "  <tbody>\n",
       "    <tr>\n",
       "      <th>0</th>\n",
       "      <td>34.19</td>\n",
       "      <td>1</td>\n",
       "      <td>1</td>\n",
       "      <td>1</td>\n",
       "      <td>1-1</td>\n",
       "    </tr>\n",
       "    <tr>\n",
       "      <th>1</th>\n",
       "      <td>34.04</td>\n",
       "      <td>2</td>\n",
       "      <td>1</td>\n",
       "      <td>1</td>\n",
       "      <td>1-1</td>\n",
       "    </tr>\n",
       "    <tr>\n",
       "      <th>2</th>\n",
       "      <td>34.79</td>\n",
       "      <td>4</td>\n",
       "      <td>1</td>\n",
       "      <td>1</td>\n",
       "      <td>1-1</td>\n",
       "    </tr>\n",
       "    <tr>\n",
       "      <th>3</th>\n",
       "      <td>33.31</td>\n",
       "      <td>8</td>\n",
       "      <td>1</td>\n",
       "      <td>1</td>\n",
       "      <td>1-1</td>\n",
       "    </tr>\n",
       "    <tr>\n",
       "      <th>4</th>\n",
       "      <td>32.24</td>\n",
       "      <td>16</td>\n",
       "      <td>1</td>\n",
       "      <td>1</td>\n",
       "      <td>1-1</td>\n",
       "    </tr>\n",
       "  </tbody>\n",
       "</table>\n",
       "</div>"
      ],
      "text/plain": [
       "   writemax  seg  nodes  cores nodecore\n",
       "0     34.19    1      1      1      1-1\n",
       "1     34.04    2      1      1      1-1\n",
       "2     34.79    4      1      1      1-1\n",
       "3     33.31    8      1      1      1-1\n",
       "4     32.24   16      1      1      1-1"
      ]
     },
     "execution_count": 69,
     "metadata": {},
     "output_type": "execute_result"
    }
   ],
   "source": [
    "dfknlr"
   ]
  },
  {
   "cell_type": "code",
   "execution_count": 70,
   "metadata": {
    "collapsed": false
   },
   "outputs": [
    {
     "data": {
      "text/html": [
       "<div>\n",
       "<table border=\"1\" class=\"dataframe\">\n",
       "  <thead>\n",
       "    <tr style=\"text-align: right;\">\n",
       "      <th></th>\n",
       "      <th>writemax</th>\n",
       "      <th>seg</th>\n",
       "      <th>nodes</th>\n",
       "      <th>cores</th>\n",
       "      <th>nodecore</th>\n",
       "    </tr>\n",
       "  </thead>\n",
       "  <tbody>\n",
       "    <tr>\n",
       "      <th>0</th>\n",
       "      <td>410.33</td>\n",
       "      <td>1</td>\n",
       "      <td>1</td>\n",
       "      <td>1</td>\n",
       "      <td>1-1</td>\n",
       "    </tr>\n",
       "    <tr>\n",
       "      <th>1</th>\n",
       "      <td>469.23</td>\n",
       "      <td>2</td>\n",
       "      <td>1</td>\n",
       "      <td>1</td>\n",
       "      <td>1-1</td>\n",
       "    </tr>\n",
       "    <tr>\n",
       "      <th>2</th>\n",
       "      <td>41.40</td>\n",
       "      <td>4</td>\n",
       "      <td>1</td>\n",
       "      <td>1</td>\n",
       "      <td>1-1</td>\n",
       "    </tr>\n",
       "    <tr>\n",
       "      <th>3</th>\n",
       "      <td>35.80</td>\n",
       "      <td>8</td>\n",
       "      <td>1</td>\n",
       "      <td>1</td>\n",
       "      <td>1-1</td>\n",
       "    </tr>\n",
       "    <tr>\n",
       "      <th>4</th>\n",
       "      <td>33.47</td>\n",
       "      <td>16</td>\n",
       "      <td>1</td>\n",
       "      <td>1</td>\n",
       "      <td>1-1</td>\n",
       "    </tr>\n",
       "  </tbody>\n",
       "</table>\n",
       "</div>"
      ],
      "text/plain": [
       "   writemax  seg  nodes  cores nodecore\n",
       "0    410.33    1      1      1      1-1\n",
       "1    469.23    2      1      1      1-1\n",
       "2     41.40    4      1      1      1-1\n",
       "3     35.80    8      1      1      1-1\n",
       "4     33.47   16      1      1      1-1"
      ]
     },
     "execution_count": 70,
     "metadata": {},
     "output_type": "execute_result"
    }
   ],
   "source": [
    "dfhasr"
   ]
  },
  {
   "cell_type": "markdown",
   "metadata": {},
   "source": [
    "# On Apr 23, Scratch Performance seems really bad"
   ]
  },
  {
   "cell_type": "code",
   "execution_count": null,
   "metadata": {
    "collapsed": true
   },
   "outputs": [],
   "source": []
  }
 ],
 "metadata": {
  "kernelspec": {
   "display_name": "Python 2",
   "language": "python",
   "name": "python2"
  },
  "language_info": {
   "codemirror_mode": {
    "name": "ipython",
    "version": 2
   },
   "file_extension": ".py",
   "mimetype": "text/x-python",
   "name": "python",
   "nbconvert_exporter": "python",
   "pygments_lexer": "ipython2",
   "version": "2.7.13"
  }
 },
 "nbformat": 4,
 "nbformat_minor": 2
}
